{
  "nbformat": 4,
  "nbformat_minor": 0,
  "metadata": {
    "colab": {
      "name": "Lauren Silsbee: data exploration II.ipynb",
      "provenance": [],
      "authorship_tag": "ABX9TyPbYCumUn8M0yuzJOStC9Sk",
      "include_colab_link": true
    },
    "kernelspec": {
      "name": "python3",
      "display_name": "Python 3"
    }
  },
  "cells": [
    {
      "cell_type": "markdown",
      "metadata": {
        "id": "view-in-github",
        "colab_type": "text"
      },
      "source": [
        "<a href=\"https://colab.research.google.com/github/lrsilsbee/Machine-Learning/blob/main/Lauren_Silsbee_data_exploration_II.ipynb\" target=\"_parent\"><img src=\"https://colab.research.google.com/assets/colab-badge.svg\" alt=\"Open In Colab\"/></a>"
      ]
    },
    {
      "cell_type": "code",
      "metadata": {
        "id": "pcvm5PLKKH8c"
      },
      "source": [
        "import pandas as pd\n",
        "import numpy as np\n",
        "from sqlalchemy import create_engine\n",
        "import matplotlib.pyplot as plt\n",
        "from scipy.stats.mstats import winsorize\n",
        "import warnings\n",
        "\n",
        "warnings.filterwarnings('ignore')\n",
        "postgres_user = 'dsbc_student'\n",
        "postgres_pw = '7*.8G9QH21'\n",
        "postgres_host = '142.93.121.174'\n",
        "postgres_port = '5432'\n",
        "postgres_db = 'studentsperformance'\n",
        "\n",
        "engine = create_engine('postgresql://{}:{}@{}:{}/{}'.format(\n",
        "    postgres_user, postgres_pw, postgres_host, postgres_port, postgres_db))\n",
        "\n",
        "performance_df = pd.read_sql_query('select * from studentsperformance',con=engine)\n",
        "engine.dispose()"
      ],
      "execution_count": null,
      "outputs": []
    },
    {
      "cell_type": "markdown",
      "metadata": {
        "id": "XYQUUFWHKgdk"
      },
      "source": [
        "Question 1: Are there any differences between the genders, ethnicities, and parental level of education with respect to their performances in exams?"
      ]
    },
    {
      "cell_type": "code",
      "metadata": {
        "id": "X9lmHN73KicW",
        "colab": {
          "base_uri": "https://localhost:8080/"
        },
        "outputId": "06e33b56-fa9c-4ea9-b8b4-1d63642ccf07"
      },
      "source": [
        "#Gender \n",
        "performance_df.groupby(\"gender\").mean()[[\"math score\", \"reading score\", \"writing score\"]]\n",
        "#There certainly seem to be differences. Let's see if it is significant\n",
        "from scipy.stats.stats import ttest_ind\n",
        "ttest_ind(performance_df[performance_df.gender == \"female\"][[\"math score\", \"reading score\", \"writing score\"]],\n",
        "          performance_df[performance_df.gender == \"male\"][[\"math score\", \"reading score\", \"writing score\"]])\n",
        "print('Female and male students differ in their math, reading, and writing scores.')\n",
        "\n",
        "#Ethnicity\n",
        "\n",
        "\n",
        "performance_df.groupby(\"race/ethnicity\").mean()[[\"math score\", \"reading score\", \"writing score\"]]\n",
        "#There is variation, see if it is significant:\n",
        "\n",
        "ethnicities = performance_df[\"race/ethnicity\"].unique()\n",
        "for var in [\"math score\", \"reading score\", \"writing score\"]:\n",
        "    print(\"Comparisons for  {}\".format(var))\n",
        "    for i in range(0, len(ethnicities)):\n",
        "        for j in range(i+1, len(ethnicities)):\n",
        "            print(\n",
        "                \"t-test between {0} and {1}:\".format(ethnicities[i], ethnicities[j]))\n",
        "            print(ttest_ind(\n",
        "                performance_df[performance_df[\"race/ethnicity\"]\n",
        "                           == ethnicities[i]][var],\n",
        "                performance_df[performance_df[\"race/ethnicity\"] == ethnicities[j]][var]\n",
        "            ))\n",
        "\n",
        "print('******************************************')\n",
        "#Parent education\n",
        "# Test whether group differences are significant.\n",
        "parent_ed = performance_df[\"parental level of education\"].unique()\n",
        "#grouped_df = student_df.groupby(\"parental level of education\")\n",
        "for var in [\"math score\", \"reading score\", \"writing score\"]:\n",
        "    print(\"------------------------------------------------\")\n",
        "    print(\"Comparisons for variable: {}\".format(var))\n",
        "    print(\"------------------------------------------------\")\n",
        "    for i in range(0, len(parent_ed)):\n",
        "        for j in range(i+1, len(parent_ed)):\n",
        "            print(\n",
        "                \"t-test between groups {0} and {1}:\".format(parent_ed[i], parent_ed[j]))\n",
        "            print(ttest_ind(\n",
        "                performance_df[performance_df[\"parental level of education\"]\n",
        "                           == parent_ed[i]][var],\n",
        "                performance_df[performance_df[\"parental level of education\"]\n",
        "                           == parent_ed[j]][var]\n",
        "            ))"
      ],
      "execution_count": null,
      "outputs": [
        {
          "output_type": "stream",
          "text": [
            "Female and male students differ in their math, reading, and writing scores.\n",
            "Comparisons for  math score\n",
            "t-test between group B and group C:\n",
            "Ttest_indResult(statistic=-0.7315669893534263, pvalue=0.4647708939167453)\n",
            "t-test between group B and group A:\n",
            "Ttest_indResult(statistic=0.9355076279747488, pvalue=0.3503415961659957)\n",
            "t-test between group B and group D:\n",
            "Ttest_indResult(statistic=-2.82845539712675, pvalue=0.004886197137104194)\n",
            "t-test between group B and group E:\n",
            "Ttest_indResult(statistic=-6.007397050552227, pvalue=5.007946047497971e-09)\n",
            "t-test between group C and group A:\n",
            "Ttest_indResult(statistic=1.5997220303217299, pvalue=0.11043810745588042)\n",
            "t-test between group C and group D:\n",
            "Ttest_indResult(statistic=-2.41858624746011, pvalue=0.015888349556016285)\n",
            "t-test between group C and group E:\n",
            "Ttest_indResult(statistic=-6.127642520822135, pvalue=1.927238849552764e-09)\n",
            "t-test between group A and group D:\n",
            "Ttest_indResult(statistic=-3.3466982429712298, pvalue=0.0009068636053543751)\n",
            "t-test between group A and group E:\n",
            "Ttest_indResult(statistic=-5.936141025544798, pvalue=1.083559122656415e-08)\n",
            "t-test between group D and group E:\n",
            "Ttest_indResult(statistic=-4.282287214674715, pvalue=2.3187640326715042e-05)\n",
            "Comparisons for  reading score\n",
            "t-test between group B and group C:\n",
            "Ttest_indResult(statistic=-1.3223156212901772, pvalue=0.1866592809035069)\n",
            "t-test between group B and group A:\n",
            "Ttest_indResult(statistic=1.3633682262027682, pvalue=0.1738735513443721)\n",
            "t-test between group B and group D:\n",
            "Ttest_indResult(statistic=-1.9451563636864795, pvalue=0.0523786206559701)\n",
            "t-test between group B and group E:\n",
            "Ttest_indResult(statistic=-3.386066945409153, pvalue=0.0007951618495240944)\n",
            "t-test between group C and group A:\n",
            "Ttest_indResult(statistic=2.575432218066352, pvalue=0.010364398025471079)\n",
            "t-test between group C and group D:\n",
            "Ttest_indResult(statistic=-0.7970109316408917, pvalue=0.425771382113019)\n",
            "t-test between group C and group E:\n",
            "Ttest_indResult(statistic=-2.7133018645371685, pvalue=0.0069132842804986595)\n",
            "t-test between group A and group D:\n",
            "Ttest_indResult(statistic=-3.0468548573461187, pvalue=0.002488654464332207)\n",
            "t-test between group A and group E:\n",
            "Ttest_indResult(statistic=-4.071106227981414, pvalue=6.463395931833847e-05)\n",
            "t-test between group D and group E:\n",
            "Ttest_indResult(statistic=-2.0106479406031794, pvalue=0.045033306431345586)\n",
            "Comparisons for  writing score\n",
            "t-test between group B and group C:\n",
            "Ttest_indResult(statistic=-1.5964963433740407, pvalue=0.1110010959814519)\n",
            "t-test between group B and group A:\n",
            "Ttest_indResult(statistic=1.4624420577998105, pvalue=0.14475374198993884)\n",
            "t-test between group B and group D:\n",
            "Ttest_indResult(statistic=-3.19929333232526, pvalue=0.0014749978881319053)\n",
            "t-test between group B and group E:\n",
            "Ttest_indResult(statistic=-3.3831978345244518, pvalue=0.0008032300486353951)\n",
            "t-test between group C and group A:\n",
            "Ttest_indResult(statistic=2.848872404992454, pvalue=0.004610690740740428)\n",
            "t-test between group C and group D:\n",
            "Ttest_indResult(statistic=-1.8896631516726248, pvalue=0.05930232918708209)\n",
            "t-test between group C and group E:\n",
            "Ttest_indResult(statistic=-2.3502811868359177, pvalue=0.019183539018898285)\n",
            "t-test between group A and group D:\n",
            "Ttest_indResult(statistic=-4.1556316361449195, pvalue=4.084805733969806e-05)\n",
            "t-test between group A and group E:\n",
            "Ttest_indResult(statistic=-4.2234736631970105, pvalue=3.483278064499439e-05)\n",
            "t-test between group D and group E:\n",
            "Ttest_indResult(statistic=-0.8239736571520918, pvalue=0.4104455517392258)\n",
            "******************************************\n",
            "------------------------------------------------\n",
            "Comparisons for variable: math score\n",
            "------------------------------------------------\n",
            "t-test between groups bachelor's degree and some college:\n",
            "Ttest_indResult(statistic=1.3702352829617477, pvalue=0.17151224218471559)\n",
            "t-test between groups bachelor's degree and master's degree:\n",
            "Ttest_indResult(statistic=-0.14868196568849312, pvalue=0.8819757824867702)\n",
            "t-test between groups bachelor's degree and associate's degree:\n",
            "Ttest_indResult(statistic=0.8786641889793243, pvalue=0.38020757818036177)\n",
            "t-test between groups bachelor's degree and high school:\n",
            "Ttest_indResult(statistic=4.236143622484822, pvalue=2.9965345853843376e-05)\n",
            "t-test between groups bachelor's degree and some high school:\n",
            "Ttest_indResult(statistic=3.196718602676573, pvalue=0.0015409192922812146)\n",
            "t-test between groups some college and master's degree:\n",
            "Ttest_indResult(statistic=-1.2356334215824571, pvalue=0.21761956810347416)\n",
            "t-test between groups some college and associate's degree:\n",
            "Ttest_indResult(statistic=-0.5426842696247527, pvalue=0.5876182809234072)\n",
            "t-test between groups some college and high school:\n",
            "Ttest_indResult(statistic=3.5461079495681163, pvalue=0.00043498004192453146)\n",
            "t-test between groups some college and some high school:\n",
            "Ttest_indResult(statistic=2.4117046231407633, pvalue=0.016324361572645503)\n",
            "t-test between groups master's degree and associate's degree:\n",
            "Ttest_indResult(statistic=0.8411229688563471, pvalue=0.4009993636124658)\n",
            "t-test between groups master's degree and high school:\n",
            "Ttest_indResult(statistic=3.4893759321890823, pvalue=0.000570929230228812)\n",
            "t-test between groups master's degree and some high school:\n",
            "Ttest_indResult(statistic=2.6442572081925526, pvalue=0.008736228790471057)\n",
            "t-test between groups associate's degree and high school:\n",
            "Ttest_indResult(statistic=3.9481325318265013, pvalue=9.247314274963044e-05)\n",
            "t-test between groups associate's degree and some high school:\n",
            "Ttest_indResult(statistic=2.820053979930256, pvalue=0.005041081492906143)\n",
            "t-test between groups high school and some high school:\n",
            "Ttest_indResult(statistic=-0.8640629490772553, pvalue=0.388108610360687)\n",
            "------------------------------------------------\n",
            "Comparisons for variable: reading score\n",
            "------------------------------------------------\n",
            "t-test between groups bachelor's degree and some college:\n",
            "Ttest_indResult(statistic=2.2048821209085077, pvalue=0.028127555314401052)\n",
            "t-test between groups bachelor's degree and master's degree:\n",
            "Ttest_indResult(statistic=-1.0540858949475984, pvalue=0.293296751317879)\n",
            "t-test between groups bachelor's degree and associate's degree:\n",
            "Ttest_indResult(statistic=1.2977969850452833, pvalue=0.19524206483091092)\n",
            "t-test between groups bachelor's degree and high school:\n",
            "Ttest_indResult(statistic=5.017577900835298, pvalue=8.804250310784477e-07)\n",
            "t-test between groups bachelor's degree and some high school:\n",
            "Ttest_indResult(statistic=3.4039270673798745, pvalue=0.0007561971719730451)\n",
            "t-test between groups some college and master's degree:\n",
            "Ttest_indResult(statistic=-2.888843374950649, pvalue=0.004165440800640354)\n",
            "t-test between groups some college and associate's degree:\n",
            "Ttest_indResult(statistic=-1.11231882169149, pvalue=0.26660028539980146)\n",
            "t-test between groups some college and high school:\n",
            "Ttest_indResult(statistic=3.4578427683620334, pvalue=0.0006001048481252139)\n",
            "t-test between groups some college and some high school:\n",
            "Ttest_indResult(statistic=1.714161972758909, pvalue=0.08726786856243877)\n",
            "t-test between groups master's degree and associate's degree:\n",
            "Ttest_indResult(statistic=2.1912015759838686, pvalue=0.02926414570972208)\n",
            "t-test between groups master's degree and high school:\n",
            "Ttest_indResult(statistic=5.113158728723477, pvalue=6.257558119816884e-07)\n",
            "t-test between groups master's degree and some high school:\n",
            "Ttest_indResult(statistic=3.7261574122231513, pvalue=0.00024334552617191513)\n",
            "t-test between groups associate's degree and high school:\n",
            "Ttest_indResult(statistic=4.538021419898997, pvalue=7.442167797135797e-06)\n",
            "t-test between groups associate's degree and some high school:\n",
            "Ttest_indResult(statistic=2.7183602204037927, pvalue=0.006846770119677965)\n",
            "t-test between groups high school and some high school:\n",
            "Ttest_indResult(statistic=-1.461284757591555, pvalue=0.1447791955248275)\n",
            "------------------------------------------------\n",
            "Comparisons for variable: writing score\n",
            "------------------------------------------------\n",
            "t-test between groups bachelor's degree and some college:\n",
            "Ttest_indResult(statistic=2.6803314684632196, pvalue=0.00771101202367254)\n",
            "t-test between groups bachelor's degree and master's degree:\n",
            "Ttest_indResult(statistic=-0.9998741306804844, pvalue=0.3187519641464658)\n",
            "t-test between groups bachelor's degree and associate's degree:\n",
            "Ttest_indResult(statistic=2.1159296639133762, pvalue=0.03508162451719667)\n",
            "t-test between groups bachelor's degree and high school:\n",
            "Ttest_indResult(statistic=6.547380937127048, pvalue=2.4076253789515874e-10)\n",
            "t-test between groups bachelor's degree and some high school:\n",
            "Ttest_indResult(statistic=4.667733097498242, pvalue=4.628198526834338e-06)\n",
            "t-test between groups some college and master's degree:\n",
            "Ttest_indResult(statistic=-3.1687690632394907, pvalue=0.0016985933135959495)\n",
            "t-test between groups some college and associate's degree:\n",
            "Ttest_indResult(statistic=-0.7615968643953912, pvalue=0.44670316603036575)\n",
            "t-test between groups some college and high school:\n",
            "Ttest_indResult(statistic=4.488520877492127, pvalue=9.275017802620877e-06)\n",
            "t-test between groups some college and some high school:\n",
            "Ttest_indResult(statistic=2.5757211403792417, pvalue=0.010358529086081357)\n",
            "t-test between groups master's degree and associate's degree:\n",
            "Ttest_indResult(statistic=2.78124154906855, pvalue=0.00578403270525775)\n",
            "t-test between groups master's degree and high school:\n",
            "Ttest_indResult(statistic=6.360904883721531, pvalue=9.326930296880332e-10)\n",
            "t-test between groups master's degree and some high school:\n",
            "Ttest_indResult(statistic=4.707583817143559, pvalue=4.275465153074631e-06)\n",
            "t-test between groups associate's degree and high school:\n",
            "Ttest_indResult(statistic=5.348725635626432, pvalue=1.4650545536741998e-07)\n",
            "t-test between groups associate's degree and some high school:\n",
            "Ttest_indResult(statistic=3.3317223453475715, pvalue=0.0009435990258795855)\n",
            "t-test between groups high school and some high school:\n",
            "Ttest_indResult(statistic=-1.5838885273076473, pvalue=0.11406653932963291)\n"
          ],
          "name": "stdout"
        }
      ]
    },
    {
      "cell_type": "markdown",
      "metadata": {
        "id": "EXQbegGAKokN"
      },
      "source": [
        "Question 2: Are there any differences between the lunch types with respect to their performances in exams? If there are, how do you explain this?"
      ]
    },
    {
      "cell_type": "code",
      "metadata": {
        "id": "Di6GGgOXKubC",
        "colab": {
          "base_uri": "https://localhost:8080/"
        },
        "outputId": "6353ee76-ebc4-4876-8523-a2d134d0fd72"
      },
      "source": [
        "performance_df.groupby(\"lunch\").mean()[[\"math score\", \"reading score\", \"writing score\"]]\n",
        "#looks like the kids on free/reduced lunch score lower\n",
        "#lets see if it is significant \n",
        "\n",
        "\n",
        "print(ttest_ind(performance_df[performance_df.lunch == \"free/reduced\"][[\"math score\", \"reading score\", \"writing score\"]],\n",
        "          performance_df[performance_df.lunch == \"standard\"][[\"math score\", \"reading score\", \"writing score\"]]))\n",
        "\n",
        "print('Yes, this is a significant difference. It appears that the children from lower income homes score lower on the tests.')"
      ],
      "execution_count": null,
      "outputs": [
        {
          "output_type": "stream",
          "text": [
            "Ttest_indResult(statistic=array([-11.83718047,  -7.45105647,  -8.0097842 ]), pvalue=array([2.41319560e-30, 2.00279665e-13, 3.18618958e-15]))\n",
            "Yes, this is a significant difference. It appears that the children from lower income homes score lower on the tests.\n"
          ],
          "name": "stdout"
        }
      ]
    },
    {
      "cell_type": "markdown",
      "metadata": {
        "id": "rH9wTq_tKzBS"
      },
      "source": [
        "Question 3: Does the test preparation course seem to have an effect on the exam performances?"
      ]
    },
    {
      "cell_type": "code",
      "metadata": {
        "id": "k2w9z5fKK1u7",
        "colab": {
          "base_uri": "https://localhost:8080/"
        },
        "outputId": "0217f813-c25c-43a7-8dbb-79996ec0afc3"
      },
      "source": [
        "performance_df.head()\n",
        "# 'test preparation course' 'none' or 'completed' \n",
        "performance_df.groupby(\"test preparation course\").mean()[[\"math score\", \"reading score\", \"writing score\"]]\n",
        "print('Yes, there seems to be a difference.')\n",
        "\n",
        "#Check for significance:\n",
        "print(ttest_ind(performance_df[performance_df['test preparation course'] == \"completed\"][[\"math score\", \"reading score\", \"writing score\"]],\n",
        "          performance_df[performance_df['test preparation course'] == \"none\"][[\"math score\", \"reading score\", \"writing score\"]]))\n",
        "print('The test preparation course had a significant effect on exam performance.')"
      ],
      "execution_count": null,
      "outputs": [
        {
          "output_type": "stream",
          "text": [
            "Yes, there seems to be a difference.\n",
            "Ttest_indResult(statistic=array([ 5.70461642,  7.87166354, 10.40917344]), pvalue=array([1.53591346e-08, 9.08178334e-15, 3.68529174e-24]))\n",
            "The test preparation course had a significant effect on exam performance.\n"
          ],
          "name": "stdout"
        }
      ]
    },
    {
      "cell_type": "markdown",
      "metadata": {
        "id": "xNQBbQ2DK62B"
      },
      "source": [
        "Question 4: Which 2 exam scores are most correlated with each other?"
      ]
    },
    {
      "cell_type": "code",
      "metadata": {
        "id": "N-Fa9YynK8Uo",
        "colab": {
          "base_uri": "https://localhost:8080/"
        },
        "outputId": "56ba2b09-c8af-4d62-f41d-24ce05c03c94"
      },
      "source": [
        "print(performance_df.corr())\n",
        "print('Writing and Reading scores are most correlated with each other.')"
      ],
      "execution_count": null,
      "outputs": [
        {
          "output_type": "stream",
          "text": [
            "               math score  reading score  writing score\n",
            "math score       1.000000       0.817580       0.802642\n",
            "reading score    0.817580       1.000000       0.954598\n",
            "writing score    0.802642       0.954598       1.000000\n",
            "Writing and Reading scores are most correlated with each other.\n"
          ],
          "name": "stdout"
        }
      ]
    }
  ]
}