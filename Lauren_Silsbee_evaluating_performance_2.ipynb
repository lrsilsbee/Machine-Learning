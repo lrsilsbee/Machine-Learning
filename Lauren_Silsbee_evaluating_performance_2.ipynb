{
  "nbformat": 4,
  "nbformat_minor": 0,
  "metadata": {
    "colab": {
      "name": "Lauren Silsbee: evaluating performance 2.ipynb",
      "provenance": [],
      "authorship_tag": "ABX9TyP5yBakg78tcn/Oa6Csux1f",
      "include_colab_link": true
    },
    "kernelspec": {
      "name": "python3",
      "display_name": "Python 3"
    }
  },
  "cells": [
    {
      "cell_type": "markdown",
      "metadata": {
        "id": "view-in-github",
        "colab_type": "text"
      },
      "source": [
        "<a href=\"https://colab.research.google.com/github/lrsilsbee/Machine-Learning/blob/main/Lauren_Silsbee_evaluating_performance_2.ipynb\" target=\"_parent\"><img src=\"https://colab.research.google.com/assets/colab-badge.svg\" alt=\"Open In Colab\"/></a>"
      ]
    },
    {
      "cell_type": "markdown",
      "metadata": {
        "id": "jkn771jYgvmG"
      },
      "source": [
        "Load the houseprices data from Thinkful's database.\n",
        "Run your house prices model again and assess the goodness of fit of your model using F-test, R-squared, adjusted R-squared, AIC and BIC.\n",
        "Do you think your model is satisfactory? If so, why?"
      ]
    },
    {
      "cell_type": "code",
      "metadata": {
        "id": "CvFpvAKsf9iF"
      },
      "source": [
        "import numpy as np\n",
        "import pandas as pd\n",
        "import matplotlib.pyplot as plt\n",
        "from sqlalchemy import create_engine\n",
        "import statsmodels.api as sm\n",
        "\n",
        "import warnings\n",
        "warnings.filterwarnings('ignore')\n",
        "\n",
        "postgres_user = 'dsbc_student'\n",
        "postgres_pw = '7*.8G9QH21'\n",
        "postgres_host = '142.93.121.174'\n",
        "postgres_port = '5432'\n",
        "postgres_db = 'houseprices'\n",
        "engine = create_engine('postgresql://{}:{}@{}:{}/{}'.format(\n",
        "    postgres_user, postgres_pw, postgres_host, postgres_port, postgres_db))\n",
        "houseprices_df = pd.read_sql_query('select * from houseprices',con=engine)\n",
        "engine.dispose()"
      ],
      "execution_count": null,
      "outputs": []
    },
    {
      "cell_type": "code",
      "metadata": {
        "id": "OkcHE7Stg-OB",
        "colab": {
          "base_uri": "https://localhost:8080/",
          "height": 604
        },
        "outputId": "dd1e7559-d773-4fa9-9231-27459fc551cf"
      },
      "source": [
        "#create dummies first\n",
        "houseprices_df = pd.concat([houseprices_df,pd.get_dummies(houseprices_df.centralair, prefix=\"centralair\", drop_first=True)], axis=1)\n",
        "houseprices_df = pd.concat([houseprices_df,pd.get_dummies(houseprices_df.street, prefix=\"street\", drop_first=True)], axis=1)\n",
        "dummy_column_names = list(pd.get_dummies(houseprices_df.centralair, prefix=\"centralair\", drop_first=True).columns)\n",
        "dummy_column_names = dummy_column_names + list(pd.get_dummies(houseprices_df.street, prefix=\"street\", drop_first=True).columns)\n",
        "\n",
        "#build model\n",
        "\n",
        "Y = houseprices_df['saleprice']\n",
        "X = houseprices_df[['garagecars', 'grlivarea', 'overallqual'] + dummy_column_names]\n",
        "\n",
        "X = sm.add_constant(X)\n",
        "\n",
        "results = sm.OLS(Y, X).fit()\n",
        "\n",
        "results.summary()"
      ],
      "execution_count": null,
      "outputs": [
        {
          "output_type": "execute_result",
          "data": {
            "text/html": [
              "<table class=\"simpletable\">\n",
              "<caption>OLS Regression Results</caption>\n",
              "<tr>\n",
              "  <th>Dep. Variable:</th>        <td>saleprice</td>    <th>  R-squared:         </th> <td>   0.741</td> \n",
              "</tr>\n",
              "<tr>\n",
              "  <th>Model:</th>                   <td>OLS</td>       <th>  Adj. R-squared:    </th> <td>   0.740</td> \n",
              "</tr>\n",
              "<tr>\n",
              "  <th>Method:</th>             <td>Least Squares</td>  <th>  F-statistic:       </th> <td>   833.2</td> \n",
              "</tr>\n",
              "<tr>\n",
              "  <th>Date:</th>             <td>Tue, 10 Nov 2020</td> <th>  Prob (F-statistic):</th>  <td>  0.00</td>  \n",
              "</tr>\n",
              "<tr>\n",
              "  <th>Time:</th>                 <td>14:16:44</td>     <th>  Log-Likelihood:    </th> <td> -17557.</td> \n",
              "</tr>\n",
              "<tr>\n",
              "  <th>No. Observations:</th>      <td>  1460</td>      <th>  AIC:               </th> <td>3.513e+04</td>\n",
              "</tr>\n",
              "<tr>\n",
              "  <th>Df Residuals:</th>          <td>  1454</td>      <th>  BIC:               </th> <td>3.516e+04</td>\n",
              "</tr>\n",
              "<tr>\n",
              "  <th>Df Model:</th>              <td>     5</td>      <th>                     </th>     <td> </td>    \n",
              "</tr>\n",
              "<tr>\n",
              "  <th>Covariance Type:</th>      <td>nonrobust</td>    <th>                     </th>     <td> </td>    \n",
              "</tr>\n",
              "</table>\n",
              "<table class=\"simpletable\">\n",
              "<tr>\n",
              "        <td></td>          <th>coef</th>     <th>std err</th>      <th>t</th>      <th>P>|t|</th>  <th>[0.025</th>    <th>0.975]</th>  \n",
              "</tr>\n",
              "<tr>\n",
              "  <th>const</th>        <td>-1.086e+05</td> <td> 1.71e+04</td> <td>   -6.364</td> <td> 0.000</td> <td>-1.42e+05</td> <td>-7.51e+04</td>\n",
              "</tr>\n",
              "<tr>\n",
              "  <th>garagecars</th>   <td>  2.06e+04</td> <td> 1817.061</td> <td>   11.338</td> <td> 0.000</td> <td>  1.7e+04</td> <td> 2.42e+04</td>\n",
              "</tr>\n",
              "<tr>\n",
              "  <th>grlivarea</th>    <td>   51.6233</td> <td>    2.558</td> <td>   20.181</td> <td> 0.000</td> <td>   46.605</td> <td>   56.641</td>\n",
              "</tr>\n",
              "<tr>\n",
              "  <th>overallqual</th>  <td> 2.635e+04</td> <td> 1091.545</td> <td>   24.139</td> <td> 0.000</td> <td> 2.42e+04</td> <td> 2.85e+04</td>\n",
              "</tr>\n",
              "<tr>\n",
              "  <th>centralair_Y</th> <td> 7937.6163</td> <td> 2258.425</td> <td>    3.515</td> <td> 0.000</td> <td> 3507.496</td> <td> 1.24e+04</td>\n",
              "</tr>\n",
              "<tr>\n",
              "  <th>centralair_Y</th> <td> 7937.6163</td> <td> 2258.425</td> <td>    3.515</td> <td> 0.000</td> <td> 3507.496</td> <td> 1.24e+04</td>\n",
              "</tr>\n",
              "<tr>\n",
              "  <th>street_Pave</th>  <td> -358.1762</td> <td> 8334.331</td> <td>   -0.043</td> <td> 0.966</td> <td>-1.67e+04</td> <td>  1.6e+04</td>\n",
              "</tr>\n",
              "<tr>\n",
              "  <th>street_Pave</th>  <td> -358.1762</td> <td> 8334.331</td> <td>   -0.043</td> <td> 0.966</td> <td>-1.67e+04</td> <td>  1.6e+04</td>\n",
              "</tr>\n",
              "</table>\n",
              "<table class=\"simpletable\">\n",
              "<tr>\n",
              "  <th>Omnibus:</th>       <td>438.984</td> <th>  Durbin-Watson:     </th> <td>   1.996</td> \n",
              "</tr>\n",
              "<tr>\n",
              "  <th>Prob(Omnibus):</th> <td> 0.000</td>  <th>  Jarque-Bera (JB):  </th> <td>10184.406</td>\n",
              "</tr>\n",
              "<tr>\n",
              "  <th>Skew:</th>          <td> 0.845</td>  <th>  Prob(JB):          </th> <td>    0.00</td> \n",
              "</tr>\n",
              "<tr>\n",
              "  <th>Kurtosis:</th>      <td>15.828</td>  <th>  Cond. No.          </th> <td>2.00e+19</td> \n",
              "</tr>\n",
              "</table><br/><br/>Warnings:<br/>[1] Standard Errors assume that the covariance matrix of the errors is correctly specified.<br/>[2] The smallest eigenvalue is 9.42e-30. This might indicate that there are<br/>strong multicollinearity problems or that the design matrix is singular."
            ],
            "text/plain": [
              "<class 'statsmodels.iolib.summary.Summary'>\n",
              "\"\"\"\n",
              "                            OLS Regression Results                            \n",
              "==============================================================================\n",
              "Dep. Variable:              saleprice   R-squared:                       0.741\n",
              "Model:                            OLS   Adj. R-squared:                  0.740\n",
              "Method:                 Least Squares   F-statistic:                     833.2\n",
              "Date:                Tue, 10 Nov 2020   Prob (F-statistic):               0.00\n",
              "Time:                        14:16:44   Log-Likelihood:                -17557.\n",
              "No. Observations:                1460   AIC:                         3.513e+04\n",
              "Df Residuals:                    1454   BIC:                         3.516e+04\n",
              "Df Model:                           5                                         \n",
              "Covariance Type:            nonrobust                                         \n",
              "================================================================================\n",
              "                   coef    std err          t      P>|t|      [0.025      0.975]\n",
              "--------------------------------------------------------------------------------\n",
              "const        -1.086e+05   1.71e+04     -6.364      0.000   -1.42e+05   -7.51e+04\n",
              "garagecars     2.06e+04   1817.061     11.338      0.000     1.7e+04    2.42e+04\n",
              "grlivarea       51.6233      2.558     20.181      0.000      46.605      56.641\n",
              "overallqual   2.635e+04   1091.545     24.139      0.000    2.42e+04    2.85e+04\n",
              "centralair_Y  7937.6163   2258.425      3.515      0.000    3507.496    1.24e+04\n",
              "centralair_Y  7937.6163   2258.425      3.515      0.000    3507.496    1.24e+04\n",
              "street_Pave   -358.1762   8334.331     -0.043      0.966   -1.67e+04     1.6e+04\n",
              "street_Pave   -358.1762   8334.331     -0.043      0.966   -1.67e+04     1.6e+04\n",
              "==============================================================================\n",
              "Omnibus:                      438.984   Durbin-Watson:                   1.996\n",
              "Prob(Omnibus):                  0.000   Jarque-Bera (JB):            10184.406\n",
              "Skew:                           0.845   Prob(JB):                         0.00\n",
              "Kurtosis:                      15.828   Cond. No.                     2.00e+19\n",
              "==============================================================================\n",
              "\n",
              "Warnings:\n",
              "[1] Standard Errors assume that the covariance matrix of the errors is correctly specified.\n",
              "[2] The smallest eigenvalue is 9.42e-30. This might indicate that there are\n",
              "strong multicollinearity problems or that the design matrix is singular.\n",
              "\"\"\""
            ]
          },
          "metadata": {
            "tags": []
          },
          "execution_count": 4
        }
      ]
    },
    {
      "cell_type": "markdown",
      "metadata": {
        "id": "LVU_9mgchEyX"
      },
      "source": [
        "The Adj. R Squared (.74) and R Squared (.741) indicate that this model explains 74% of the variance in Y. This is decent (and certainly better than the weather model's explanatory model) but can be improved. The F statistic is significant (p < .05), which tell us that this model explains more variance in Y than a reduced model does. The AIC is 3.513e+04 and the BIC is 3.516e+04."
      ]
    },
    {
      "cell_type": "markdown",
      "metadata": {
        "id": "g1IUjvHGhG3l"
      },
      "source": [
        "In order to improve the goodness of fit of your model, try different model specifications by adding or removing some variables."
      ]
    },
    {
      "cell_type": "code",
      "metadata": {
        "id": "evPQZlNIhJJX",
        "colab": {
          "base_uri": "https://localhost:8080/"
        },
        "outputId": "2065a844-ac19-4b67-8123-634f222e487e"
      },
      "source": [
        "#Review correlations\n",
        "\n",
        "numeric_columns = houseprices_df.select_dtypes(['int64', 'float64']).columns\n",
        "np.abs(houseprices_df[numeric_columns].iloc[:,1:].corr().loc[:,\"saleprice\"]).sort_values(ascending=False)"
      ],
      "execution_count": null,
      "outputs": [
        {
          "output_type": "execute_result",
          "data": {
            "text/plain": [
              "saleprice        1.000000\n",
              "overallqual      0.790982\n",
              "grlivarea        0.708624\n",
              "garagecars       0.640409\n",
              "garagearea       0.623431\n",
              "totalbsmtsf      0.613581\n",
              "firstflrsf       0.605852\n",
              "fullbath         0.560664\n",
              "totrmsabvgrd     0.533723\n",
              "yearbuilt        0.522897\n",
              "yearremodadd     0.507101\n",
              "garageyrblt      0.486362\n",
              "masvnrarea       0.477493\n",
              "fireplaces       0.466929\n",
              "bsmtfinsf1       0.386420\n",
              "lotfrontage      0.351799\n",
              "wooddecksf       0.324413\n",
              "secondflrsf      0.319334\n",
              "openporchsf      0.315856\n",
              "halfbath         0.284108\n",
              "lotarea          0.263843\n",
              "bsmtfullbath     0.227122\n",
              "bsmtunfsf        0.214479\n",
              "bedroomabvgr     0.168213\n",
              "kitchenabvgr     0.135907\n",
              "enclosedporch    0.128578\n",
              "screenporch      0.111447\n",
              "poolarea         0.092404\n",
              "mssubclass       0.084284\n",
              "overallcond      0.077856\n",
              "mosold           0.046432\n",
              "threessnporch    0.044584\n",
              "yrsold           0.028923\n",
              "lowqualfinsf     0.025606\n",
              "miscval          0.021190\n",
              "bsmthalfbath     0.016844\n",
              "bsmtfinsf2       0.011378\n",
              "Name: saleprice, dtype: float64"
            ]
          },
          "metadata": {
            "tags": []
          },
          "execution_count": 5
        }
      ]
    },
    {
      "cell_type": "markdown",
      "metadata": {
        "id": "Oq7buI6XhLy-"
      },
      "source": [
        "totalbsmtsf is correlated with the target. Let's try including that variable into the model."
      ]
    },
    {
      "cell_type": "code",
      "metadata": {
        "id": "xFTARW6zhSBs",
        "colab": {
          "base_uri": "https://localhost:8080/",
          "height": 625
        },
        "outputId": "d8c35e34-a770-4b29-f7db-c21a65fd6030"
      },
      "source": [
        "Y = houseprices_df['saleprice']\n",
        "X = houseprices_df[['garagecars', 'grlivarea', 'overallqual', 'totalbsmtsf'] + dummy_column_names]\n",
        "\n",
        "X = sm.add_constant(X)\n",
        "\n",
        "results = sm.OLS(Y, X).fit()\n",
        "\n",
        "results.summary()"
      ],
      "execution_count": null,
      "outputs": [
        {
          "output_type": "execute_result",
          "data": {
            "text/html": [
              "<table class=\"simpletable\">\n",
              "<caption>OLS Regression Results</caption>\n",
              "<tr>\n",
              "  <th>Dep. Variable:</th>        <td>saleprice</td>    <th>  R-squared:         </th> <td>   0.762</td> \n",
              "</tr>\n",
              "<tr>\n",
              "  <th>Model:</th>                   <td>OLS</td>       <th>  Adj. R-squared:    </th> <td>   0.761</td> \n",
              "</tr>\n",
              "<tr>\n",
              "  <th>Method:</th>             <td>Least Squares</td>  <th>  F-statistic:       </th> <td>   774.9</td> \n",
              "</tr>\n",
              "<tr>\n",
              "  <th>Date:</th>             <td>Tue, 10 Nov 2020</td> <th>  Prob (F-statistic):</th>  <td>  0.00</td>  \n",
              "</tr>\n",
              "<tr>\n",
              "  <th>Time:</th>                 <td>14:17:52</td>     <th>  Log-Likelihood:    </th> <td> -17496.</td> \n",
              "</tr>\n",
              "<tr>\n",
              "  <th>No. Observations:</th>      <td>  1460</td>      <th>  AIC:               </th> <td>3.501e+04</td>\n",
              "</tr>\n",
              "<tr>\n",
              "  <th>Df Residuals:</th>          <td>  1453</td>      <th>  BIC:               </th> <td>3.504e+04</td>\n",
              "</tr>\n",
              "<tr>\n",
              "  <th>Df Model:</th>              <td>     6</td>      <th>                     </th>     <td> </td>    \n",
              "</tr>\n",
              "<tr>\n",
              "  <th>Covariance Type:</th>      <td>nonrobust</td>    <th>                     </th>     <td> </td>    \n",
              "</tr>\n",
              "</table>\n",
              "<table class=\"simpletable\">\n",
              "<tr>\n",
              "        <td></td>          <th>coef</th>     <th>std err</th>      <th>t</th>      <th>P>|t|</th>  <th>[0.025</th>    <th>0.975]</th>  \n",
              "</tr>\n",
              "<tr>\n",
              "  <th>const</th>        <td>-1.116e+05</td> <td> 1.64e+04</td> <td>   -6.819</td> <td> 0.000</td> <td>-1.44e+05</td> <td>-7.95e+04</td>\n",
              "</tr>\n",
              "<tr>\n",
              "  <th>garagecars</th>   <td> 1.816e+04</td> <td> 1757.247</td> <td>   10.333</td> <td> 0.000</td> <td> 1.47e+04</td> <td> 2.16e+04</td>\n",
              "</tr>\n",
              "<tr>\n",
              "  <th>grlivarea</th>    <td>   46.4221</td> <td>    2.498</td> <td>   18.583</td> <td> 0.000</td> <td>   41.522</td> <td>   51.322</td>\n",
              "</tr>\n",
              "<tr>\n",
              "  <th>overallqual</th>  <td> 2.305e+04</td> <td> 1087.838</td> <td>   21.193</td> <td> 0.000</td> <td> 2.09e+04</td> <td> 2.52e+04</td>\n",
              "</tr>\n",
              "<tr>\n",
              "  <th>totalbsmtsf</th>  <td>   31.9073</td> <td>    2.844</td> <td>   11.221</td> <td> 0.000</td> <td>   26.329</td> <td>   37.485</td>\n",
              "</tr>\n",
              "<tr>\n",
              "  <th>centralair_Y</th> <td> 5883.7888</td> <td> 2174.967</td> <td>    2.705</td> <td> 0.007</td> <td> 1617.377</td> <td> 1.02e+04</td>\n",
              "</tr>\n",
              "<tr>\n",
              "  <th>centralair_Y</th> <td> 5883.7888</td> <td> 2174.967</td> <td>    2.705</td> <td> 0.007</td> <td> 1617.377</td> <td> 1.02e+04</td>\n",
              "</tr>\n",
              "<tr>\n",
              "  <th>street_Pave</th>  <td> 2391.0829</td> <td> 8001.622</td> <td>    0.299</td> <td> 0.765</td> <td>-1.33e+04</td> <td> 1.81e+04</td>\n",
              "</tr>\n",
              "<tr>\n",
              "  <th>street_Pave</th>  <td> 2391.0829</td> <td> 8001.622</td> <td>    0.299</td> <td> 0.765</td> <td>-1.33e+04</td> <td> 1.81e+04</td>\n",
              "</tr>\n",
              "</table>\n",
              "<table class=\"simpletable\">\n",
              "<tr>\n",
              "  <th>Omnibus:</th>       <td>416.222</td> <th>  Durbin-Watson:     </th> <td>   1.977</td> \n",
              "</tr>\n",
              "<tr>\n",
              "  <th>Prob(Omnibus):</th> <td> 0.000</td>  <th>  Jarque-Bera (JB):  </th> <td>37343.690</td>\n",
              "</tr>\n",
              "<tr>\n",
              "  <th>Skew:</th>          <td>-0.215</td>  <th>  Prob(JB):          </th> <td>    0.00</td> \n",
              "</tr>\n",
              "<tr>\n",
              "  <th>Kurtosis:</th>      <td>27.773</td>  <th>  Cond. No.          </th> <td>1.03e+21</td> \n",
              "</tr>\n",
              "</table><br/><br/>Warnings:<br/>[1] Standard Errors assume that the covariance matrix of the errors is correctly specified.<br/>[2] The smallest eigenvalue is 5.15e-33. This might indicate that there are<br/>strong multicollinearity problems or that the design matrix is singular."
            ],
            "text/plain": [
              "<class 'statsmodels.iolib.summary.Summary'>\n",
              "\"\"\"\n",
              "                            OLS Regression Results                            \n",
              "==============================================================================\n",
              "Dep. Variable:              saleprice   R-squared:                       0.762\n",
              "Model:                            OLS   Adj. R-squared:                  0.761\n",
              "Method:                 Least Squares   F-statistic:                     774.9\n",
              "Date:                Tue, 10 Nov 2020   Prob (F-statistic):               0.00\n",
              "Time:                        14:17:52   Log-Likelihood:                -17496.\n",
              "No. Observations:                1460   AIC:                         3.501e+04\n",
              "Df Residuals:                    1453   BIC:                         3.504e+04\n",
              "Df Model:                           6                                         \n",
              "Covariance Type:            nonrobust                                         \n",
              "================================================================================\n",
              "                   coef    std err          t      P>|t|      [0.025      0.975]\n",
              "--------------------------------------------------------------------------------\n",
              "const        -1.116e+05   1.64e+04     -6.819      0.000   -1.44e+05   -7.95e+04\n",
              "garagecars    1.816e+04   1757.247     10.333      0.000    1.47e+04    2.16e+04\n",
              "grlivarea       46.4221      2.498     18.583      0.000      41.522      51.322\n",
              "overallqual   2.305e+04   1087.838     21.193      0.000    2.09e+04    2.52e+04\n",
              "totalbsmtsf     31.9073      2.844     11.221      0.000      26.329      37.485\n",
              "centralair_Y  5883.7888   2174.967      2.705      0.007    1617.377    1.02e+04\n",
              "centralair_Y  5883.7888   2174.967      2.705      0.007    1617.377    1.02e+04\n",
              "street_Pave   2391.0829   8001.622      0.299      0.765   -1.33e+04    1.81e+04\n",
              "street_Pave   2391.0829   8001.622      0.299      0.765   -1.33e+04    1.81e+04\n",
              "==============================================================================\n",
              "Omnibus:                      416.222   Durbin-Watson:                   1.977\n",
              "Prob(Omnibus):                  0.000   Jarque-Bera (JB):            37343.690\n",
              "Skew:                          -0.215   Prob(JB):                         0.00\n",
              "Kurtosis:                      27.773   Cond. No.                     1.03e+21\n",
              "==============================================================================\n",
              "\n",
              "Warnings:\n",
              "[1] Standard Errors assume that the covariance matrix of the errors is correctly specified.\n",
              "[2] The smallest eigenvalue is 5.15e-33. This might indicate that there are\n",
              "strong multicollinearity problems or that the design matrix is singular.\n",
              "\"\"\""
            ]
          },
          "metadata": {
            "tags": []
          },
          "execution_count": 6
        }
      ]
    },
    {
      "cell_type": "markdown",
      "metadata": {
        "id": "zOM-hVx2hVi_"
      },
      "source": [
        "Adding the basement's square footage increased the R squared and Adj. R squared slightly. It also slightly decreased the AIC and BIC. Let's add another variable to see if we can improve the model even more."
      ]
    },
    {
      "cell_type": "code",
      "metadata": {
        "id": "QPOeIwVChX4X",
        "colab": {
          "base_uri": "https://localhost:8080/",
          "height": 646
        },
        "outputId": "62118a32-8c8f-4dcd-ee9c-b99a3eded590"
      },
      "source": [
        "Y = houseprices_df['saleprice']\n",
        "X = houseprices_df[['garagecars', 'grlivarea', 'overallqual', 'totalbsmtsf', 'garagearea'] + dummy_column_names]\n",
        "\n",
        "X = sm.add_constant(X)\n",
        "\n",
        "results = sm.OLS(Y, X).fit()\n",
        "\n",
        "results.summary()"
      ],
      "execution_count": null,
      "outputs": [
        {
          "output_type": "execute_result",
          "data": {
            "text/html": [
              "<table class=\"simpletable\">\n",
              "<caption>OLS Regression Results</caption>\n",
              "<tr>\n",
              "  <th>Dep. Variable:</th>        <td>saleprice</td>    <th>  R-squared:         </th> <td>   0.762</td> \n",
              "</tr>\n",
              "<tr>\n",
              "  <th>Model:</th>                   <td>OLS</td>       <th>  Adj. R-squared:    </th> <td>   0.761</td> \n",
              "</tr>\n",
              "<tr>\n",
              "  <th>Method:</th>             <td>Least Squares</td>  <th>  F-statistic:       </th> <td>   665.3</td> \n",
              "</tr>\n",
              "<tr>\n",
              "  <th>Date:</th>             <td>Tue, 10 Nov 2020</td> <th>  Prob (F-statistic):</th>  <td>  0.00</td>  \n",
              "</tr>\n",
              "<tr>\n",
              "  <th>Time:</th>                 <td>14:18:30</td>     <th>  Log-Likelihood:    </th> <td> -17495.</td> \n",
              "</tr>\n",
              "<tr>\n",
              "  <th>No. Observations:</th>      <td>  1460</td>      <th>  AIC:               </th> <td>3.501e+04</td>\n",
              "</tr>\n",
              "<tr>\n",
              "  <th>Df Residuals:</th>          <td>  1452</td>      <th>  BIC:               </th> <td>3.505e+04</td>\n",
              "</tr>\n",
              "<tr>\n",
              "  <th>Df Model:</th>              <td>     7</td>      <th>                     </th>     <td> </td>    \n",
              "</tr>\n",
              "<tr>\n",
              "  <th>Covariance Type:</th>      <td>nonrobust</td>    <th>                     </th>     <td> </td>    \n",
              "</tr>\n",
              "</table>\n",
              "<table class=\"simpletable\">\n",
              "<tr>\n",
              "        <td></td>          <th>coef</th>     <th>std err</th>      <th>t</th>      <th>P>|t|</th>  <th>[0.025</th>    <th>0.975]</th>  \n",
              "</tr>\n",
              "<tr>\n",
              "  <th>const</th>        <td>-1.131e+05</td> <td> 1.64e+04</td> <td>   -6.901</td> <td> 0.000</td> <td>-1.45e+05</td> <td> -8.1e+04</td>\n",
              "</tr>\n",
              "<tr>\n",
              "  <th>garagecars</th>   <td>  1.43e+04</td> <td> 3018.710</td> <td>    4.738</td> <td> 0.000</td> <td> 8380.649</td> <td> 2.02e+04</td>\n",
              "</tr>\n",
              "<tr>\n",
              "  <th>grlivarea</th>    <td>   46.1095</td> <td>    2.505</td> <td>   18.408</td> <td> 0.000</td> <td>   41.196</td> <td>   51.023</td>\n",
              "</tr>\n",
              "<tr>\n",
              "  <th>overallqual</th>  <td> 2.312e+04</td> <td> 1088.023</td> <td>   21.247</td> <td> 0.000</td> <td>  2.1e+04</td> <td> 2.53e+04</td>\n",
              "</tr>\n",
              "<tr>\n",
              "  <th>totalbsmtsf</th>  <td>   30.9514</td> <td>    2.907</td> <td>   10.649</td> <td> 0.000</td> <td>   25.250</td> <td>   36.653</td>\n",
              "</tr>\n",
              "<tr>\n",
              "  <th>garagearea</th>   <td>   16.4658</td> <td>   10.485</td> <td>    1.570</td> <td> 0.117</td> <td>   -4.101</td> <td>   37.032</td>\n",
              "</tr>\n",
              "<tr>\n",
              "  <th>centralair_Y</th> <td> 5745.6082</td> <td> 2175.651</td> <td>    2.641</td> <td> 0.008</td> <td> 1477.854</td> <td>    1e+04</td>\n",
              "</tr>\n",
              "<tr>\n",
              "  <th>centralair_Y</th> <td> 5745.6082</td> <td> 2175.651</td> <td>    2.641</td> <td> 0.008</td> <td> 1477.854</td> <td>    1e+04</td>\n",
              "</tr>\n",
              "<tr>\n",
              "  <th>street_Pave</th>  <td> 3325.4743</td> <td> 8019.689</td> <td>    0.415</td> <td> 0.678</td> <td>-1.24e+04</td> <td> 1.91e+04</td>\n",
              "</tr>\n",
              "<tr>\n",
              "  <th>street_Pave</th>  <td> 3325.4743</td> <td> 8019.689</td> <td>    0.415</td> <td> 0.678</td> <td>-1.24e+04</td> <td> 1.91e+04</td>\n",
              "</tr>\n",
              "</table>\n",
              "<table class=\"simpletable\">\n",
              "<tr>\n",
              "  <th>Omnibus:</th>       <td>430.668</td> <th>  Durbin-Watson:     </th> <td>   1.978</td> \n",
              "</tr>\n",
              "<tr>\n",
              "  <th>Prob(Omnibus):</th> <td> 0.000</td>  <th>  Jarque-Bera (JB):  </th> <td>41062.877</td>\n",
              "</tr>\n",
              "<tr>\n",
              "  <th>Skew:</th>          <td>-0.279</td>  <th>  Prob(JB):          </th> <td>    0.00</td> \n",
              "</tr>\n",
              "<tr>\n",
              "  <th>Kurtosis:</th>      <td>28.975</td>  <th>  Cond. No.          </th> <td>5.62e+20</td> \n",
              "</tr>\n",
              "</table><br/><br/>Warnings:<br/>[1] Standard Errors assume that the covariance matrix of the errors is correctly specified.<br/>[2] The smallest eigenvalue is 1.85e-32. This might indicate that there are<br/>strong multicollinearity problems or that the design matrix is singular."
            ],
            "text/plain": [
              "<class 'statsmodels.iolib.summary.Summary'>\n",
              "\"\"\"\n",
              "                            OLS Regression Results                            \n",
              "==============================================================================\n",
              "Dep. Variable:              saleprice   R-squared:                       0.762\n",
              "Model:                            OLS   Adj. R-squared:                  0.761\n",
              "Method:                 Least Squares   F-statistic:                     665.3\n",
              "Date:                Tue, 10 Nov 2020   Prob (F-statistic):               0.00\n",
              "Time:                        14:18:30   Log-Likelihood:                -17495.\n",
              "No. Observations:                1460   AIC:                         3.501e+04\n",
              "Df Residuals:                    1452   BIC:                         3.505e+04\n",
              "Df Model:                           7                                         \n",
              "Covariance Type:            nonrobust                                         \n",
              "================================================================================\n",
              "                   coef    std err          t      P>|t|      [0.025      0.975]\n",
              "--------------------------------------------------------------------------------\n",
              "const        -1.131e+05   1.64e+04     -6.901      0.000   -1.45e+05    -8.1e+04\n",
              "garagecars     1.43e+04   3018.710      4.738      0.000    8380.649    2.02e+04\n",
              "grlivarea       46.1095      2.505     18.408      0.000      41.196      51.023\n",
              "overallqual   2.312e+04   1088.023     21.247      0.000     2.1e+04    2.53e+04\n",
              "totalbsmtsf     30.9514      2.907     10.649      0.000      25.250      36.653\n",
              "garagearea      16.4658     10.485      1.570      0.117      -4.101      37.032\n",
              "centralair_Y  5745.6082   2175.651      2.641      0.008    1477.854       1e+04\n",
              "centralair_Y  5745.6082   2175.651      2.641      0.008    1477.854       1e+04\n",
              "street_Pave   3325.4743   8019.689      0.415      0.678   -1.24e+04    1.91e+04\n",
              "street_Pave   3325.4743   8019.689      0.415      0.678   -1.24e+04    1.91e+04\n",
              "==============================================================================\n",
              "Omnibus:                      430.668   Durbin-Watson:                   1.978\n",
              "Prob(Omnibus):                  0.000   Jarque-Bera (JB):            41062.877\n",
              "Skew:                          -0.279   Prob(JB):                         0.00\n",
              "Kurtosis:                      28.975   Cond. No.                     5.62e+20\n",
              "==============================================================================\n",
              "\n",
              "Warnings:\n",
              "[1] Standard Errors assume that the covariance matrix of the errors is correctly specified.\n",
              "[2] The smallest eigenvalue is 1.85e-32. This might indicate that there are\n",
              "strong multicollinearity problems or that the design matrix is singular.\n",
              "\"\"\""
            ]
          },
          "metadata": {
            "tags": []
          },
          "execution_count": 7
        }
      ]
    },
    {
      "cell_type": "markdown",
      "metadata": {
        "id": "QOhKoLOShd3n"
      },
      "source": [
        "The above model hardly changed the goodness of fit indicators (probably bc its so closely related to some variables already in the model). The second and third models, based on the goodness of fit indicators, perform only slightly better than the first model. 76% of explained variance is satisfactor, but I'm sure this model could still be improved. Perhaps including interaction terms or taking the log of certain variables could improve the Adj. R squared and AIC/BIC estimates."
      ]
    }
  ]
}