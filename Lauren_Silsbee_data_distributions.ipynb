{
  "nbformat": 4,
  "nbformat_minor": 0,
  "metadata": {
    "colab": {
      "name": "Lauren Silsbee: data distributions.ipynb",
      "provenance": [],
      "authorship_tag": "ABX9TyOuPsL3PjKTHz5UFXbJbInO",
      "include_colab_link": true
    },
    "kernelspec": {
      "name": "python3",
      "display_name": "Python 3"
    }
  },
  "cells": [
    {
      "cell_type": "markdown",
      "metadata": {
        "id": "view-in-github",
        "colab_type": "text"
      },
      "source": [
        "<a href=\"https://colab.research.google.com/github/lrsilsbee/Machine-Learning/blob/main/Lauren_Silsbee_data_distributions.ipynb\" target=\"_parent\"><img src=\"https://colab.research.google.com/assets/colab-badge.svg\" alt=\"Open In Colab\"/></a>"
      ]
    },
    {
      "cell_type": "code",
      "metadata": {
        "id": "yF_ztSF73uis"
      },
      "source": [
        "import numpy as np\n",
        "import pandas as pd\n",
        "import matplotlib.pyplot as plt\n",
        "%matplotlib inline"
      ],
      "execution_count": null,
      "outputs": []
    },
    {
      "cell_type": "code",
      "metadata": {
        "id": "Q2PN6LBa4HpT",
        "colab": {
          "base_uri": "https://localhost:8080/",
          "height": 302
        },
        "outputId": "9fb07ae1-5e45-4d8d-cdba-24617e4b5537"
      },
      "source": [
        "# NORMAL \n",
        "norm= np.random.normal(0, 1, 100)\n",
        "plt.hist(norm)\n",
        "plt.axvline(norm.mean(), color='b', linestyle='solid',linewidth=2)\n",
        "plt.axvline(norm.mean() + norm.std(), color='b', linestyle='dashed', linewidth=2)\n",
        "plt.axvline(norm.mean()-norm.std(), color='b', linestyle='dashed', linewidth=2) \n",
        "plt.show()\n",
        "print('This is supposed to be a normal distribution but does not look perfectly normal. I expect that it would better approximate a normal dist if there were more than 100 datapoints.')"
      ],
      "execution_count": null,
      "outputs": [
        {
          "output_type": "display_data",
          "data": {
            "image/png": "[encoded data removed]",
            "text/plain": [
              "<Figure size 432x288 with 1 Axes>"
            ]
          },
          "metadata": {
            "tags": [],
            "needs_background": "light"
          }
        },
        {
          "output_type": "stream",
          "text": [
            "This is supposed to be a normal distribution but does not look perfectly normal. I expect that it would better approximate a normal dist if there were more than 100 datapoints.\n"
          ],
          "name": "stdout"
        }
      ]
    },
    {
      "cell_type": "code",
      "metadata": {
        "id": "3-eMro8s49kd",
        "colab": {
          "base_uri": "https://localhost:8080/",
          "height": 282
        },
        "outputId": "01e82b31-4b6c-48fc-86f4-2fb53a5d3547"
      },
      "source": [
        "# POISSON\n",
        "poisson1 = np.random.poisson(1, 100)\n",
        "plt.hist(poisson1)\n",
        "plt.axvline(poisson1.mean(), color='b', linestyle='solid',linewidth=2)\n",
        "plt.axvline(poisson1.mean() + poisson1.std(), color='b', linestyle='dashed', linewidth=2)\n",
        "plt.axvline(poisson1.mean()-poisson1.std(), color='b', linestyle='dashed', linewidth=2) \n",
        "plt.show()\n",
        "print(' The mean does not fall in the center and is thus not a measure of central tendency. This distribution is skewed.')"
      ],
      "execution_count": null,
      "outputs": [
        {
          "output_type": "display_data",
          "data": {
            "image/png": "[encoded data removed]",
            "text/plain": [
              "<Figure size 432x288 with 1 Axes>"
            ]
          },
          "metadata": {
            "tags": [],
            "needs_background": "light"
          }
        },
        {
          "output_type": "stream",
          "text": [
            " The mean does not fall in the center and is thus not a measure of central tendency. This distribution is skewed.\n"
          ],
          "name": "stdout"
        }
      ]
    },
    {
      "cell_type": "code",
      "metadata": {
        "id": "fT7jAgTe5Mmt",
        "colab": {
          "base_uri": "https://localhost:8080/",
          "height": 282
        },
        "outputId": "c8d2b824-936c-4dda-c35c-a1db22c98cf6"
      },
      "source": [
        "# LOGISTIC\n",
        "logistic = np.random.logistic(0,1,100)\n",
        "plt.hist(logistic)\n",
        "plt.axvline(logistic.mean(), color='b', linestyle='solid',linewidth=2)\n",
        "plt.axvline(logistic.mean() + logistic.std(), color='b', linestyle='dashed', linewidth=2)\n",
        "plt.axvline(logistic.mean()-logistic.std(), color='b', linestyle='dashed', linewidth=2) \n",
        "plt.show()\n",
        "print('It is hard to tell precisely but this looks skewed to the right.' )"
      ],
      "execution_count": null,
      "outputs": [
        {
          "output_type": "display_data",
          "data": {
            "image/png": "[encoded data removed]",
            "text/plain": [
              "<Figure size 432x288 with 1 Axes>"
            ]
          },
          "metadata": {
            "tags": [],
            "needs_background": "light"
          }
        },
        {
          "output_type": "stream",
          "text": [
            "It is hard to tell precisely but this looks skewed to the right.\n"
          ],
          "name": "stdout"
        }
      ]
    },
    {
      "cell_type": "code",
      "metadata": {
        "id": "XhpITiAn5RPD",
        "colab": {
          "base_uri": "https://localhost:8080/",
          "height": 282
        },
        "outputId": "fadb0b42-137e-4d8d-9c99-7bc4041bb0e6"
      },
      "source": [
        "#GAMMA\n",
        "gamma = np.random.gamma(5,1,100)\n",
        "plt.hist(gamma)\n",
        "plt.axvline(gamma.mean(), color='b', linestyle='solid',linewidth=2)\n",
        "plt.axvline(gamma.mean() + gamma.std(), color='b', linestyle='dashed', linewidth=2)\n",
        "plt.axvline(gamma.mean()-gamma.std(), color='b', linestyle='dashed', linewidth=2) \n",
        "plt.show()\n",
        "print('This distribution is certainly skewed and the mean is no longer a measure of central tendency.')"
      ],
      "execution_count": null,
      "outputs": [
        {
          "output_type": "display_data",
          "data": {
            "image/png": "[encoded data removed]",
            "text/plain": [
              "<Figure size 432x288 with 1 Axes>"
            ]
          },
          "metadata": {
            "tags": [],
            "needs_background": "light"
          }
        },
        {
          "output_type": "stream",
          "text": [
            "This distribution is certainly skewed and the mean is no longer a measure of central tendency.\n"
          ],
          "name": "stdout"
        }
      ]
    },
    {
      "cell_type": "code",
      "metadata": {
        "id": "EyT_61KQ5kf0",
        "colab": {
          "base_uri": "https://localhost:8080/",
          "height": 282
        },
        "outputId": "d8811094-6a3c-4689-d280-a0e8bfe3d611"
      },
      "source": [
        "#BETA\n",
        "beta = np.random.beta(1,2,100)\n",
        "plt.hist(beta)\n",
        "plt.axvline(beta.mean(), color='b', linestyle='solid',linewidth=2)\n",
        "plt.axvline(beta.mean() + beta.std(), color='b', linestyle='dashed', linewidth=2)\n",
        "plt.axvline(beta.mean()-beta.std(), color='b', linestyle='dashed', linewidth=2) \n",
        "plt.show()\n",
        "print('Plotting the mean shows that it is not a measure of central tendency here, which makes sense because this is not a normal distribution.')"
      ],
      "execution_count": null,
      "outputs": [
        {
          "output_type": "display_data",
          "data": {
            "image/png": "[encoded data removed]",
            "text/plain": [
              "<Figure size 432x288 with 1 Axes>"
            ]
          },
          "metadata": {
            "tags": [],
            "needs_background": "light"
          }
        },
        {
          "output_type": "stream",
          "text": [
            "Plotting the mean shows that it is not a measure of central tendency here, which makes sense because this is not a normal distribution.\n"
          ],
          "name": "stdout"
        }
      ]
    },
    {
      "cell_type": "code",
      "metadata": {
        "id": "0MYZClfS5nph",
        "colab": {
          "base_uri": "https://localhost:8080/",
          "height": 282
        },
        "outputId": "13bd0f5b-abad-4766-bbdd-570a57eff64e"
      },
      "source": [
        "#EXPONENTIAL\n",
        "exp = np.random.exponential(1, 100)\n",
        "plt.hist(exp)\n",
        "plt.axvline(exp.mean(), color='b', linestyle='solid',linewidth=2)\n",
        "plt.axvline(exp.mean() + exp.std(), color='b', linestyle='dashed', linewidth=2)\n",
        "plt.axvline(exp.mean()-exp.std(), color='b', linestyle='dashed', linewidth=2) \n",
        "plt.show()\n",
        "print('Plotting the descriptive statistics illustrates that this distribution is right skewed.')"
      ],
      "execution_count": null,
      "outputs": [
        {
          "output_type": "display_data",
          "data": {
            "image/png": "[encoded data removed]",
            "text/plain": [
              "<Figure size 432x288 with 1 Axes>"
            ]
          },
          "metadata": {
            "tags": [],
            "needs_background": "light"
          }
        },
        {
          "output_type": "stream",
          "text": [
            "Plotting the descriptive statistics illustrates that this distribution is right skewed.\n"
          ],
          "name": "stdout"
        }
      ]
    },
    {
      "cell_type": "code",
      "metadata": {
        "id": "OTZ72v6w5x6J",
        "colab": {
          "base_uri": "https://localhost:8080/",
          "height": 302
        },
        "outputId": "2cb9b2e0-a273-401e-b519-7455469b496a"
      },
      "source": [
        "norm1 = np.random.normal(5, 0.5, 100)\n",
        "norm2 = np.random.normal(10, 1, 100)\n",
        "\n",
        "norm3 = norm1 + norm2\n",
        "\n",
        "plt.hist(norm3)\n",
        "\n",
        "plt.axvline(norm3.mean(), color='b', linestyle='solid',linewidth=2)\n",
        "plt.axvline(norm3.mean() + norm3.std(), color='b', linestyle='dashed', linewidth=2)\n",
        "plt.axvline(norm3.mean()-norm3.std(), color='b', linestyle='dashed', linewidth=2) \n",
        "plt.show()\n",
        "print('This looks closer to normal, but the mean is still not a precise measure of central tendency. I expect this would become a true normal if there were more datapoints included.')"
      ],
      "execution_count": null,
      "outputs": [
        {
          "output_type": "display_data",
          "data": {
            "image/png": "[encoded data removed]",
            "text/plain": [
              "<Figure size 432x288 with 1 Axes>"
            ]
          },
          "metadata": {
            "tags": [],
            "needs_background": "light"
          }
        },
        {
          "output_type": "stream",
          "text": [
            "This looks closer to normal, but the mean is still not a precise measure of central tendency. I expect this would become a true normal if there were more datapoints included.\n"
          ],
          "name": "stdout"
        }
      ]
    },
    {
      "cell_type": "code",
      "metadata": {
        "id": "OHYr3BUR6AiY"
      },
      "source": [
        ""
      ],
      "execution_count": null,
      "outputs": []
    }
  ]
}