{
  "nbformat": 4,
  "nbformat_minor": 0,
  "metadata": {
    "colab": {
      "name": "Lauren Silsbee: Module 26.6 Time Series Challenge.ipynb",
      "provenance": [],
      "authorship_tag": "ABX9TyPJpVfMxEuOwC0/pFBuihJU",
      "include_colab_link": true
    },
    "kernelspec": {
      "name": "python3",
      "display_name": "Python 3"
    }
  },
  "cells": [
    {
      "cell_type": "markdown",
      "metadata": {
        "id": "view-in-github",
        "colab_type": "text"
      },
      "source": [
        "<a href=\"https://colab.research.google.com/github/lrsilsbee/Machine-Learning/blob/main/Lauren_Silsbee_Module_26_6_Time_Series_Challenge.ipynb\" target=\"_parent\"><img src=\"https://colab.research.google.com/assets/colab-badge.svg\" alt=\"Open In Colab\"/></a>"
      ]
    },
    {
      "cell_type": "markdown",
      "metadata": {
        "id": "xRLlnFn6F3e8"
      },
      "source": [
        "## Time Series Challenge"
      ]
    },
    {
      "cell_type": "markdown",
      "metadata": {
        "id": "NkQfCF6BF6u0"
      },
      "source": [
        "-In this analysis, I will plot the time series (along with any logical or necessary differences to get a stationary dataset)\r\n",
        "generate and interpret a PACF for the time series (and/or its differences)\r\n",
        "generate 5 ARIMA specifications and evaluate their efficacy at modeling the data\r\n",
        "and choose one specification and make the case for that as a logical model for the dataset\r\n",
        "\r\n",
        "I am going to use GDP from 1990-2020. This data is available on the [FRED's website](https://fred.stlouisfed.org/series/GDP)."
      ]
    },
    {
      "cell_type": "code",
      "metadata": {
        "colab": {
          "base_uri": "https://localhost:8080/"
        },
        "id": "h9yzJHy5Fs90",
        "outputId": "08ba3005-0442-4c39-cb5a-1b017d31b298"
      },
      "source": [
        "import numpy as np\r\n",
        "import pandas as pd\r\n",
        "import scipy\r\n",
        "from datetime import datetime\r\n",
        "import datetime as dt\r\n",
        "from statsmodels.tsa.stattools import pacf\r\n",
        "from statsmodels.tsa.arima_model import ARIMA\r\n",
        "import matplotlib.pyplot as plt\r\n",
        "%matplotlib inline"
      ],
      "execution_count": null,
      "outputs": [
        {
          "output_type": "stream",
          "text": [
            "/usr/local/lib/python3.6/dist-packages/statsmodels/tools/_testing.py:19: FutureWarning: pandas.util.testing is deprecated. Use the functions in the public API at pandas.testing instead.\n",
            "  import pandas.util.testing as tm\n"
          ],
          "name": "stderr"
        }
      ]
    },
    {
      "cell_type": "code",
      "metadata": {
        "colab": {
          "resources": {
            "http://localhost:8080/nbextensions/google.colab/files.js": {
              "data": "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",
              "ok": true,
              "headers": [
                [
                  "content-type",
                  "application/javascript"
                ]
              ],
              "status": 200,
              "status_text": ""
            }
          },
          "base_uri": "https://localhost:8080/",
          "height": 109
        },
        "id": "Xj_GRayVGL4H",
        "outputId": "e17d0c7b-6d51-494f-b744-846e1021c131"
      },
      "source": [
        "#load dataset\r\n",
        "from google.colab import files\r\n",
        "files.upload()"
      ],
      "execution_count": null,
      "outputs": [
        {
          "output_type": "display_data",
          "data": {
            "text/html": [
              "\n",
              "     <input type=\"file\" id=\"files-ea2194a4-5f59-45f8-a2fb-30595b4dca36\" name=\"files[]\" multiple disabled\n",
              "        style=\"border:none\" />\n",
              "     <output id=\"result-ea2194a4-5f59-45f8-a2fb-30595b4dca36\">\n",
              "      Upload widget is only available when the cell has been executed in the\n",
              "      current browser session. Please rerun this cell to enable.\n",
              "      </output>\n",
              "      <script src=\"/nbextensions/google.colab/files.js\"></script> "
            ],
            "text/plain": [
              "<IPython.core.display.HTML object>"
            ]
          },
          "metadata": {
            "tags": []
          }
        },
        {
          "output_type": "stream",
          "text": [
            "Saving GDP.csv to GDP.csv\n"
          ],
          "name": "stdout"
        },
        {
          "output_type": "execute_result",
          "data": {
            "text/plain": [
              "{'GDP.csv': b'DATE,GDP\\n1990-01-01,5872.701\\n1990-04-01,5960.028\\n1990-07-01,6015.116\\n1990-10-01,6004.733\\n1991-01-01,6035.178\\n1991-04-01,6126.862\\n1991-07-01,6205.937\\n1991-10-01,6264.54\\n1992-01-01,6363.102\\n1992-04-01,6470.763\\n1992-07-01,6566.641\\n1992-10-01,6680.803\\n1993-01-01,6729.459\\n1993-04-01,6808.939\\n1993-07-01,6882.098\\n1993-10-01,7013.738\\n1994-01-01,7115.652\\n1994-04-01,7246.931\\n1994-07-01,7331.075\\n1994-10-01,7455.288\\n1995-01-01,7522.289\\n1995-04-01,7580.997\\n1995-07-01,7683.125\\n1995-10-01,7772.586\\n1996-01-01,7868.468\\n1996-04-01,8032.84\\n1996-07-01,8131.408\\n1996-10-01,8259.771\\n1997-01-01,8362.655\\n1997-04-01,8518.825\\n1997-07-01,8662.823\\n1997-10-01,8765.907\\n1998-01-01,8866.48\\n1998-04-01,8969.699\\n1998-07-01,9121.097\\n1998-10-01,9293.991\\n1999-01-01,9417.264\\n1999-04-01,9524.152\\n1999-07-01,9681.856\\n1999-10-01,9899.378\\n2000-01-01,10002.857\\n2000-04-01,10247.679\\n2000-07-01,10319.825\\n2000-10-01,10439.025\\n2001-01-01,10472.879\\n2001-04-01,10597.822\\n2001-07-01,10596.294\\n2001-10-01,10660.294\\n2002-01-01,10788.952\\n2002-04-01,10893.207\\n2002-07-01,10992.051\\n2002-10-01,11071.463\\n2003-01-01,11183.507\\n2003-04-01,11312.875\\n2003-07-01,11567.326\\n2003-10-01,11769.275\\n2004-01-01,11920.169\\n2004-04-01,12108.987\\n2004-07-01,12303.34\\n2004-10-01,12522.425\\n2005-01-01,12761.337\\n2005-04-01,12910.022\\n2005-07-01,13142.873\\n2005-10-01,13332.316\\n2006-01-01,13603.933\\n2006-04-01,13749.806\\n2006-07-01,13867.469\\n2006-10-01,14037.228\\n2007-01-01,14208.569\\n2007-04-01,14382.363\\n2007-07-01,14535.003\\n2007-10-01,14681.501\\n2008-01-01,14651.039\\n2008-04-01,14805.611\\n2008-07-01,14835.187\\n2008-10-01,14559.543\\n2009-01-01,14394.547\\n2009-04-01,14352.85\\n2009-07-01,14420.312\\n2009-10-01,14628.021\\n2010-01-01,14721.35\\n2010-04-01,14926.098\\n2010-07-01,15079.917\\n2010-10-01,15240.843\\n2011-01-01,15285.828\\n2011-04-01,15496.189\\n2011-07-01,15591.85\\n2011-10-01,15796.46\\n2012-01-01,16019.758\\n2012-04-01,16152.257\\n2012-07-01,16257.151\\n2012-10-01,16358.863\\n2013-01-01,16569.591\\n2013-04-01,16637.926\\n2013-07-01,16848.748\\n2013-10-01,17083.137\\n2014-01-01,17104.555\\n2014-04-01,17432.909\\n2014-07-01,17721.657\\n2014-10-01,17849.912\\n2015-01-01,18003.399\\n2015-04-01,18223.577\\n2015-07-01,18347.425\\n2015-10-01,18378.803\\n2016-01-01,18470.156\\n2016-04-01,18656.207\\n2016-07-01,18821.359\\n2016-10-01,19032.58\\n2017-01-01,19237.435\\n2017-04-01,19379.232\\n2017-07-01,19617.288\\n2017-10-01,19937.963\\n2018-01-01,20242.215\\n2018-04-01,20552.653\\n2018-07-01,20742.723\\n2018-10-01,20909.853\\n2019-01-01,21115.309\\n2019-04-01,21329.877\\n2019-07-01,21540.325\\n2019-10-01,21747.394\\n2020-01-01,21561.139\\n'}"
            ]
          },
          "metadata": {
            "tags": []
          },
          "execution_count": 2
        }
      ]
    },
    {
      "cell_type": "code",
      "metadata": {
        "id": "jMP2Or-SGWWA"
      },
      "source": [
        "gdp_df = pd.read_csv(\r\n",
        "    r'GDP.csv')"
      ],
      "execution_count": null,
      "outputs": []
    },
    {
      "cell_type": "code",
      "metadata": {
        "colab": {
          "base_uri": "https://localhost:8080/",
          "height": 204
        },
        "id": "BZ8Rj1leGj7T",
        "outputId": "d3ea212c-0ca5-47a7-fd29-35b430bfa9fc"
      },
      "source": [
        "gdp_df.head()"
      ],
      "execution_count": null,
      "outputs": [
        {
          "output_type": "execute_result",
          "data": {
            "text/html": [
              "<div>\n",
              "<style scoped>\n",
              "    .dataframe tbody tr th:only-of-type {\n",
              "        vertical-align: middle;\n",
              "    }\n",
              "\n",
              "    .dataframe tbody tr th {\n",
              "        vertical-align: top;\n",
              "    }\n",
              "\n",
              "    .dataframe thead th {\n",
              "        text-align: right;\n",
              "    }\n",
              "</style>\n",
              "<table border=\"1\" class=\"dataframe\">\n",
              "  <thead>\n",
              "    <tr style=\"text-align: right;\">\n",
              "      <th></th>\n",
              "      <th>DATE</th>\n",
              "      <th>GDP</th>\n",
              "    </tr>\n",
              "  </thead>\n",
              "  <tbody>\n",
              "    <tr>\n",
              "      <th>0</th>\n",
              "      <td>1990-01-01</td>\n",
              "      <td>5872.701</td>\n",
              "    </tr>\n",
              "    <tr>\n",
              "      <th>1</th>\n",
              "      <td>1990-04-01</td>\n",
              "      <td>5960.028</td>\n",
              "    </tr>\n",
              "    <tr>\n",
              "      <th>2</th>\n",
              "      <td>1990-07-01</td>\n",
              "      <td>6015.116</td>\n",
              "    </tr>\n",
              "    <tr>\n",
              "      <th>3</th>\n",
              "      <td>1990-10-01</td>\n",
              "      <td>6004.733</td>\n",
              "    </tr>\n",
              "    <tr>\n",
              "      <th>4</th>\n",
              "      <td>1991-01-01</td>\n",
              "      <td>6035.178</td>\n",
              "    </tr>\n",
              "  </tbody>\n",
              "</table>\n",
              "</div>"
            ],
            "text/plain": [
              "         DATE       GDP\n",
              "0  1990-01-01  5872.701\n",
              "1  1990-04-01  5960.028\n",
              "2  1990-07-01  6015.116\n",
              "3  1990-10-01  6004.733\n",
              "4  1991-01-01  6035.178"
            ]
          },
          "metadata": {
            "tags": []
          },
          "execution_count": 6
        }
      ]
    },
    {
      "cell_type": "code",
      "metadata": {
        "colab": {
          "base_uri": "https://localhost:8080/"
        },
        "id": "AgeSrN-3GrRU",
        "outputId": "87c7af9a-7bfd-476d-a8c5-60b89aeebdd8"
      },
      "source": [
        "gdp_df.dtypes"
      ],
      "execution_count": null,
      "outputs": [
        {
          "output_type": "execute_result",
          "data": {
            "text/plain": [
              "DATE     object\n",
              "GDP     float64\n",
              "dtype: object"
            ]
          },
          "metadata": {
            "tags": []
          },
          "execution_count": 7
        }
      ]
    },
    {
      "cell_type": "markdown",
      "metadata": {
        "id": "YcUpg1v8GzG3"
      },
      "source": [
        "The feature GDPC is already numeric."
      ]
    },
    {
      "cell_type": "code",
      "metadata": {
        "colab": {
          "base_uri": "https://localhost:8080/",
          "height": 281
        },
        "id": "m3hVh65JGu00",
        "outputId": "4171f172-7da7-44ac-9e6d-e83ae1a8da2e"
      },
      "source": [
        "#plot the series\r\n",
        "gdp_df.plot()\r\n",
        "plt.title('GDP Time Series 1990-2020')\r\n",
        "plt.show()"
      ],
      "execution_count": null,
      "outputs": [
        {
          "output_type": "display_data",
          "data": {
            "image/png": "[encoded data removed]",
            "text/plain": [
              "<Figure size 432x288 with 1 Axes>"
            ]
          },
          "metadata": {
            "tags": [],
            "needs_background": "light"
          }
        }
      ]
    },
    {
      "cell_type": "code",
      "metadata": {
        "colab": {
          "base_uri": "https://localhost:8080/",
          "height": 295
        },
        "id": "B5VgjcLAG3LA",
        "outputId": "e417724a-8a74-4dab-cabe-f0039d33f2d2"
      },
      "source": [
        "\r\n",
        "#fix x axis to be more easily interpretable\r\n",
        "gdp_df.index = pd.to_datetime(gdp_df.DATE)\r\n",
        "gdp_df.plot()\r\n",
        "plt.title('GDP Time Series 1990-2020')\r\n",
        "plt.show()"
      ],
      "execution_count": null,
      "outputs": [
        {
          "output_type": "display_data",
          "data": {
            "image/png": "[encoded data removed]",
            "text/plain": [
              "<Figure size 432x288 with 1 Axes>"
            ]
          },
          "metadata": {
            "tags": [],
            "needs_background": "light"
          }
        }
      ]
    },
    {
      "cell_type": "markdown",
      "metadata": {
        "id": "LfSRQWa1G-s2"
      },
      "source": [
        "There is certainly a trend to this series. I will need to apply differencing to make the series stationary so that I can fit ARIMA models."
      ]
    },
    {
      "cell_type": "code",
      "metadata": {
        "colab": {
          "base_uri": "https://localhost:8080/",
          "height": 295
        },
        "id": "4KwQQxMcG8IY",
        "outputId": "eba2e4cf-1f6d-4338-b564-cb8d1af79c49"
      },
      "source": [
        "gdp_df['diff_1'] = gdp_df.GDP - gdp_df.GDP.shift()\r\n",
        "gdp_df.plot(y='diff_1')\r\n",
        "plt.title('GDP Time Series 1990-2020 (first order differencing)')\r\n",
        "plt.show()"
      ],
      "execution_count": null,
      "outputs": [
        {
          "output_type": "display_data",
          "data": {
            "image/png": "[encoded data removed]",
            "text/plain": [
              "<Figure size 432x288 with 1 Axes>"
            ]
          },
          "metadata": {
            "tags": [],
            "needs_background": "light"
          }
        }
      ]
    },
    {
      "cell_type": "markdown",
      "metadata": {
        "id": "p2JcqSfHHJUG"
      },
      "source": [
        "The first order differencing seems to have mostly removed the trend. This should now meet the required assumptions of the ARIMA models. Now, I will generated the PACF and the first order differences."
      ]
    },
    {
      "cell_type": "code",
      "metadata": {
        "colab": {
          "base_uri": "https://localhost:8080/",
          "height": 301
        },
        "id": "mmbU3YhSHM5P",
        "outputId": "553c56e4-eee2-44eb-e649-5719237dfc44"
      },
      "source": [
        "x_acf = pd.DataFrame(pacf(gdp_df.GDP))\r\n",
        "x_acf.plot(kind='bar')\r\n",
        "plt.title(\"GDP\")"
      ],
      "execution_count": null,
      "outputs": [
        {
          "output_type": "execute_result",
          "data": {
            "text/plain": [
              "Text(0.5, 1.0, 'GDP')"
            ]
          },
          "metadata": {
            "tags": []
          },
          "execution_count": 13
        },
        {
          "output_type": "display_data",
          "data": {
            "image/png": "[encoded data removed]",
            "text/plain": [
              "<Figure size 432x288 with 1 Axes>"
            ]
          },
          "metadata": {
            "tags": [],
            "needs_background": "light"
          }
        }
      ]
    },
    {
      "cell_type": "code",
      "metadata": {
        "colab": {
          "base_uri": "https://localhost:8080/",
          "height": 301
        },
        "id": "NiGBLaw9HRyx",
        "outputId": "6543912f-f913-439b-976a-cb8f0737c0dc"
      },
      "source": [
        "x_acf = pd.DataFrame(pacf(gdp_df.diff_1[1:]))\r\n",
        "x_acf.plot(kind='bar')\r\n",
        "plt.title(\"GDP Diff PACF\")\r\n",
        "plt.legend(['difference'])"
      ],
      "execution_count": null,
      "outputs": [
        {
          "output_type": "execute_result",
          "data": {
            "text/plain": [
              "<matplotlib.legend.Legend at 0x7fe02f8dc748>"
            ]
          },
          "metadata": {
            "tags": []
          },
          "execution_count": 14
        },
        {
          "output_type": "display_data",
          "data": {
            "image/png": "[encoded data removed]",
            "text/plain": [
              "<Figure size 432x288 with 1 Axes>"
            ]
          },
          "metadata": {
            "tags": [],
            "needs_background": "light"
          }
        }
      ]
    },
    {
      "cell_type": "markdown",
      "metadata": {
        "id": "5lzV95jOHVFm"
      },
      "source": [
        "The initial series shows one strong correlation. The differences show 2 correlations. I will first build an ARIMA model with p set to 1 and I set to 2. I will then try models with different p, i, and q values to compare them."
      ]
    },
    {
      "cell_type": "markdown",
      "metadata": {
        "id": "kZCBCJxbHYhX"
      },
      "source": [
        "**Model 1**"
      ]
    },
    {
      "cell_type": "code",
      "metadata": {
        "colab": {
          "base_uri": "https://localhost:8080/"
        },
        "id": "EaNkFVbeHd7g",
        "outputId": "dc92f3ce-d103-4d1d-90e7-1239743b5853"
      },
      "source": [
        "model = ARIMA(gdp_df.GDP, order=(1,2,0))\r\n",
        "model_fit = model.fit()\r\n",
        "print(model_fit.summary())\r\n",
        "print('Residuals Description')\r\n",
        "print(model_fit.resid.describe())"
      ],
      "execution_count": null,
      "outputs": [
        {
          "output_type": "stream",
          "text": [
            "                             ARIMA Model Results                              \n",
            "==============================================================================\n",
            "Dep. Variable:                 D2.GDP   No. Observations:                  119\n",
            "Model:                 ARIMA(1, 2, 0)   Log Likelihood                -700.063\n",
            "Method:                       css-mle   S.D. of innovations             86.774\n",
            "Date:                Sat, 02 Jan 2021   AIC                           1406.126\n",
            "Time:                        17:21:03   BIC                           1414.464\n",
            "Sample:                    07-01-1990   HQIC                          1409.512\n",
            "                         - 01-01-2020                                         \n",
            "================================================================================\n",
            "                   coef    std err          z      P>|z|      [0.025      0.975]\n",
            "--------------------------------------------------------------------------------\n",
            "const           -1.3291      5.800     -0.229      0.819     -12.696      10.038\n",
            "ar.L1.D2.GDP    -0.3754      0.093     -4.050      0.000      -0.557      -0.194\n",
            "                                    Roots                                    \n",
            "=============================================================================\n",
            "                  Real          Imaginary           Modulus         Frequency\n",
            "-----------------------------------------------------------------------------\n",
            "AR.1           -2.6640           +0.0000j            2.6640            0.5000\n",
            "-----------------------------------------------------------------------------\n",
            "Residuals Description\n",
            "count    119.000000\n",
            "mean      -0.097499\n",
            "std       87.147440\n",
            "min     -392.764378\n",
            "25%      -38.995549\n",
            "50%        5.459496\n",
            "75%       44.442410\n",
            "max      228.821370\n",
            "dtype: float64\n"
          ],
          "name": "stdout"
        },
        {
          "output_type": "stream",
          "text": [
            "/usr/local/lib/python3.6/dist-packages/statsmodels/tsa/base/tsa_model.py:165: ValueWarning: No frequency information was provided, so inferred frequency QS-OCT will be used.\n",
            "  % freq, ValueWarning)\n",
            "/usr/local/lib/python3.6/dist-packages/statsmodels/tsa/base/tsa_model.py:165: ValueWarning: No frequency information was provided, so inferred frequency QS-OCT will be used.\n",
            "  % freq, ValueWarning)\n"
          ],
          "name": "stderr"
        }
      ]
    },
    {
      "cell_type": "markdown",
      "metadata": {
        "id": "7VkcAI6tHhyk"
      },
      "source": [
        "Model 1 has an AIC of 1406.126 and a log likelihood of -700.063. This is decent and these estimates are certainly better than the ones generated in the previous checkpoint. The log likelihood indicates the log of the likelihood that Model 1 would generate this data. The closer to zero, the higher the probablity we are to have predicted our outcome with our given model. A log-likelihood of -700 certainly is not very close to zero, but it could be worse. I will have to compare this AIC estimate to the other models below to see which is best."
      ]
    },
    {
      "cell_type": "markdown",
      "metadata": {
        "id": "x4TSPoyNHyA2"
      },
      "source": [
        "**Model 2**"
      ]
    },
    {
      "cell_type": "code",
      "metadata": {
        "colab": {
          "base_uri": "https://localhost:8080/"
        },
        "id": "UVv-mBnEHzoL",
        "outputId": "46d6cc74-d79d-4ad1-ddba-80c86fa83ad9"
      },
      "source": [
        "model = ARIMA(gdp_df.GDP, order=(1,2,1))\r\n",
        "model_fit = model.fit()\r\n",
        "print(model_fit.summary())\r\n",
        "print('Residuals Description')\r\n",
        "print(model_fit.resid.describe())"
      ],
      "execution_count": null,
      "outputs": [
        {
          "output_type": "stream",
          "text": [
            "                             ARIMA Model Results                              \n",
            "==============================================================================\n",
            "Dep. Variable:                 D2.GDP   No. Observations:                  119\n",
            "Model:                 ARIMA(1, 2, 1)   Log Likelihood                -692.293\n",
            "Method:                       css-mle   S.D. of innovations             80.029\n",
            "Date:                Sat, 02 Jan 2021   AIC                           1392.585\n",
            "Time:                        17:22:32   BIC                           1403.702\n",
            "Sample:                    07-01-1990   HQIC                          1397.099\n",
            "                         - 01-01-2020                                         \n",
            "================================================================================\n",
            "                   coef    std err          z      P>|z|      [0.025      0.975]\n",
            "--------------------------------------------------------------------------------\n",
            "const            0.6711      0.366      1.834      0.069      -0.046       1.388\n",
            "ar.L1.D2.GDP     0.4306      0.092      4.666      0.000       0.250       0.611\n",
            "ma.L1.D2.GDP    -0.9999      0.024    -41.530      0.000      -1.047      -0.953\n",
            "                                    Roots                                    \n",
            "=============================================================================\n",
            "                  Real          Imaginary           Modulus         Frequency\n",
            "-----------------------------------------------------------------------------\n",
            "AR.1            2.3223           +0.0000j            2.3223            0.0000\n",
            "MA.1            1.0001           +0.0000j            1.0001            0.0000\n",
            "-----------------------------------------------------------------------------\n",
            "Residuals Description\n",
            "count    119.000000\n",
            "mean       2.029851\n",
            "std       80.998449\n",
            "min     -374.692749\n",
            "25%      -27.470879\n",
            "50%        9.860820\n",
            "75%       48.878095\n",
            "max      234.245396\n",
            "dtype: float64\n"
          ],
          "name": "stdout"
        },
        {
          "output_type": "stream",
          "text": [
            "/usr/local/lib/python3.6/dist-packages/statsmodels/tsa/base/tsa_model.py:165: ValueWarning: No frequency information was provided, so inferred frequency QS-OCT will be used.\n",
            "  % freq, ValueWarning)\n",
            "/usr/local/lib/python3.6/dist-packages/statsmodels/tsa/base/tsa_model.py:165: ValueWarning: No frequency information was provided, so inferred frequency QS-OCT will be used.\n",
            "  % freq, ValueWarning)\n"
          ],
          "name": "stderr"
        }
      ]
    },
    {
      "cell_type": "markdown",
      "metadata": {
        "id": "xmtqEl2_H5WJ"
      },
      "source": [
        "Model 2 (order = 1,2,1) has slightly better AIC (1392.585) and log-likelihood (-692.293) estimates in comparison to Model 1."
      ]
    },
    {
      "cell_type": "markdown",
      "metadata": {
        "id": "7EW5WMvUIH9Z"
      },
      "source": [
        "**Model 3**"
      ]
    },
    {
      "cell_type": "code",
      "metadata": {
        "colab": {
          "base_uri": "https://localhost:8080/"
        },
        "id": "W2ooQV0wIJuR",
        "outputId": "21ebed45-85ca-4a63-8806-8e9939e39979"
      },
      "source": [
        "model = ARIMA(gdp_df.GDP, order=(1,2,2))\r\n",
        "model_fit = model.fit()\r\n",
        "print(model_fit.summary())\r\n",
        "print('Residuals Description')\r\n",
        "print(model_fit.resid.describe())"
      ],
      "execution_count": null,
      "outputs": [
        {
          "output_type": "stream",
          "text": [
            "/usr/local/lib/python3.6/dist-packages/statsmodels/tsa/base/tsa_model.py:165: ValueWarning: No frequency information was provided, so inferred frequency QS-OCT will be used.\n",
            "  % freq, ValueWarning)\n",
            "/usr/local/lib/python3.6/dist-packages/statsmodels/tsa/base/tsa_model.py:165: ValueWarning: No frequency information was provided, so inferred frequency QS-OCT will be used.\n",
            "  % freq, ValueWarning)\n"
          ],
          "name": "stderr"
        },
        {
          "output_type": "stream",
          "text": [
            "                             ARIMA Model Results                              \n",
            "==============================================================================\n",
            "Dep. Variable:                 D2.GDP   No. Observations:                  119\n",
            "Model:                 ARIMA(1, 2, 2)   Log Likelihood                -691.218\n",
            "Method:                       css-mle   S.D. of innovations             79.435\n",
            "Date:                Sat, 02 Jan 2021   AIC                           1392.437\n",
            "Time:                        17:24:06   BIC                           1406.333\n",
            "Sample:                    07-01-1990   HQIC                          1398.080\n",
            "                         - 01-01-2020                                         \n",
            "================================================================================\n",
            "                   coef    std err          z      P>|z|      [0.025      0.975]\n",
            "--------------------------------------------------------------------------------\n",
            "const            0.6276      0.445      1.410      0.161      -0.245       1.500\n",
            "ar.L1.D2.GDP     0.6924      0.147      4.699      0.000       0.404       0.981\n",
            "ma.L1.D2.GDP    -1.3252      0.188     -7.049      0.000      -1.694      -0.957\n",
            "ma.L2.D2.GDP     0.3252      0.187      1.742      0.084      -0.041       0.691\n",
            "                                    Roots                                    \n",
            "=============================================================================\n",
            "                  Real          Imaginary           Modulus         Frequency\n",
            "-----------------------------------------------------------------------------\n",
            "AR.1            1.4443           +0.0000j            1.4443            0.0000\n",
            "MA.1            1.0001           +0.0000j            1.0001            0.0000\n",
            "MA.2            3.0747           +0.0000j            3.0747            0.0000\n",
            "-----------------------------------------------------------------------------\n",
            "Residuals Description\n",
            "count    119.000000\n",
            "mean       1.878622\n",
            "std       80.365510\n",
            "min     -378.051788\n",
            "25%      -29.869639\n",
            "50%        9.383128\n",
            "75%       50.389308\n",
            "max      215.278369\n",
            "dtype: float64\n"
          ],
          "name": "stdout"
        }
      ]
    },
    {
      "cell_type": "markdown",
      "metadata": {
        "id": "zSuVm9zYIOus"
      },
      "source": [
        "Model 3 (order = 1,2,2) has the smallest AIC (1392.437) and log-likelihood (-691.218) estimates thus far. So far, this is the winning model based on the AIC and log-likelihood estimates."
      ]
    },
    {
      "cell_type": "markdown",
      "metadata": {
        "id": "aQvTEtyjIaO7"
      },
      "source": [
        "**Model 4**"
      ]
    },
    {
      "cell_type": "code",
      "metadata": {
        "colab": {
          "base_uri": "https://localhost:8080/"
        },
        "id": "Trs4IcX9Ibsc",
        "outputId": "4bcc6c72-d0f1-483f-c15d-7c238106955b"
      },
      "source": [
        "model = ARIMA(gdp_df.GDP, order=(2,2,2))\r\n",
        "model_fit = model.fit()\r\n",
        "print(model_fit.summary())\r\n",
        "print('Residuals Description')\r\n",
        "print(model_fit.resid.describe())"
      ],
      "execution_count": null,
      "outputs": [
        {
          "output_type": "stream",
          "text": [
            "/usr/local/lib/python3.6/dist-packages/statsmodels/tsa/base/tsa_model.py:165: ValueWarning: No frequency information was provided, so inferred frequency QS-OCT will be used.\n",
            "  % freq, ValueWarning)\n",
            "/usr/local/lib/python3.6/dist-packages/statsmodels/tsa/base/tsa_model.py:165: ValueWarning: No frequency information was provided, so inferred frequency QS-OCT will be used.\n",
            "  % freq, ValueWarning)\n",
            "/usr/local/lib/python3.6/dist-packages/statsmodels/tsa/tsatools.py:668: RuntimeWarning: overflow encountered in exp\n",
            "  newparams = ((1-np.exp(-params))/(1+np.exp(-params))).copy()\n",
            "/usr/local/lib/python3.6/dist-packages/statsmodels/tsa/tsatools.py:668: RuntimeWarning: invalid value encountered in true_divide\n",
            "  newparams = ((1-np.exp(-params))/(1+np.exp(-params))).copy()\n",
            "/usr/local/lib/python3.6/dist-packages/statsmodels/tsa/tsatools.py:669: RuntimeWarning: overflow encountered in exp\n",
            "  tmp = ((1-np.exp(-params))/(1+np.exp(-params))).copy()\n",
            "/usr/local/lib/python3.6/dist-packages/statsmodels/tsa/tsatools.py:669: RuntimeWarning: invalid value encountered in true_divide\n",
            "  tmp = ((1-np.exp(-params))/(1+np.exp(-params))).copy()\n"
          ],
          "name": "stderr"
        },
        {
          "output_type": "stream",
          "text": [
            "                             ARIMA Model Results                              \n",
            "==============================================================================\n",
            "Dep. Variable:                 D2.GDP   No. Observations:                  119\n",
            "Model:                 ARIMA(2, 2, 2)   Log Likelihood                -691.415\n",
            "Method:                       css-mle   S.D. of innovations             78.972\n",
            "Date:                Sat, 02 Jan 2021   AIC                           1394.831\n",
            "Time:                        17:25:16   BIC                           1411.506\n",
            "Sample:                    07-01-1990   HQIC                          1401.602\n",
            "                         - 01-01-2020                                         \n",
            "================================================================================\n",
            "                   coef    std err          z      P>|z|      [0.025      0.975]\n",
            "--------------------------------------------------------------------------------\n",
            "const            0.6727      0.360      1.868      0.064      -0.033       1.379\n",
            "ar.L1.D2.GDP    -0.5547        nan        nan        nan         nan         nan\n",
            "ar.L2.D2.GDP     0.4453        nan        nan        nan         nan         nan\n",
            "ma.L1.D2.GDP    -0.0001        nan        nan        nan         nan         nan\n",
            "ma.L2.D2.GDP    -0.9999        nan        nan        nan         nan         nan\n",
            "                                    Roots                                    \n",
            "=============================================================================\n",
            "                  Real          Imaginary           Modulus         Frequency\n",
            "-----------------------------------------------------------------------------\n",
            "AR.1           -1.0000           +0.0000j            1.0000            0.5000\n",
            "AR.2            2.2457           +0.0000j            2.2457            0.0000\n",
            "MA.1            1.0000           +0.0000j            1.0000            0.0000\n",
            "MA.2           -1.0001           +0.0000j            1.0001            0.5000\n",
            "-----------------------------------------------------------------------------\n",
            "Residuals Description\n",
            "count    119.000000\n",
            "mean       1.979519\n",
            "std       80.286165\n",
            "min     -378.388204\n",
            "25%      -27.977432\n",
            "50%        8.028829\n",
            "75%       48.300202\n",
            "max      227.118573\n",
            "dtype: float64\n"
          ],
          "name": "stdout"
        },
        {
          "output_type": "stream",
          "text": [
            "/usr/local/lib/python3.6/dist-packages/statsmodels/base/model.py:492: HessianInversionWarning: Inverting hessian failed, no bse or cov_params available\n",
            "  'available', HessianInversionWarning)\n",
            "/usr/local/lib/python3.6/dist-packages/statsmodels/tsa/arima_model.py:1441: RuntimeWarning: invalid value encountered in sqrt\n",
            "  return np.sqrt(np.diag(-inv(hess)))\n"
          ],
          "name": "stderr"
        }
      ]
    },
    {
      "cell_type": "markdown",
      "metadata": {
        "id": "GnJAAjPtIhlL"
      },
      "source": [
        "Model 4 (order = 2,2,2) has an AIC of 1394.831 and a log-likehood estimate of -691.415. The log-likelihoods of models 3 and 4 are nearly identical (and both are better than models 1 and 2), but the AIC is smaller in model 3. Model 3 is the best fit model thus far."
      ]
    },
    {
      "cell_type": "markdown",
      "metadata": {
        "id": "nhGblzZVJOoR"
      },
      "source": [
        "**Model 5**"
      ]
    },
    {
      "cell_type": "code",
      "metadata": {
        "colab": {
          "base_uri": "https://localhost:8080/"
        },
        "id": "DHr22KqyJQFS",
        "outputId": "ad025e92-8f9a-4eef-c8de-24f8a3d3ffb8"
      },
      "source": [
        "model = ARIMA(gdp_df.GDP, order=(0,1,2))\r\n",
        "model_fit = model.fit()\r\n",
        "print(model_fit.summary())\r\n",
        "print('Residuals Description')\r\n",
        "print(model_fit.resid.describe())"
      ],
      "execution_count": null,
      "outputs": [
        {
          "output_type": "stream",
          "text": [
            "                             ARIMA Model Results                              \n",
            "==============================================================================\n",
            "Dep. Variable:                  D.GDP   No. Observations:                  120\n",
            "Model:                 ARIMA(0, 1, 2)   Log Likelihood                -698.976\n",
            "Method:                       css-mle   S.D. of innovations             81.868\n",
            "Date:                Sat, 02 Jan 2021   AIC                           1405.953\n",
            "Time:                        17:28:51   BIC                           1417.103\n",
            "Sample:                    04-01-1990   HQIC                          1410.481\n",
            "                         - 01-01-2020                                         \n",
            "===============================================================================\n",
            "                  coef    std err          z      P>|z|      [0.025      0.975]\n",
            "-------------------------------------------------------------------------------\n",
            "const         129.0854     11.677     11.055      0.000     106.200     151.971\n",
            "ma.L1.D.GDP     0.3857      0.102      3.791      0.000       0.186       0.585\n",
            "ma.L2.D.GDP     0.1821      0.086      2.109      0.037       0.013       0.351\n",
            "                                    Roots                                    \n",
            "=============================================================================\n",
            "                  Real          Imaginary           Modulus         Frequency\n",
            "-----------------------------------------------------------------------------\n",
            "MA.1           -1.0589           -2.0904j            2.3433           -0.3246\n",
            "MA.2           -1.0589           +2.0904j            2.3433            0.3246\n",
            "-----------------------------------------------------------------------------\n",
            "Residuals Description\n",
            "count    120.000000\n",
            "mean       0.056965\n",
            "std       82.230321\n",
            "min     -380.839055\n",
            "25%      -36.018727\n",
            "50%        1.711012\n",
            "75%       49.427512\n",
            "max      245.139295\n",
            "dtype: float64\n"
          ],
          "name": "stdout"
        },
        {
          "output_type": "stream",
          "text": [
            "/usr/local/lib/python3.6/dist-packages/statsmodels/tsa/base/tsa_model.py:165: ValueWarning: No frequency information was provided, so inferred frequency QS-OCT will be used.\n",
            "  % freq, ValueWarning)\n",
            "/usr/local/lib/python3.6/dist-packages/statsmodels/tsa/base/tsa_model.py:165: ValueWarning: No frequency information was provided, so inferred frequency QS-OCT will be used.\n",
            "  % freq, ValueWarning)\n"
          ],
          "name": "stderr"
        }
      ]
    },
    {
      "cell_type": "markdown",
      "metadata": {
        "id": "BeoF2BoaJUtu"
      },
      "source": [
        "Model 5 (order = 0,1,2) has a log-likelihood estimate of -698.976 and an AIC of 1405.953. Based on these metrics alone, Models 3 and 4 outperform Model 5 in terms of fitting this data.\r\n",
        "\r\n",
        "Model 3 appears to be the most efficient at modeling this data. I want to compare the AIC estimates to make sure that this is the best decision."
      ]
    },
    {
      "cell_type": "code",
      "metadata": {
        "colab": {
          "base_uri": "https://localhost:8080/"
        },
        "id": "GiWslb18Jh8h",
        "outputId": "ac6404fd-6e94-4736-e90f-0aa6dc044ec1"
      },
      "source": [
        "#Model 3 AIC compared to all other models' AIC estimates\r\n",
        "from numpy import math\r\n",
        "#compare to model 1\r\n",
        "print(math.exp((1330.577-1345.386)/2))\r\n",
        "#compare to model 2\r\n",
        "print(math.exp((1330.577-1332.915)/2))\r\n",
        "#compare to model 4\r\n",
        "print(math.exp((1330.577-1332.148)/2))\r\n",
        "#compare to model 5\r\n",
        "print(math.exp((1330.577-1338.874)/2))"
      ],
      "execution_count": null,
      "outputs": [
        {
          "output_type": "stream",
          "text": [
            "0.0006085083033657385\n",
            "0.3106774634419672\n",
            "0.45589169894022774\n",
            "0.015788080853420927\n"
          ],
          "name": "stdout"
        }
      ]
    },
    {
      "cell_type": "markdown",
      "metadata": {
        "id": "sJVBrgJRJmZ1"
      },
      "source": [
        "The above estimates indicate that Model 3 significantly outperforms models 1 and 5. Model 3 is also a better fit to the data than Models 2 and 4, but the difference between Model 3 and Models 4 and 5 is not as large as the one between Model 3 and Models 1 and 5. This tells me that the PACF plots were very helpful in allowing me to pick the best p and I values (1 and 2), as the best performing model used these numbers. I was able to tweak the MA number in the various models, holding p and I constant in the first few models, to find that an MA of 2 is the best for this specific series. The most appropriate order is (1,2,2) for this series. In other words, this time series is best modeled with 1 autocorrelation term, 2 difference terms, and 2 moving average terms."
      ]
    },
    {
      "cell_type": "markdown",
      "metadata": {
        "id": "Gka7BVsiJqHG"
      },
      "source": [
        "##Exploring Model 3"
      ]
    },
    {
      "cell_type": "markdown",
      "metadata": {
        "id": "4_adse2BJsu0"
      },
      "source": [
        "Let's check out the residuals from model 3 to make sure they are normally distributed and random."
      ]
    },
    {
      "cell_type": "code",
      "metadata": {
        "colab": {
          "base_uri": "https://localhost:8080/",
          "height": 664
        },
        "id": "yZ_TZpBOJwUk",
        "outputId": "6c985d7a-83c6-4dfc-b82d-fc29a2a1fe93"
      },
      "source": [
        "model = ARIMA(gdp_df.GDP, order=(1,2,2))\r\n",
        "model_fit = model.fit()\r\n",
        "\r\n",
        "residuals = pd.DataFrame(model_fit.resid)\r\n",
        "\r\n",
        "residuals.plot(legend=False)\r\n",
        "plt.title('Time Series of Residuals')\r\n",
        "\r\n",
        "residuals.hist(bins=20)\r\n",
        "plt.title('Histogram of Residuals')"
      ],
      "execution_count": null,
      "outputs": [
        {
          "output_type": "stream",
          "text": [
            "/usr/local/lib/python3.6/dist-packages/statsmodels/tsa/base/tsa_model.py:165: ValueWarning: No frequency information was provided, so inferred frequency QS-OCT will be used.\n",
            "  % freq, ValueWarning)\n",
            "/usr/local/lib/python3.6/dist-packages/statsmodels/tsa/base/tsa_model.py:165: ValueWarning: No frequency information was provided, so inferred frequency QS-OCT will be used.\n",
            "  % freq, ValueWarning)\n"
          ],
          "name": "stderr"
        },
        {
          "output_type": "execute_result",
          "data": {
            "text/plain": [
              "Text(0.5, 1.0, 'Histogram of Residuals')"
            ]
          },
          "metadata": {
            "tags": []
          },
          "execution_count": 21
        },
        {
          "output_type": "display_data",
          "data": {
            "image/png": "[encoded data removed]",
            "text/plain": [
              "<Figure size 432x288 with 1 Axes>"
            ]
          },
          "metadata": {
            "tags": [],
            "needs_background": "light"
          }
        },
        {
          "output_type": "display_data",
          "data": {
            "image/png": "[encoded data removed]",
            "text/plain": [
              "<Figure size 432x288 with 1 Axes>"
            ]
          },
          "metadata": {
            "tags": [],
            "needs_background": "light"
          }
        }
      ]
    },
    {
      "cell_type": "markdown",
      "metadata": {
        "id": "oApco4G9J0ot"
      },
      "source": [
        "There does not seem to be any clear trend based on the plot of the residuals, though there is some volatility. The histogram indicates that the residuals are close enough to the standard normal."
      ]
    },
    {
      "cell_type": "markdown",
      "metadata": {
        "id": "QqLsun34J3n2"
      },
      "source": [
        "**Model 3 Interpretation**"
      ]
    },
    {
      "cell_type": "code",
      "metadata": {
        "colab": {
          "base_uri": "https://localhost:8080/"
        },
        "id": "cKeAF-_WJ5kM",
        "outputId": "510aea52-367f-4dac-abef-527aa97987ad"
      },
      "source": [
        "model = ARIMA(gdp_df.GDP, order=(1,2,2))\r\n",
        "model_fit = model.fit()\r\n",
        "print(model_fit.summary())"
      ],
      "execution_count": null,
      "outputs": [
        {
          "output_type": "stream",
          "text": [
            "                             ARIMA Model Results                              \n",
            "==============================================================================\n",
            "Dep. Variable:                 D2.GDP   No. Observations:                  119\n",
            "Model:                 ARIMA(1, 2, 2)   Log Likelihood                -691.218\n",
            "Method:                       css-mle   S.D. of innovations             79.435\n",
            "Date:                Sat, 02 Jan 2021   AIC                           1392.437\n",
            "Time:                        17:31:40   BIC                           1406.333\n",
            "Sample:                    07-01-1990   HQIC                          1398.080\n",
            "                         - 01-01-2020                                         \n",
            "================================================================================\n",
            "                   coef    std err          z      P>|z|      [0.025      0.975]\n",
            "--------------------------------------------------------------------------------\n",
            "const            0.6276      0.445      1.410      0.161      -0.245       1.500\n",
            "ar.L1.D2.GDP     0.6924      0.147      4.699      0.000       0.404       0.981\n",
            "ma.L1.D2.GDP    -1.3252      0.188     -7.049      0.000      -1.694      -0.957\n",
            "ma.L2.D2.GDP     0.3252      0.187      1.742      0.084      -0.041       0.691\n",
            "                                    Roots                                    \n",
            "=============================================================================\n",
            "                  Real          Imaginary           Modulus         Frequency\n",
            "-----------------------------------------------------------------------------\n",
            "AR.1            1.4443           +0.0000j            1.4443            0.0000\n",
            "MA.1            1.0001           +0.0000j            1.0001            0.0000\n",
            "MA.2            3.0747           +0.0000j            3.0747            0.0000\n",
            "-----------------------------------------------------------------------------\n"
          ],
          "name": "stdout"
        },
        {
          "output_type": "stream",
          "text": [
            "/usr/local/lib/python3.6/dist-packages/statsmodels/tsa/base/tsa_model.py:165: ValueWarning: No frequency information was provided, so inferred frequency QS-OCT will be used.\n",
            "  % freq, ValueWarning)\n",
            "/usr/local/lib/python3.6/dist-packages/statsmodels/tsa/base/tsa_model.py:165: ValueWarning: No frequency information was provided, so inferred frequency QS-OCT will be used.\n",
            "  % freq, ValueWarning)\n"
          ],
          "name": "stderr"
        }
      ]
    },
    {
      "cell_type": "markdown",
      "metadata": {
        "id": "9NXfR61TJ90T"
      },
      "source": [
        "The constant in Model 3 is 0.6276 . Then, each day is quite close to the previous day's value (as indicated by the AR1 coefficient being 0.6924)."
      ]
    }
  ]
}