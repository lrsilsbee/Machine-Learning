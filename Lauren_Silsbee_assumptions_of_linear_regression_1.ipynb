{
  "nbformat": 4,
  "nbformat_minor": 0,
  "metadata": {
    "colab": {
      "name": "Lauren Silsbee: assumptions of linear regression 1.ipynb",
      "provenance": [],
      "authorship_tag": "ABX9TyOY37z7QsinWk+NVVTTAzhA",
      "include_colab_link": true
    },
    "kernelspec": {
      "name": "python3",
      "display_name": "Python 3"
    }
  },
  "cells": [
    {
      "cell_type": "markdown",
      "metadata": {
        "id": "view-in-github",
        "colab_type": "text"
      },
      "source": [
        "<a href=\"https://colab.research.google.com/github/lrsilsbee/Machine-Learning/blob/main/Lauren_Silsbee_assumptions_of_linear_regression_1.ipynb\" target=\"_parent\"><img src=\"https://colab.research.google.com/assets/colab-badge.svg\" alt=\"Open In Colab\"/></a>"
      ]
    },
    {
      "cell_type": "code",
      "metadata": {
        "id": "fk6iQkeiMZUQ"
      },
      "source": [
        "import numpy as np\n",
        "import pandas as pd\n",
        "import matplotlib.pyplot as plt\n",
        "from sqlalchemy import create_engine\n",
        "import statsmodels.api as sm\n",
        "from sklearn import linear_model\n",
        "\n",
        "import warnings\n",
        "warnings.filterwarnings('ignore')\n",
        "\n",
        "postgres_user = 'dsbc_student'\n",
        "postgres_pw = '7*.8G9QH21'\n",
        "postgres_host = '142.93.121.174'\n",
        "postgres_port = '5432'\n",
        "postgres_db = 'weatherinszeged'\n",
        "engine = create_engine('postgresql://{}:{}@{}:{}/{}'.format(\n",
        "    postgres_user, postgres_pw, postgres_host, postgres_port, postgres_db))\n",
        "weather_df = pd.read_sql_query('select * from weatherinszeged',con=engine)\n",
        "engine.dispose()"
      ],
      "execution_count": null,
      "outputs": []
    },
    {
      "cell_type": "markdown",
      "metadata": {
        "id": "7XWjoRZUMmUG"
      },
      "source": [
        "Build a regression model where the target variable is temperature. As explanatory variables, use humidity, windspeed, windbearing, and pressure. Estimate the model using OLS."
      ]
    },
    {
      "cell_type": "code",
      "metadata": {
        "id": "SphRL8i7MvYU",
        "colab": {
          "base_uri": "https://localhost:8080/",
          "height": 374
        },
        "outputId": "a04c7bbf-1c34-490e-cc69-22df2b9ae02e"
      },
      "source": [
        "weather_df.head()"
      ],
      "execution_count": null,
      "outputs": [
        {
          "output_type": "execute_result",
          "data": {
            "text/html": [
              "<div>\n",
              "<style scoped>\n",
              "    .dataframe tbody tr th:only-of-type {\n",
              "        vertical-align: middle;\n",
              "    }\n",
              "\n",
              "    .dataframe tbody tr th {\n",
              "        vertical-align: top;\n",
              "    }\n",
              "\n",
              "    .dataframe thead th {\n",
              "        text-align: right;\n",
              "    }\n",
              "</style>\n",
              "<table border=\"1\" class=\"dataframe\">\n",
              "  <thead>\n",
              "    <tr style=\"text-align: right;\">\n",
              "      <th></th>\n",
              "      <th>date</th>\n",
              "      <th>summary</th>\n",
              "      <th>preciptype</th>\n",
              "      <th>temperature</th>\n",
              "      <th>apparenttemperature</th>\n",
              "      <th>humidity</th>\n",
              "      <th>windspeed</th>\n",
              "      <th>windbearing</th>\n",
              "      <th>visibility</th>\n",
              "      <th>loudcover</th>\n",
              "      <th>pressure</th>\n",
              "      <th>dailysummary</th>\n",
              "    </tr>\n",
              "  </thead>\n",
              "  <tbody>\n",
              "    <tr>\n",
              "      <th>0</th>\n",
              "      <td>2006-03-31 22:00:00+00:00</td>\n",
              "      <td>Partly Cloudy</td>\n",
              "      <td>rain</td>\n",
              "      <td>9.472222</td>\n",
              "      <td>7.388889</td>\n",
              "      <td>0.89</td>\n",
              "      <td>14.1197</td>\n",
              "      <td>251.0</td>\n",
              "      <td>15.8263</td>\n",
              "      <td>0.0</td>\n",
              "      <td>1015.13</td>\n",
              "      <td>Partly cloudy throughout the day.</td>\n",
              "    </tr>\n",
              "    <tr>\n",
              "      <th>1</th>\n",
              "      <td>2006-03-31 23:00:00+00:00</td>\n",
              "      <td>Partly Cloudy</td>\n",
              "      <td>rain</td>\n",
              "      <td>9.355556</td>\n",
              "      <td>7.227778</td>\n",
              "      <td>0.86</td>\n",
              "      <td>14.2646</td>\n",
              "      <td>259.0</td>\n",
              "      <td>15.8263</td>\n",
              "      <td>0.0</td>\n",
              "      <td>1015.63</td>\n",
              "      <td>Partly cloudy throughout the day.</td>\n",
              "    </tr>\n",
              "    <tr>\n",
              "      <th>2</th>\n",
              "      <td>2006-04-01 00:00:00+00:00</td>\n",
              "      <td>Mostly Cloudy</td>\n",
              "      <td>rain</td>\n",
              "      <td>9.377778</td>\n",
              "      <td>9.377778</td>\n",
              "      <td>0.89</td>\n",
              "      <td>3.9284</td>\n",
              "      <td>204.0</td>\n",
              "      <td>14.9569</td>\n",
              "      <td>0.0</td>\n",
              "      <td>1015.94</td>\n",
              "      <td>Partly cloudy throughout the day.</td>\n",
              "    </tr>\n",
              "    <tr>\n",
              "      <th>3</th>\n",
              "      <td>2006-04-01 01:00:00+00:00</td>\n",
              "      <td>Partly Cloudy</td>\n",
              "      <td>rain</td>\n",
              "      <td>8.288889</td>\n",
              "      <td>5.944444</td>\n",
              "      <td>0.83</td>\n",
              "      <td>14.1036</td>\n",
              "      <td>269.0</td>\n",
              "      <td>15.8263</td>\n",
              "      <td>0.0</td>\n",
              "      <td>1016.41</td>\n",
              "      <td>Partly cloudy throughout the day.</td>\n",
              "    </tr>\n",
              "    <tr>\n",
              "      <th>4</th>\n",
              "      <td>2006-04-01 02:00:00+00:00</td>\n",
              "      <td>Mostly Cloudy</td>\n",
              "      <td>rain</td>\n",
              "      <td>8.755556</td>\n",
              "      <td>6.977778</td>\n",
              "      <td>0.83</td>\n",
              "      <td>11.0446</td>\n",
              "      <td>259.0</td>\n",
              "      <td>15.8263</td>\n",
              "      <td>0.0</td>\n",
              "      <td>1016.51</td>\n",
              "      <td>Partly cloudy throughout the day.</td>\n",
              "    </tr>\n",
              "  </tbody>\n",
              "</table>\n",
              "</div>"
            ],
            "text/plain": [
              "                       date  ...                       dailysummary\n",
              "0 2006-03-31 22:00:00+00:00  ...  Partly cloudy throughout the day.\n",
              "1 2006-03-31 23:00:00+00:00  ...  Partly cloudy throughout the day.\n",
              "2 2006-04-01 00:00:00+00:00  ...  Partly cloudy throughout the day.\n",
              "3 2006-04-01 01:00:00+00:00  ...  Partly cloudy throughout the day.\n",
              "4 2006-04-01 02:00:00+00:00  ...  Partly cloudy throughout the day.\n",
              "\n",
              "[5 rows x 12 columns]"
            ]
          },
          "metadata": {
            "tags": []
          },
          "execution_count": 3
        }
      ]
    },
    {
      "cell_type": "markdown",
      "metadata": {
        "id": "iVw-XfyXM2gK"
      },
      "source": [
        "All the required variables are numeric, so we don't need to worry about one-hot encoding to create dummy variables. Check for missing values."
      ]
    },
    {
      "cell_type": "code",
      "metadata": {
        "id": "IoDy_9ooM3Ui",
        "colab": {
          "base_uri": "https://localhost:8080/"
        },
        "outputId": "44816e43-b84f-4107-94ed-5c87810d60e1"
      },
      "source": [
        "weather_df.isnull().any()"
      ],
      "execution_count": null,
      "outputs": [
        {
          "output_type": "execute_result",
          "data": {
            "text/plain": [
              "date                   False\n",
              "summary                False\n",
              "preciptype             False\n",
              "temperature            False\n",
              "apparenttemperature    False\n",
              "humidity               False\n",
              "windspeed              False\n",
              "windbearing            False\n",
              "visibility             False\n",
              "loudcover              False\n",
              "pressure               False\n",
              "dailysummary           False\n",
              "dtype: bool"
            ]
          },
          "metadata": {
            "tags": []
          },
          "execution_count": 4
        }
      ]
    },
    {
      "cell_type": "markdown",
      "metadata": {
        "id": "yNvOlo4XM69l"
      },
      "source": [
        "There are no missing values. Build the model."
      ]
    },
    {
      "cell_type": "code",
      "metadata": {
        "id": "4qGsKMVzM77E",
        "colab": {
          "base_uri": "https://localhost:8080/"
        },
        "outputId": "2033221b-4fc6-41b8-adca-8d577ea9344a"
      },
      "source": [
        "Y = weather_df.temperature\n",
        "X = weather_df[['humidity', 'windspeed', 'windbearing', 'pressure']] \n",
        "\n",
        "lrm = linear_model.LinearRegression()\n",
        "\n",
        "lrm.fit(X, Y)\n",
        "\n",
        "predictions = lrm.predict(X)\n",
        "errors = Y - predictions\n",
        "\n",
        "print(lrm.coef_)\n",
        "print(lrm.intercept_)"
      ],
      "execution_count": null,
      "outputs": [
        {
          "output_type": "stream",
          "text": [
            "[-3.24962454e+01 -2.01413742e-01  4.04836936e-03 -6.91759209e-04]\n",
            "37.92643818528538\n"
          ],
          "name": "stdout"
        }
      ]
    },
    {
      "cell_type": "markdown",
      "metadata": {
        "id": "CH5LbMIgNAyU"
      },
      "source": [
        "Now, check if your model meets the Gauss-Markov Conditions above. If some of the assumptions are not met, discuss the implications of the violations for the correctness of your model."
      ]
    },
    {
      "cell_type": "markdown",
      "metadata": {
        "id": "9aLFCfI2NBvy"
      },
      "source": [
        "Assumption: The error term should be zero on average."
      ]
    },
    {
      "cell_type": "code",
      "metadata": {
        "id": "JDQi0fc9NE0Y",
        "colab": {
          "base_uri": "https://localhost:8080/"
        },
        "outputId": "d7258ffa-2faf-40be-bb8a-4410494b2528"
      },
      "source": [
        "predictions = lrm.predict(X)\n",
        "errors = Y - predictions\n",
        "\n",
        "print(\"Mean of the errors is: {}\".format(np.mean(errors)))"
      ],
      "execution_count": null,
      "outputs": [
        {
          "output_type": "stream",
          "text": [
            "Mean of the errors is: -3.732130268532674e-15\n"
          ],
          "name": "stdout"
        }
      ]
    },
    {
      "cell_type": "markdown",
      "metadata": {
        "id": "zWk6CxVvNIqU"
      },
      "source": [
        "While not quite zero, the mean of the errors is close to 0 at -3."
      ]
    },
    {
      "cell_type": "markdown",
      "metadata": {
        "id": "aEOCgpw0NJpG"
      },
      "source": [
        "Assumption: Homoscedasticity"
      ]
    },
    {
      "cell_type": "code",
      "metadata": {
        "id": "CwziBNijNV4J",
        "colab": {
          "base_uri": "https://localhost:8080/",
          "height": 295
        },
        "outputId": "1a87bd75-5ead-4eb3-b6b7-3d90474166e6"
      },
      "source": [
        "from scipy.stats import bartlett\n",
        "from scipy.stats import levene\n",
        "plt.scatter(predictions, errors)\n",
        "plt.xlabel('Predicted')\n",
        "plt.ylabel('Residual')\n",
        "plt.axhline(y=0)\n",
        "plt.title('Residual vs. Predicted')\n",
        "plt.show()"
      ],
      "execution_count": null,
      "outputs": [
        {
          "output_type": "display_data",
          "data": {
            "image/png": "[encoded data removed]",
            "text/plain": [
              "<Figure size 432x288 with 1 Axes>"
            ]
          },
          "metadata": {
            "tags": [],
            "needs_background": "light"
          }
        }
      ]
    },
    {
      "cell_type": "code",
      "metadata": {
        "id": "vzkMD2mWNgtb",
        "colab": {
          "base_uri": "https://localhost:8080/"
        },
        "outputId": "ac0202bb-89b4-4ee1-f778-9788ab915e7c"
      },
      "source": [
        "print(bartlett(predictions, errors))\n",
        "print(levene(predictions, errors))"
      ],
      "execution_count": null,
      "outputs": [
        {
          "output_type": "stream",
          "text": [
            "BartlettResult(statistic=2464.844656867369, pvalue=0.0)\n",
            "LeveneResult(statistic=2321.2401008574006, pvalue=0.0)\n"
          ],
          "name": "stdout"
        }
      ]
    },
    {
      "cell_type": "markdown",
      "metadata": {
        "id": "IOzXDzjfNgdT"
      },
      "source": [
        "There is heteroscedasticity in the model. The plot shows that there might be some sort of pattern or clustering, and the Bartlett and Levene tests indicate that we cannot reject the null (of homoscedasticity)."
      ]
    },
    {
      "cell_type": "markdown",
      "metadata": {
        "id": "_JbbfJHUNnBP"
      },
      "source": [
        "Assumption: Low (or no) multicollinearity"
      ]
    },
    {
      "cell_type": "code",
      "metadata": {
        "id": "xPiUWK5oNotU",
        "colab": {
          "base_uri": "https://localhost:8080/",
          "height": 173
        },
        "outputId": "07c08147-2082-4aa4-f59f-a31a059c69bd"
      },
      "source": [
        "X.corr()"
      ],
      "execution_count": null,
      "outputs": [
        {
          "output_type": "execute_result",
          "data": {
            "text/html": [
              "<div>\n",
              "<style scoped>\n",
              "    .dataframe tbody tr th:only-of-type {\n",
              "        vertical-align: middle;\n",
              "    }\n",
              "\n",
              "    .dataframe tbody tr th {\n",
              "        vertical-align: top;\n",
              "    }\n",
              "\n",
              "    .dataframe thead th {\n",
              "        text-align: right;\n",
              "    }\n",
              "</style>\n",
              "<table border=\"1\" class=\"dataframe\">\n",
              "  <thead>\n",
              "    <tr style=\"text-align: right;\">\n",
              "      <th></th>\n",
              "      <th>humidity</th>\n",
              "      <th>windspeed</th>\n",
              "      <th>windbearing</th>\n",
              "      <th>pressure</th>\n",
              "    </tr>\n",
              "  </thead>\n",
              "  <tbody>\n",
              "    <tr>\n",
              "      <th>humidity</th>\n",
              "      <td>1.000000</td>\n",
              "      <td>-0.224951</td>\n",
              "      <td>0.000735</td>\n",
              "      <td>0.005454</td>\n",
              "    </tr>\n",
              "    <tr>\n",
              "      <th>windspeed</th>\n",
              "      <td>-0.224951</td>\n",
              "      <td>1.000000</td>\n",
              "      <td>0.103822</td>\n",
              "      <td>-0.049263</td>\n",
              "    </tr>\n",
              "    <tr>\n",
              "      <th>windbearing</th>\n",
              "      <td>0.000735</td>\n",
              "      <td>0.103822</td>\n",
              "      <td>1.000000</td>\n",
              "      <td>-0.011651</td>\n",
              "    </tr>\n",
              "    <tr>\n",
              "      <th>pressure</th>\n",
              "      <td>0.005454</td>\n",
              "      <td>-0.049263</td>\n",
              "      <td>-0.011651</td>\n",
              "      <td>1.000000</td>\n",
              "    </tr>\n",
              "  </tbody>\n",
              "</table>\n",
              "</div>"
            ],
            "text/plain": [
              "             humidity  windspeed  windbearing  pressure\n",
              "humidity     1.000000  -0.224951     0.000735  0.005454\n",
              "windspeed   -0.224951   1.000000     0.103822 -0.049263\n",
              "windbearing  0.000735   0.103822     1.000000 -0.011651\n",
              "pressure     0.005454  -0.049263    -0.011651  1.000000"
            ]
          },
          "metadata": {
            "tags": []
          },
          "execution_count": 9
        }
      ]
    },
    {
      "cell_type": "markdown",
      "metadata": {
        "id": "MhNUHHLwNsdb"
      },
      "source": [
        "This assumption seems to be met, as most variables have minimal correlation. Windspeed and humidity are the most correlated at -.22. This does not seem like a strong enough correlation to address it."
      ]
    },
    {
      "cell_type": "markdown",
      "metadata": {
        "id": "BsdCPGQ2Numa"
      },
      "source": [
        "Assumption: Error terms should be uncorrelated with one another"
      ]
    },
    {
      "cell_type": "code",
      "metadata": {
        "id": "gZApX6YhNwIm",
        "colab": {
          "base_uri": "https://localhost:8080/",
          "height": 265
        },
        "outputId": "b3a4390d-4b3e-4a32-be6c-1fe320db680a"
      },
      "source": [
        "plt.plot(errors)\n",
        "plt.show()"
      ],
      "execution_count": null,
      "outputs": [
        {
          "output_type": "display_data",
          "data": {
            "image/png": "[encoded data removed]",
            "text/plain": [
              "<Figure size 432x288 with 1 Axes>"
            ]
          },
          "metadata": {
            "tags": [],
            "needs_background": "light"
          }
        }
      ]
    },
    {
      "cell_type": "code",
      "metadata": {
        "id": "MhlUxvzTNzp1",
        "colab": {
          "base_uri": "https://localhost:8080/",
          "height": 265
        },
        "outputId": "4175e960-b658-49fc-ecfd-7e3e0ba08912"
      },
      "source": [
        "from statsmodels.tsa.stattools import acf\n",
        "\n",
        "acf_data = acf(errors)\n",
        "plt.plot(acf_data[1:])\n",
        "plt.show()"
      ],
      "execution_count": null,
      "outputs": [
        {
          "output_type": "display_data",
          "data": {
            "image/png": "[encoded data removed]",
            "text/plain": [
              "<Figure size 432x288 with 1 Axes>"
            ]
          },
          "metadata": {
            "tags": [],
            "needs_background": "light"
          }
        }
      ]
    },
    {
      "cell_type": "markdown",
      "metadata": {
        "id": "9i7-6W0BN3Xk"
      },
      "source": [
        "The autocorrelation function indicates that the error terms are correlated with each other, and sometimes very strongly so."
      ]
    },
    {
      "cell_type": "markdown",
      "metadata": {
        "id": "D3ZpP9frN5Jg"
      },
      "source": [
        "Assumption: Explanatory variables and error terms should be independent"
      ]
    },
    {
      "cell_type": "code",
      "metadata": {
        "id": "plNXgQMVN6TU",
        "colab": {
          "base_uri": "https://localhost:8080/"
        },
        "outputId": "ff1719e5-f261-4169-dc1b-0c3fc985fc1c"
      },
      "source": [
        "print(weather_df['humidity'].corr(errors))\n",
        "print(weather_df['windspeed'].corr(errors))\n",
        "print(weather_df['windbearing'].corr(errors))\n",
        "print(weather_df['pressure'].corr(errors))"
      ],
      "execution_count": null,
      "outputs": [
        {
          "output_type": "stream",
          "text": [
            "-3.7836822074319153e-16\n",
            "-1.3497274433668816e-16\n",
            "-1.703423922085657e-16\n",
            "8.559745821849717e-18\n"
          ],
          "name": "stdout"
        }
      ]
    },
    {
      "cell_type": "markdown",
      "metadata": {
        "id": "nsShU54DN-GE"
      },
      "source": [
        "It looks like the error terms are not correlated with one another."
      ]
    },
    {
      "cell_type": "markdown",
      "metadata": {
        "id": "PFCKAsMrN_9K"
      },
      "source": [
        "This model has violated a few assumptions. These issues will need to be addressed (e.g., adding omitted variables, removing correlated explanatory variables, etc.)."
      ]
    }
  ]
}