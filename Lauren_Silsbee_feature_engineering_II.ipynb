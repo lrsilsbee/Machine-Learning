{
  "nbformat": 4,
  "nbformat_minor": 0,
  "metadata": {
    "colab": {
      "name": "Lauren Silsbee: feature engineering II.ipynb",
      "provenance": [],
      "authorship_tag": "ABX9TyPOb3gyWKyneoxlIubf2uJk",
      "include_colab_link": true
    },
    "kernelspec": {
      "name": "python3",
      "display_name": "Python 3"
    }
  },
  "cells": [
    {
      "cell_type": "markdown",
      "metadata": {
        "id": "view-in-github",
        "colab_type": "text"
      },
      "source": [
        "<a href=\"https://colab.research.google.com/github/lrsilsbee/Machine-Learning/blob/main/Lauren_Silsbee_feature_engineering_II.ipynb\" target=\"_parent\"><img src=\"https://colab.research.google.com/assets/colab-badge.svg\" alt=\"Open In Colab\"/></a>"
      ]
    },
    {
      "cell_type": "code",
      "metadata": {
        "id": "rQzE2dv_V9rs"
      },
      "source": [
        "import pandas as pd\n",
        "import numpy as np\n",
        "from sqlalchemy import create_engine\n",
        "import matplotlib.pyplot as plt\n",
        "from scipy.stats.mstats import winsorize\n",
        "import warnings\n",
        "import seaborn as sns\n",
        "sns.set\n",
        "from sklearn.decomposition import PCA\n",
        "from sklearn.preprocessing import StandardScaler\n",
        "\n",
        "\n",
        "warnings.filterwarnings('ignore')\n",
        "sns.set(style=\"whitegrid\")\n",
        "\n",
        "warnings.filterwarnings('ignore')\n",
        "postgres_user = 'dsbc_student'\n",
        "postgres_pw = '7*.8G9QH21'\n",
        "postgres_host = '142.93.121.174'\n",
        "postgres_port = '5432'\n",
        "postgres_db = 'useducation'\n",
        "\n",
        "engine = create_engine('postgresql://{}:{}@{}:{}/{}'.format(\n",
        "    postgres_user, postgres_pw, postgres_host, postgres_port, postgres_db))\n",
        "\n",
        "us_education = pd.read_sql_query('select * from useducation',con=engine)\n",
        "engine.dispose()"
      ],
      "execution_count": null,
      "outputs": []
    },
    {
      "cell_type": "markdown",
      "metadata": {
        "id": "IwqDznGPWIEX"
      },
      "source": [
        "Question 1: Compute the average score for each row for all students weighted properly by grade. In other words, each row will have its own average. Notice that the number of students in the 4th grade isn't the same as the number of students in the 8th grade. So, you should appropriately weigh the scores!."
      ]
    },
    {
      "cell_type": "code",
      "metadata": {
        "id": "UQgY1ZiSWZEo"
      },
      "source": [
        "#Handle missing values first:\n",
        "\n",
        "fill_list = [\"ENROLL\", \"TOTAL_REVENUE\", \"FEDERAL_REVENUE\",\n",
        "             \"STATE_REVENUE\", \"LOCAL_REVENUE\", \"TOTAL_EXPENDITURE\",\n",
        "             \"INSTRUCTION_EXPENDITURE\", \"SUPPORT_SERVICES_EXPENDITURE\",\n",
        "             \"OTHER_EXPENDITURE\", \"CAPITAL_OUTLAY_EXPENDITURE\", \"GRADES_PK_G\",\n",
        "             \"GRADES_KG_G\", \"GRADES_4_G\", \"GRADES_8_G\", \"GRADES_12_G\", \"GRADES_1_8_G\",\n",
        "             \"GRADES_9_12_G\", \"GRADES_ALL_G\"]\n",
        "\n",
        "states = us_education[\"STATE\"].unique()\n",
        "\n",
        "for state in states:\n",
        "    us_education.loc[us_education[\"STATE\"] == state, fill_list] = us_education.loc[us_education[\"STATE\"] == state, fill_list].interpolate()\n",
        "\n",
        "# we drop the null values after interpolation\n",
        "us_education.dropna(inplace=True)"
      ],
      "execution_count": null,
      "outputs": []
    },
    {
      "cell_type": "code",
      "metadata": {
        "id": "_klpAkudWfr-"
      },
      "source": [
        "#Create a new variable with weighted averages and add to data frame\n",
        "\n",
        "us_education[\"total_score\"] = (us_education[\"GRADES_4_G\"]*((us_education[\"AVG_MATH_4_SCORE\"] + us_education[\"AVG_READING_4_SCORE\"])*0.5) + us_education[\"GRADES_8_G\"]\n",
        "                                 * ((us_education[\"AVG_MATH_8_SCORE\"] + us_education[\"AVG_READING_8_SCORE\"])*0.5))/(us_education[\"GRADES_4_G\"] + us_education[\"GRADES_8_G\"])"
      ],
      "execution_count": null,
      "outputs": []
    },
    {
      "cell_type": "markdown",
      "metadata": {
        "id": "fpt_SRk8WhYs"
      },
      "source": [
        "Question 2: What are the correlations between this newly created score variable and the expenditure types? Which 1 of the expenditure types is more correlated than the others?"
      ]
    },
    {
      "cell_type": "code",
      "metadata": {
        "id": "5WTgkEfYWlWk",
        "colab": {
          "base_uri": "https://localhost:8080/"
        },
        "outputId": "2148da8d-061a-4d8d-e049-ef80a15f92d7"
      },
      "source": [
        "us_education.head()\n",
        "#TOTAL_EXPENDITURE\n",
        "#INSTRUCTION_EXPENDITURE\n",
        "#SUPPORT_SERVICES_EXPENDITURE\n",
        "#OTHER_EXPENDITURE\n",
        "#CAPITAL_OUTLAY_EXPENDITURE\n",
        "\n",
        "\n",
        "us_education[[\"total_score\", \"TOTAL_EXPENDITURE\", \"INSTRUCTION_EXPENDITURE\",\n",
        "              \"SUPPORT_SERVICES_EXPENDITURE\", \"OTHER_EXPENDITURE\", \"CAPITAL_OUTLAY_EXPENDITURE\"]].corr()\n",
        "\n",
        "print('Of expenditure types, instruction expenditure is most correlated with total score, though this is still quite a low correlation number.')"
      ],
      "execution_count": null,
      "outputs": [
        {
          "output_type": "stream",
          "text": [
            "Of expenditure types, instruction expenditure is most correlated with total score, though this is still quite a low correlation number.\n"
          ],
          "name": "stdout"
        }
      ]
    },
    {
      "cell_type": "markdown",
      "metadata": {
        "id": "LNo89gb9Wr-O"
      },
      "source": [
        "Question 3: Now, apply PCA to the 4 expenditure types. How much of the total variance is explained by the 1st component?"
      ]
    },
    {
      "cell_type": "code",
      "metadata": {
        "id": "DQNLCxx4Wufs",
        "colab": {
          "base_uri": "https://localhost:8080/"
        },
        "outputId": "6c18346e-f109-42d3-e596-cd7c2f529c7a"
      },
      "source": [
        "#Use PCA with just the expenditure variables. Then look at the first component\n",
        "\n",
        "#Matrix X with the four variables: \n",
        "X = us_education[[\"INSTRUCTION_EXPENDITURE\", \"SUPPORT_SERVICES_EXPENDITURE\",\n",
        "                  \"OTHER_EXPENDITURE\", \"CAPITAL_OUTLAY_EXPENDITURE\"]]\n",
        "\n",
        "#standarize the variables in matrix X:\n",
        "X = StandardScaler().fit_transform(X)\n",
        "\n",
        "#Conduct PCA, look at just the first component: \n",
        "sklearn_pca = PCA(n_components=1)\n",
        "us_education[\"pca_1\"] = sklearn_pca.fit_transform(X)\n",
        "\n",
        "\n",
        "\n",
        "print(sklearn_pca.explained_variance_ratio_)\n",
        "print('The variance explained by this first component is 94 %')"
      ],
      "execution_count": null,
      "outputs": [
        {
          "output_type": "stream",
          "text": [
            "[0.9430175]\n",
            "The variance explained by this first component is 94 %\n"
          ],
          "name": "stdout"
        }
      ]
    },
    {
      "cell_type": "markdown",
      "metadata": {
        "id": "ym9OoKJ9WyO4"
      },
      "source": [
        "Question 4: What is the correlation between the overall score variable and the 1st principal component?"
      ]
    },
    {
      "cell_type": "code",
      "metadata": {
        "id": "h-TlATRiW2MX",
        "colab": {
          "base_uri": "https://localhost:8080/",
          "height": 111
        },
        "outputId": "9459ade7-6eda-41b0-e4bd-d008f1f938cc"
      },
      "source": [
        "us_education[['total_score', \"pca_1\"]].corr()"
      ],
      "execution_count": null,
      "outputs": [
        {
          "output_type": "execute_result",
          "data": {
            "text/html": [
              "<div>\n",
              "<style scoped>\n",
              "    .dataframe tbody tr th:only-of-type {\n",
              "        vertical-align: middle;\n",
              "    }\n",
              "\n",
              "    .dataframe tbody tr th {\n",
              "        vertical-align: top;\n",
              "    }\n",
              "\n",
              "    .dataframe thead th {\n",
              "        text-align: right;\n",
              "    }\n",
              "</style>\n",
              "<table border=\"1\" class=\"dataframe\">\n",
              "  <thead>\n",
              "    <tr style=\"text-align: right;\">\n",
              "      <th></th>\n",
              "      <th>total_score</th>\n",
              "      <th>pca_1</th>\n",
              "    </tr>\n",
              "  </thead>\n",
              "  <tbody>\n",
              "    <tr>\n",
              "      <th>total_score</th>\n",
              "      <td>1.000000</td>\n",
              "      <td>0.044596</td>\n",
              "    </tr>\n",
              "    <tr>\n",
              "      <th>pca_1</th>\n",
              "      <td>0.044596</td>\n",
              "      <td>1.000000</td>\n",
              "    </tr>\n",
              "  </tbody>\n",
              "</table>\n",
              "</div>"
            ],
            "text/plain": [
              "             total_score     pca_1\n",
              "total_score     1.000000  0.044596\n",
              "pca_1           0.044596  1.000000"
            ]
          },
          "metadata": {
            "tags": []
          },
          "execution_count": 6
        }
      ]
    },
    {
      "cell_type": "markdown",
      "metadata": {
        "id": "9Ex6AbzZW4Xj"
      },
      "source": [
        "Question 5: If you were to choose the best variables for your model, would you prefer using the 1st principal component instead of the expenditure variables? Why?"
      ]
    },
    {
      "cell_type": "code",
      "metadata": {
        "id": "QtQQwEB4XByS",
        "colab": {
          "base_uri": "https://localhost:8080/"
        },
        "outputId": "94ae7cdc-287e-4d53-8bb1-4ceca14509cc"
      },
      "source": [
        "us_education[['total_score', \"pca_1\", \"INSTRUCTION_EXPENDITURE\", \"SUPPORT_SERVICES_EXPENDITURE\",\n",
        "                  \"OTHER_EXPENDITURE\", \"CAPITAL_OUTLAY_EXPENDITURE\"]].corr()\n",
        "print('Instruction expenditure is more correlated with total score than is the first PCA component, so we should use the instruction expenditure variable.')"
      ],
      "execution_count": null,
      "outputs": [
        {
          "output_type": "stream",
          "text": [
            "Instruction expenditure is more correlated with total score than is the first PCA component, so we should use the instruction expenditure variable.\n"
          ],
          "name": "stdout"
        }
      ]
    }
  ]
}