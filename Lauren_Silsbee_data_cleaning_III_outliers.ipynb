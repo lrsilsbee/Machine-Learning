{
  "nbformat": 4,
  "nbformat_minor": 0,
  "metadata": {
    "colab": {
      "name": "Lauren Silsbee: data cleaning III outliers.ipynb",
      "provenance": [],
      "authorship_tag": "ABX9TyPHaVvC+pW/rmtDHTeBzT4D",
      "include_colab_link": true
    },
    "kernelspec": {
      "name": "python3",
      "display_name": "Python 3"
    }
  },
  "cells": [
    {
      "cell_type": "markdown",
      "metadata": {
        "id": "view-in-github",
        "colab_type": "text"
      },
      "source": [
        "<a href=\"https://colab.research.google.com/github/lrsilsbee/Machine-Learning/blob/main/Lauren_Silsbee_data_cleaning_III_outliers.ipynb\" target=\"_parent\"><img src=\"https://colab.research.google.com/assets/colab-badge.svg\" alt=\"Open In Colab\"/></a>"
      ]
    },
    {
      "cell_type": "code",
      "metadata": {
        "id": "MVwAx_6E7fyR"
      },
      "source": [
        "import pandas as pd\n",
        "import numpy as np\n",
        "from sqlalchemy import create_engine\n",
        "import matplotlib.pyplot as plt\n",
        "from scipy.stats.mstats import winsorize\n",
        "import warnings\n",
        "\n",
        "warnings.filterwarnings('ignore')"
      ],
      "execution_count": null,
      "outputs": []
    },
    {
      "cell_type": "code",
      "metadata": {
        "id": "qvJGdoKe7uJv"
      },
      "source": [
        "postgres_user = 'dsbc_student'\n",
        "postgres_pw = '7*.8G9QH21'\n",
        "postgres_host = '142.93.121.174'\n",
        "postgres_port = '5432'\n",
        "postgres_db = 'useducation'\n",
        "\n",
        "engine = create_engine('postgresql://{}:{}@{}:{}/{}'.format(\n",
        "    postgres_user, postgres_pw, postgres_host, postgres_port, postgres_db))\n",
        "\n",
        "education_df = pd.read_sql_query('select * from useducation',con=engine)\n",
        "engine.dispose()"
      ],
      "execution_count": null,
      "outputs": []
    },
    {
      "cell_type": "code",
      "metadata": {
        "id": "rAXH2E3Q7wod",
        "colab": {
          "base_uri": "https://localhost:8080/",
          "height": 34
        },
        "outputId": "dd89b840-a6c9-49d1-f9cd-a2919ec3c8ac"
      },
      "source": [
        "#first address the missing values\n",
        "\n",
        "education_df.interpolate()\n",
        "#drop anything that is still missing:\n",
        "\n",
        "education_df.dropna(inplace=True)\n",
        "education_df.head()\n",
        "education_df.shape"
      ],
      "execution_count": null,
      "outputs": [
        {
          "output_type": "execute_result",
          "data": {
            "text/plain": [
              "(413, 25)"
            ]
          },
          "metadata": {
            "tags": []
          },
          "execution_count": 3
        }
      ]
    },
    {
      "cell_type": "markdown",
      "metadata": {
        "id": "k5aq91vE74Pe"
      },
      "source": [
        "Question 1: Consider the two variables: TOTAL_REVENUE and TOTAL_EXPENDITURE. Do these variables have outlier values?"
      ]
    },
    {
      "cell_type": "code",
      "metadata": {
        "id": "v2aQt8Kq70a9",
        "colab": {
          "base_uri": "https://localhost:8080/",
          "height": 562
        },
        "outputId": "7bc8b33c-6fe1-447b-8b7c-399e101f7536"
      },
      "source": [
        "plt.boxplot(education_df[\"TOTAL_REVENUE\"])\n",
        "plt.title(\"Box plot of total revenue (whis=1.5)\")\n",
        "plt.show()\n",
        "\n",
        "plt.boxplot(education_df[\"TOTAL_EXPENDITURE\"])\n",
        "plt.title(\"Box plot of total expenditure (whis=1.5)\")\n",
        "plt.show()\n",
        "print('Yes, both variables have outliers.')"
      ],
      "execution_count": null,
      "outputs": [
        {
          "output_type": "display_data",
          "data": {
            "image/png": "[encoded data removed]",
            "text/plain": [
              "<Figure size 432x288 with 1 Axes>"
            ]
          },
          "metadata": {
            "tags": [],
            "needs_background": "light"
          }
        },
        {
          "output_type": "display_data",
          "data": {
            "image/png": "[encoded data removed]",
            "text/plain": [
              "<Figure size 432x288 with 1 Axes>"
            ]
          },
          "metadata": {
            "tags": [],
            "needs_background": "light"
          }
        },
        {
          "output_type": "stream",
          "text": [
            "Yes, both variables have outliers.\n"
          ],
          "name": "stdout"
        }
      ]
    },
    {
      "cell_type": "markdown",
      "metadata": {
        "id": "dxioWPMV8CP7"
      },
      "source": [
        "Question 2: If you detect outliers in the TOTAL_REVENUE and TOTAL_EXPENDITURE variables, apply the techniques you learned in this checkpoint to eliminate them and validate that there's no outlier values after you handled them."
      ]
    },
    {
      "cell_type": "code",
      "metadata": {
        "id": "t2CdE9uj8DeW",
        "colab": {
          "base_uri": "https://localhost:8080/",
          "height": 562
        },
        "outputId": "be33989c-be0b-44ab-ccd5-fb8ca9b92d81"
      },
      "source": [
        "#I do not have to actually drop them, I can limit their values\n",
        "\n",
        "winsorize_REVENUE = winsorize(education_df[\"TOTAL_REVENUE\"], (0, 0.10))\n",
        "winsorize_EXPENDITURE = winsorize(education_df[\"TOTAL_EXPENDITURE\"], (0, 0.10))\n",
        "\n",
        "#check to make sure the outliers have been addressed:\n",
        "#Just do one-way winsorize because of where the outliers are\n",
        "\n",
        "\n",
        "plt.boxplot(winsorize_REVENUE, whis = 2)\n",
        "plt.title(\"Winsorize total revenue\")\n",
        "plt.show()\n",
        "\n",
        "\n",
        "plt.boxplot(winsorize_EXPENDITURE, whis = 2)\n",
        "plt.title(\"Winsorize total expenditure\")\n",
        "plt.show()\n",
        "print('Yes, it looks like the outliers have been handled.')"
      ],
      "execution_count": null,
      "outputs": [
        {
          "output_type": "display_data",
          "data": {
            "image/png": "[encoded data removed]",
            "text/plain": [
              "<Figure size 432x288 with 1 Axes>"
            ]
          },
          "metadata": {
            "tags": [],
            "needs_background": "light"
          }
        },
        {
          "output_type": "display_data",
          "data": {
            "image/png": "[encoded data removed]",
            "text/plain": [
              "<Figure size 432x288 with 1 Axes>"
            ]
          },
          "metadata": {
            "tags": [],
            "needs_background": "light"
          }
        },
        {
          "output_type": "stream",
          "text": [
            "Yes, it looks like the outliers have been handled.\n"
          ],
          "name": "stdout"
        }
      ]
    },
    {
      "cell_type": "markdown",
      "metadata": {
        "id": "x7KZl-Pj8Izy"
      },
      "source": [
        "Question 3: Create another variable by subtracting the original TOTAL_EXPENDITURE from TOTAL_REVENUE (before you eliminated the outliers). You can think of it as a kind of budget deficit in education. Do you find any outlier values in this new variable? If so, eliminate them using the technique you think most suitable."
      ]
    },
    {
      "cell_type": "code",
      "metadata": {
        "id": "9w0TveKO8MvT",
        "colab": {
          "base_uri": "https://localhost:8080/",
          "height": 562
        },
        "outputId": "b15edc9a-ac17-43fc-cb45-8ca132768107"
      },
      "source": [
        "#Create the variable:\n",
        "deficit = education_df.TOTAL_REVENUE - education_df.TOTAL_EXPENDITURE\n",
        "\n",
        "#plot to check for outliers:\n",
        "\n",
        "plt.boxplot(deficit, whis = 3)\n",
        "plt.title(\"Deficit Boxplot\")\n",
        "plt.show()\n",
        "print('Yes, there are outliers.')\n",
        "\n",
        "#address the outliers:\n",
        "#two way winsorize because there are outliers on both sides:\n",
        "\n",
        "winsorize_deficit = winsorize(deficit, (0.10, 0.05))\n",
        "plt.boxplot(winsorize_deficit, whis = 2)\n",
        "plt.title(\"Deficit Boxplot, Winsorized\")\n",
        "plt.show()\n",
        "#I had to adjust the winsorize levels to fully handle the outliers"
      ],
      "execution_count": null,
      "outputs": [
        {
          "output_type": "display_data",
          "data": {
            "image/png": "[encoded data removed]",
            "text/plain": [
              "<Figure size 432x288 with 1 Axes>"
            ]
          },
          "metadata": {
            "tags": [],
            "needs_background": "light"
          }
        },
        {
          "output_type": "stream",
          "text": [
            "Yes, there are outliers.\n"
          ],
          "name": "stdout"
        },
        {
          "output_type": "display_data",
          "data": {
            "image/png": "[encoded data removed]",
            "text/plain": [
              "<Figure size 432x288 with 1 Axes>"
            ]
          },
          "metadata": {
            "tags": [],
            "needs_background": "light"
          }
        }
      ]
    },
    {
      "cell_type": "markdown",
      "metadata": {
        "id": "lGhZdj428Qrz"
      },
      "source": [
        "Question 4: Now create another variable by subtracting the TOTAL_EXPENDITURE from TOTAL_REVENUE. This time, use the outlier eliminated versions of TOTAL_EXPENDITURE from TOTAL_REVENUE. In this newly created variable, can you find any outliers? If so, eliminate them."
      ]
    },
    {
      "cell_type": "code",
      "metadata": {
        "id": "YpBAhzD68Ue7",
        "colab": {
          "base_uri": "https://localhost:8080/",
          "height": 579
        },
        "outputId": "3668a90a-7bf8-4e82-a992-404c0e3254ad"
      },
      "source": [
        "#first create the variable:\n",
        "deficit2 = winsorize_REVENUE - winsorize_EXPENDITURE\n",
        "\n",
        "#plot to check for outliers:\n",
        "\n",
        "plt.boxplot(deficit2, whis = 5)\n",
        "plt.title(\"Deficit2 Boxplot, Winsorized\")\n",
        "plt.show()\n",
        "print('Yes, there are just a few outliers.')\n",
        "\n",
        "#winsorize again:\n",
        "\n",
        "winsorize_deficit2 = winsorize(deficit2, (0.05, 0.05))\n",
        "plt.boxplot(winsorize_deficit2, whis = 5)\n",
        "plt.title(\"Deficit2 Boxplot, Winsorized\")\n",
        "plt.show()\n",
        "print('The outliers have been addressed.')"
      ],
      "execution_count": null,
      "outputs": [
        {
          "output_type": "display_data",
          "data": {
            "image/png": "[encoded data removed]",
            "text/plain": [
              "<Figure size 432x288 with 1 Axes>"
            ]
          },
          "metadata": {
            "tags": [],
            "needs_background": "light"
          }
        },
        {
          "output_type": "stream",
          "text": [
            "Yes, there are just a few outliers.\n"
          ],
          "name": "stdout"
        },
        {
          "output_type": "display_data",
          "data": {
            "image/png": "[encoded data removed]",
            "text/plain": [
              "<Figure size 432x288 with 1 Axes>"
            ]
          },
          "metadata": {
            "tags": [],
            "needs_background": "light"
          }
        },
        {
          "output_type": "stream",
          "text": [
            "The outliers have been addressed.\n"
          ],
          "name": "stdout"
        }
      ]
    },
    {
      "cell_type": "markdown",
      "metadata": {
        "id": "oC7jO1pL8YLn"
      },
      "source": [
        "Question 5: Compare some basic descriptive statistics of the budget variables you end up with in the 3rd and the 4th questions. Do you see any differences?"
      ]
    },
    {
      "cell_type": "code",
      "metadata": {
        "id": "DW6f4iHj8cEB",
        "colab": {
          "base_uri": "https://localhost:8080/",
          "height": 88
        },
        "outputId": "7547ec98-96c7-4e07-e8a0-c7238c5e03f4"
      },
      "source": [
        "#variables: winsorize_deficit and winsorize_deficit2 \n",
        "from scipy import stats\n",
        "print(stats.describe(winsorize_deficit))\n",
        "print(stats.describe(winsorize_deficit2))\n",
        "\n",
        "print('The variables do differ. For example, the mean is -75586.53 for winsorize_deficit2 but is -44725.81 for winsorize_deficit')"
      ],
      "execution_count": null,
      "outputs": [
        {
          "output_type": "stream",
          "text": [
            "DescribeResult(nobs=413, minmax=(-556255.0, 557170.0), mean=-44725.80629539952, variance=81131778305.63716, skewness=0.05635488240547835, kurtosis=-0.06886404033977245)\n",
            "DescribeResult(nobs=413, minmax=(-563852.0, 520719.0), mean=-75586.53268765133, variance=83677070269.83693, skewness=-0.08924477969405623, kurtosis=-0.3100175450912337)\n",
            "The variables do differ. For example, the mean is -75586.53 for winsorize_deficit2 but is -44725.81 for winsorize_deficit\n"
          ],
          "name": "stdout"
        }
      ]
    },
    {
      "cell_type": "markdown",
      "metadata": {
        "id": "kF9HIipH8hSE"
      },
      "source": [
        "Question 6: If our variable of interest is the budget deficit variable, which method do you think is the appropriate in dealing with the outliers in this variable: the method in the 3rd question or the one in the 4th question?\n",
        "\n",
        "I think the variable from question 3 is more appropriate because it was only winsorized once (from the original variable). The variable from question 4 was winsorized twice."
      ]
    }
  ]
}