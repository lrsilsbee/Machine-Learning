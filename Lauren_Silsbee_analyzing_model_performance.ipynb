{
  "nbformat": 4,
  "nbformat_minor": 0,
  "metadata": {
    "colab": {
      "name": "Lauren Silsbee: analyzing model performance.ipynb",
      "provenance": [],
      "authorship_tag": "ABX9TyMTjsyFJ/eGd23I2x8mfWZ5",
      "include_colab_link": true
    },
    "kernelspec": {
      "name": "python3",
      "display_name": "Python 3"
    }
  },
  "cells": [
    {
      "cell_type": "markdown",
      "metadata": {
        "id": "view-in-github",
        "colab_type": "text"
      },
      "source": [
        "<a href=\"https://colab.research.google.com/github/lrsilsbee/Machine-Learning/blob/main/Lauren_Silsbee_analyzing_model_performance.ipynb\" target=\"_parent\"><img src=\"https://colab.research.google.com/assets/colab-badge.svg\" alt=\"Open In Colab\"/></a>"
      ]
    },
    {
      "cell_type": "code",
      "metadata": {
        "id": "N840TBRRQkq8"
      },
      "source": [
        "import matplotlib.pyplot as plt\n",
        "import numpy as np\n",
        "import pandas as pd\n",
        "import seaborn as sns\n",
        "from sklearn.linear_model import LogisticRegression\n",
        "from sklearn.model_selection import train_test_split, cross_val_score\n",
        "from sklearn.dummy import DummyClassifier\n",
        "from sklearn.metrics import confusion_matrix\n",
        "from sklearn.utils.multiclass import unique_labels\n",
        "from sklearn.metrics import accuracy_score, precision_score, recall_score, f1_score, fbeta_score, classification_report\n",
        "from sklearn.metrics import roc_curve, precision_recall_curve, roc_auc_score\n",
        "from sklearn.preprocessing import StandardScaler\n",
        "from sklearn.neighbors import KNeighborsClassifier\n",
        "from sklearn.ensemble import RandomForestClassifier\n",
        "%matplotlib inline"
      ],
      "execution_count": null,
      "outputs": []
    },
    {
      "cell_type": "markdown",
      "metadata": {
        "id": "QUKmWYrnQwd7"
      },
      "source": [
        "Load and prepare the dataset\n",
        "\n",
        "Load the training data into a dataframe named df_train_data (this step is done for you).\n",
        "\n",
        "Create binary classification problem - rename some class labels (this step done for you).\n",
        "\n",
        "Create a dataframe of 9 features named X.\n",
        "\n",
        "Create a data frame of labels named y.\n",
        "\n",
        "Split the data into a training set and a test set."
      ]
    },
    {
      "cell_type": "code",
      "metadata": {
        "id": "a7pnNhS0Q7Tn"
      },
      "source": [
        "df_train_data = pd.read_csv('http://archive.ics.uci.edu/ml/machine-learning-databases/statlog/shuttle/shuttle.tst', header=None, sep=' ')\n",
        "\n",
        "df_train_data.loc[df_train_data[9] != 4, 9] = 0\n",
        "df_train_data.loc[df_train_data[9] == 4, 9] = 1\n",
        "\n",
        "X = df_train_data.drop([9], axis=1)\n",
        "\n",
        "y = df_train_data[9]\n",
        "X_train, X_test, y_train, y_test = train_test_split(X, y)"
      ],
      "execution_count": null,
      "outputs": []
    },
    {
      "cell_type": "markdown",
      "metadata": {
        "id": "k-EQNVzhQ98x"
      },
      "source": [
        "Create the model\n",
        "\n",
        "Instantiate a Logistic Regression classifier with a lbfgs solver.\n",
        "\n",
        "Fit the classifier to the data."
      ]
    },
    {
      "cell_type": "code",
      "metadata": {
        "id": "rYWoyqOfREoD",
        "colab": {
          "base_uri": "https://localhost:8080/"
        },
        "outputId": "645ad8f8-2173-4461-ab16-148020efbe28"
      },
      "source": [
        "lr = LogisticRegression(solver='lbfgs', penalty='none', max_iter=1000)\n",
        "lr.fit(X_train, y_train)"
      ],
      "execution_count": null,
      "outputs": [
        {
          "output_type": "execute_result",
          "data": {
            "text/plain": [
              "LogisticRegression(C=1.0, class_weight=None, dual=False, fit_intercept=True,\n",
              "                   intercept_scaling=1, l1_ratio=None, max_iter=1000,\n",
              "                   multi_class='auto', n_jobs=None, penalty='none',\n",
              "                   random_state=None, solver='lbfgs', tol=0.0001, verbose=0,\n",
              "                   warm_start=False)"
            ]
          },
          "metadata": {
            "tags": []
          },
          "execution_count": 3
        }
      ]
    },
    {
      "cell_type": "markdown",
      "metadata": {
        "id": "8WL7WkagRHM6"
      },
      "source": [
        "Calculate Accuracy\n",
        "\n",
        "Calculate and print the accuracy of the model on the test data."
      ]
    },
    {
      "cell_type": "code",
      "metadata": {
        "id": "vUokI5Y4RK7U",
        "colab": {
          "base_uri": "https://localhost:8080/"
        },
        "outputId": "aeed9cf9-80c1-4862-8bca-b9a9602f0df3"
      },
      "source": [
        "print(lr.score(X_train, y_train))"
      ],
      "execution_count": null,
      "outputs": [
        {
          "output_type": "stream",
          "text": [
            "0.8238160919540229\n"
          ],
          "name": "stdout"
        }
      ]
    },
    {
      "cell_type": "markdown",
      "metadata": {
        "id": "P252Y00JROKQ"
      },
      "source": [
        "Dummy Classifier\n",
        "\n",
        "Use the dummy classifier to calculate the accuracy of a purely random chance.\n",
        "\n",
        "Compare this result to the result ofthe logistic regression classifier above. \n",
        "\n",
        "What does this result tell you?"
      ]
    },
    {
      "cell_type": "code",
      "metadata": {
        "id": "zqaI6i4ERSiQ",
        "colab": {
          "base_uri": "https://localhost:8080/"
        },
        "outputId": "9f129183-9e8c-4832-f553-233fcd739cb1"
      },
      "source": [
        "dummy = DummyClassifier(strategy = 'uniform')\n",
        "dummy.fit(X_train, y_train)\n",
        "dummy.score(X_test, y_test)"
      ],
      "execution_count": null,
      "outputs": [
        {
          "output_type": "execute_result",
          "data": {
            "text/plain": [
              "0.49131034482758623"
            ]
          },
          "metadata": {
            "tags": []
          },
          "execution_count": 5
        }
      ]
    },
    {
      "cell_type": "markdown",
      "metadata": {
        "id": "5M9H-ngjRYF_"
      },
      "source": [
        "This tells  me that the logistic regression classifier has better accuracy."
      ]
    },
    {
      "cell_type": "markdown",
      "metadata": {
        "id": "q2jF3PcCRcOA"
      },
      "source": [
        "Confusion Matrix\n",
        "\n",
        "Print the confusion matrix."
      ]
    },
    {
      "cell_type": "code",
      "metadata": {
        "id": "aQdm6XqPRe95",
        "colab": {
          "base_uri": "https://localhost:8080/"
        },
        "outputId": "1d591d68-e29e-4432-ae00-5686bf5bda47"
      },
      "source": [
        "predictions = lr.predict(X_test)\n",
        "\n",
        "confusion = confusion_matrix(y_test, predictions)\n",
        "print(confusion)"
      ],
      "execution_count": null,
      "outputs": [
        {
          "output_type": "stream",
          "text": [
            "[[2970  130]\n",
            " [ 486   39]]\n"
          ],
          "name": "stdout"
        }
      ]
    },
    {
      "cell_type": "code",
      "metadata": {
        "id": "pw2N-qQnRjUe"
      },
      "source": [
        "def plot_confusion_matrix(cm,\n",
        "                          target_names,\n",
        "                          title='Confusion matrix',\n",
        "                          cmap=None,\n",
        "                          normalize=True):\n",
        "    \"\"\"\n",
        "    given a sklearn confusion matrix (cm), make a nice plot\n",
        "\n",
        "    Arguments\n",
        "    ---------\n",
        "    cm:           confusion matrix from sklearn.metrics.confusion_matrix\n",
        "\n",
        "    target_names: given classification classes such as [0, 1, 2]\n",
        "                  the class names, for example: ['high', 'medium', 'low']\n",
        "\n",
        "    title:        the text to display at the top of the matrix\n",
        "\n",
        "    cmap:         the gradient of the values displayed from matplotlib.pyplot.cm\n",
        "                  see http://matplotlib.org/examples/color/colormaps_reference.html\n",
        "                  plt.get_cmap('jet') or plt.cm.Blues\n",
        "\n",
        "    normalize:    If False, plot the raw numbers\n",
        "                  If True, plot the proportions\n",
        "   Usage\n",
        "    -----\n",
        "    plot_confusion_matrix(cm           = cm,                  # confusion matrix created by\n",
        "                                                              # sklearn.metrics.confusion_matrix\n",
        "                          normalize    = True,                # show proportions\n",
        "                          target_names = y_labels_vals,       # list of names of the classes\n",
        "                          title        = best_estimator_name) # title of graph\n",
        "\n",
        "    Citiation\n",
        "    ---------\n",
        "    http://scikit-learn.org/stable/auto_examples/model_selection/plot_confusion_matrix.html\n",
        "\n",
        "    \"\"\"\n",
        "    import matplotlib.pyplot as plt\n",
        "    import numpy as np\n",
        "    import itertools\n",
        "\n",
        "    accuracy = np.trace(cm) / float(np.sum(cm))\n",
        "    misclass = 1 - accuracy\n",
        "\n",
        "    if cmap is None:\n",
        "        cmap = plt.get_cmap('Blues')\n",
        "\n",
        "    plt.figure(figsize=(8, 6))\n",
        "    plt.imshow(cm, interpolation='nearest', cmap=cmap)\n",
        "    plt.title(title)\n",
        "    plt.colorbar()\n",
        "\n",
        "    if target_names is not None:\n",
        "        tick_marks = np.arange(len(target_names))\n",
        "        plt.xticks(tick_marks, target_names, rotation=45)\n",
        "        plt.yticks(tick_marks, target_names)\n",
        "\n",
        "    if normalize:\n",
        "        cm = cm.astype('float') / cm.sum(axis=1)[:, np.newaxis]\n",
        "\n",
        "\n",
        "    thresh = cm.max() / 1.5 if normalize else cm.max() / 2\n",
        "    for i, j in itertools.product(range(cm.shape[0]), range(cm.shape[1])):\n",
        "        if normalize:\n",
        "            plt.text(j, i, \"{:0.4f}\".format(cm[i, j]),\n",
        "                     horizontalalignment=\"center\",\n",
        "                     color=\"white\" if cm[i, j] > thresh else \"black\")\n",
        "        else:\n",
        "            plt.text(j, i, \"{:,}\".format(cm[i, j]),\n",
        "                     horizontalalignment=\"center\",\n",
        "\n",
        "                       color=\"white\" if cm[i, j] > thresh else \"black\")\n",
        "\n",
        "\n",
        "    plt.tight_layout()\n",
        "    plt.ylabel('Predicted label')\n",
        "    plt.xlabel('True label\\naccuracy={:0.4f}; misclass={:0.4f}'.format(accuracy, misclass))\n",
        "    plt.show()"
      ],
      "execution_count": null,
      "outputs": []
    },
    {
      "cell_type": "markdown",
      "metadata": {
        "id": "Qxz7Bt5URnrJ"
      },
      "source": [
        "Plot a nicer confusion matrix (optional)\n",
        "\n",
        "Use the plot_confusion_matrix function from above to plot a nicer looking confusion matrix."
      ]
    },
    {
      "cell_type": "code",
      "metadata": {
        "id": "bkVznDPRRqmq",
        "colab": {
          "base_uri": "https://localhost:8080/",
          "height": 467
        },
        "outputId": "3537b119-6246-41ae-a81d-79cfadc3b453"
      },
      "source": [
        "plot_confusion_matrix(cm=confusion, target_names = ['Positive', 'Negative'], title = 'Confusion Matrix',normalize=False)"
      ],
      "execution_count": null,
      "outputs": [
        {
          "output_type": "display_data",
          "data": {
            "image/png": "[encoded data removed]",
            "text/plain": [
              "<Figure size 576x432 with 2 Axes>"
            ]
          },
          "metadata": {
            "tags": [],
            "needs_background": "light"
          }
        }
      ]
    },
    {
      "cell_type": "markdown",
      "metadata": {
        "id": "bO-eyUCnRv2U"
      },
      "source": [
        "Calculate Metrics\n",
        "\n",
        "Print the F1, F beta, precision, recall and accuracy scores."
      ]
    },
    {
      "cell_type": "code",
      "metadata": {
        "id": "-_A1JW63Rysn",
        "colab": {
          "base_uri": "https://localhost:8080/"
        },
        "outputId": "1ecdd57b-2d46-49bd-e876-cacc5492e618"
      },
      "source": [
        "accuracy = accuracy_score(y_test, predictions)\n",
        "precision = precision_score(y_test, predictions)\n",
        "recall = recall_score(y_test, predictions)\n",
        "f1 = f1_score(y_test, predictions)\n",
        "fbeta_precision = fbeta_score(y_test, predictions, 0.5)\n",
        "fbeta_recall = fbeta_score(y_test, predictions, 2)\n",
        "\n",
        "print('Accuracy score: {:.2f}'.format(accuracy))\n",
        "print('Precision score: {:.2f}'.format(precision))\n",
        "print('Recall score: {:.2f}'.format(recall))\n",
        "print('F1 score: {:.2f}'.format(f1))\n",
        "print('Fbeta score favoring precision: {:.2f}'.format(fbeta_precision))\n",
        "print('FBeta score favoring recall: {:.2f}'.format(fbeta_recall))"
      ],
      "execution_count": null,
      "outputs": [
        {
          "output_type": "stream",
          "text": [
            "Accuracy score: 0.83\n",
            "Precision score: 0.23\n",
            "Recall score: 0.07\n",
            "F1 score: 0.11\n",
            "Fbeta score favoring precision: 0.16\n",
            "FBeta score favoring recall: 0.09\n"
          ],
          "name": "stdout"
        }
      ]
    },
    {
      "cell_type": "markdown",
      "metadata": {
        "id": "yOYXR8P5R0xh"
      },
      "source": [
        "Print a classification report"
      ]
    },
    {
      "cell_type": "code",
      "metadata": {
        "id": "4E7IjW52R23f",
        "colab": {
          "base_uri": "https://localhost:8080/"
        },
        "outputId": "f517d02e-0038-4d3e-cc9a-32fd28ab3161"
      },
      "source": [
        "report = classification_report(y_test, predictions, target_names=['Negative', 'Positive'])\n",
        "print(report)"
      ],
      "execution_count": null,
      "outputs": [
        {
          "output_type": "stream",
          "text": [
            "              precision    recall  f1-score   support\n",
            "\n",
            "    Negative       0.86      0.96      0.91      3100\n",
            "    Positive       0.23      0.07      0.11       525\n",
            "\n",
            "    accuracy                           0.83      3625\n",
            "   macro avg       0.55      0.52      0.51      3625\n",
            "weighted avg       0.77      0.83      0.79      3625\n",
            "\n"
          ],
          "name": "stdout"
        }
      ]
    },
    {
      "cell_type": "markdown",
      "metadata": {
        "id": "7UDmNB5LR5Ok"
      },
      "source": [
        "Plot ROC Curve and AUC\n",
        "\n",
        "Caculate AUC and plot the curve."
      ]
    },
    {
      "cell_type": "code",
      "metadata": {
        "id": "R_yFZc4vR8_S",
        "colab": {
          "base_uri": "https://localhost:8080/",
          "height": 421
        },
        "outputId": "6e112fef-3688-4afb-9490-995954c76aaf"
      },
      "source": [
        "probs = lr.predict_proba(X_test)[:, 1]\n",
        "fpr, tpr, thresholds = roc_curve(y_test, probs)\n",
        "fig = plt.figure(figsize = (6, 6))\n",
        "plt.plot([0, 1], [0, 1], 'k--')\n",
        "plt.plot(fpr, tpr)\n",
        "plt.xlabel('False Positive Rate')\n",
        "plt.ylabel('True Positive Rate')\n",
        "plt.title('ROC curve for Logistic Regression Model')\n",
        "plt.show()\n",
        "\n",
        "auc = roc_auc_score(y_test, probs)\n",
        "print('Area under the ROC curve: {:.3f}'.format(auc))"
      ],
      "execution_count": null,
      "outputs": [
        {
          "output_type": "display_data",
          "data": {
            "image/png": "[encoded data removed]",
            "text/plain": [
              "<Figure size 432x432 with 1 Axes>"
            ]
          },
          "metadata": {
            "tags": [],
            "needs_background": "light"
          }
        },
        {
          "output_type": "stream",
          "text": [
            "Area under the ROC curve: 0.818\n"
          ],
          "name": "stdout"
        }
      ]
    },
    {
      "cell_type": "markdown",
      "metadata": {
        "id": "KJiytIjkR_sf"
      },
      "source": [
        "Plot Precision-Recall Curve\n",
        "\n",
        "Plot the precision-recall curve for the model above."
      ]
    },
    {
      "cell_type": "code",
      "metadata": {
        "id": "KJka8C5LSAvb",
        "colab": {
          "base_uri": "https://localhost:8080/",
          "height": 404
        },
        "outputId": "83a85437-559b-4638-cd30-3f11a8e7b106"
      },
      "source": [
        "pres, rec, thresholds = precision_recall_curve(y_test, predictions)\n",
        "fig = plt.figure(figsize = (6, 6))\n",
        "plt.plot(rec, pres)\n",
        "plt.xlabel('Recall')\n",
        "plt.ylabel('Precision')\n",
        "plt.title('Precision-Recall Curve')\n",
        "plt.show()"
      ],
      "execution_count": null,
      "outputs": [
        {
          "output_type": "display_data",
          "data": {
            "image/png": "[encoded data removed]",
            "text/plain": [
              "<Figure size 432x432 with 1 Axes>"
            ]
          },
          "metadata": {
            "tags": [],
            "needs_background": "light"
          }
        }
      ]
    },
    {
      "cell_type": "markdown",
      "metadata": {
        "id": "lMR9roLWSEcc"
      },
      "source": [
        "Find the best value for C in the Logistic Regression Classifier for avoiding overfitting. \n",
        "\n",
        "Plot the training and testing accuracy over a range of C values from 0.05 to 1.5."
      ]
    },
    {
      "cell_type": "code",
      "metadata": {
        "id": "7DfZ_AoGSIti",
        "colab": {
          "base_uri": "https://localhost:8080/",
          "height": 295
        },
        "outputId": "4d4cbc4b-e72c-4ce3-9381-25413f3b5bb2"
      },
      "source": [
        "c_vals = np.arange(0.05, 1.5, 0.05)\n",
        "test_accuracy = []\n",
        "train_accuracy = []\n",
        "\n",
        "for c in c_vals:\n",
        "  lr = LogisticRegression(solver='lbfgs', penalty='l2', C=c, max_iter=1000)\n",
        "  lr.fit(X_train, y_train)\n",
        "  test_accuracy.append(lr.score(X_test, y_test))\n",
        "  train_accuracy.append(lr.score(X_train, y_train))\n",
        "\n",
        "fig = plt.figure(figsize=(8, 4))\n",
        "ax1 = fig.add_subplot(1, 1, 1)\n",
        "ax1.plot(c_vals, test_accuracy, '-g', label='Test Accuracy')\n",
        "ax1.plot(c_vals, train_accuracy, '-b', label='Train Accuracy')\n",
        "ax1.set(xlabel='C', ylabel='Accuracy')\n",
        "ax1.set_title('Effect of C on Accuracy')\n",
        "ax1.legend()\n",
        "plt.show()"
      ],
      "execution_count": null,
      "outputs": [
        {
          "output_type": "display_data",
          "data": {
            "image/png": "[encoded data removed]",
            "text/plain": [
              "<Figure size 576x288 with 1 Axes>"
            ]
          },
          "metadata": {
            "tags": [],
            "needs_background": "light"
          }
        }
      ]
    },
    {
      "cell_type": "markdown",
      "metadata": {
        "id": "r44KGw9BSP0i"
      },
      "source": [
        "Cross Validation\n",
        "\n",
        "Perform 5-fold cross validation for a Logistic Regression Classifier. \n",
        "\n",
        "Print the 5 accuracy scores and the mean validation score."
      ]
    },
    {
      "cell_type": "code",
      "metadata": {
        "id": "uXe_vlEQSTYd",
        "colab": {
          "base_uri": "https://localhost:8080/"
        },
        "outputId": "dcb14d66-5cbc-4a0f-e292-b3aa119819bd"
      },
      "source": [
        "clf = LogisticRegression(solver='lbfgs', max_iter=1000)\n",
        "cv_scores = cross_val_score(clf, X_train, y_train, cv = 5)\n",
        "\n",
        "print('Accuracy scores for the 5 folds: ', cv_scores)\n",
        "print('Mean cross validation score: {:.3f}'.format(np.mean(cv_scores)))"
      ],
      "execution_count": null,
      "outputs": [
        {
          "output_type": "stream",
          "text": [
            "Accuracy scores for the 5 folds:  [0.8183908  0.82390805 0.82298851 0.8308046  0.82206897]\n",
            "Mean cross validation score: 0.824\n"
          ],
          "name": "stdout"
        }
      ]
    },
    {
      "cell_type": "markdown",
      "metadata": {
        "id": "5KZptFulSWYf"
      },
      "source": [
        "Is this really linear?\n",
        "\n",
        "Instantiate and train a KNN model with k = 7. How does the accuracy of the KNN model compare to the Logistic Regression from above? What does that tell you about the data?"
      ]
    },
    {
      "cell_type": "code",
      "metadata": {
        "id": "5sfDUf_XSZJa",
        "colab": {
          "base_uri": "https://localhost:8080/"
        },
        "outputId": "c3fe8baa-cb27-4ef7-d099-400e02b066b8"
      },
      "source": [
        "knn = KNeighborsClassifier(n_neighbors=7)\n",
        "\n",
        "knn.fit(X_train, y_train)\n",
        "knn_7_score = knn.score(X_test, y_test)\n",
        "print('Accuracy of KNN (k = 7): {:.3f}'.format(knn_7_score))"
      ],
      "execution_count": null,
      "outputs": [
        {
          "output_type": "stream",
          "text": [
            "Accuracy of KNN (k = 7): 0.999\n"
          ],
          "name": "stdout"
        }
      ]
    },
    {
      "cell_type": "markdown",
      "metadata": {
        "id": "RadjPcWrSiPT"
      },
      "source": [
        "It appears that the KNN model fits the data better."
      ]
    },
    {
      "cell_type": "markdown",
      "metadata": {
        "id": "XuzCUY6fSlRv"
      },
      "source": [
        "Random Forest\n",
        "\n",
        "Next, instantiate and fit a RandomForestClassifier and calculate the accuracy of that model."
      ]
    },
    {
      "cell_type": "code",
      "metadata": {
        "id": "atUGLswYSoVP",
        "colab": {
          "base_uri": "https://localhost:8080/"
        },
        "outputId": "420d19e0-5a84-4809-dad3-e4088f766369"
      },
      "source": [
        "rf = RandomForestClassifier(n_estimators = 22, random_state = 40)\n",
        "\n",
        "rf.fit(X_train,y_train)\n",
        "\n",
        "rf_score = rf.score(X_test, y_test)\n",
        "\n",
        "print('Accuracy of Random Forest: {:.3f}'.format(rf_score))"
      ],
      "execution_count": null,
      "outputs": [
        {
          "output_type": "stream",
          "text": [
            "Accuracy of Random Forest: 1.000\n"
          ],
          "name": "stdout"
        }
      ]
    },
    {
      "cell_type": "markdown",
      "metadata": {
        "id": "GIwew4YJSpUL"
      },
      "source": [
        "It looks like the random forest fits it the best."
      ]
    }
  ]
}