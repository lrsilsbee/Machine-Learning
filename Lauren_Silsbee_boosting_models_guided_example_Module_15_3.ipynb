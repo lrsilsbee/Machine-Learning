{
  "nbformat": 4,
  "nbformat_minor": 0,
  "metadata": {
    "colab": {
      "name": "Lauren Silsbee: boosting models guided example_Module 15.3.ipynb",
      "provenance": [],
      "authorship_tag": "ABX9TyOB9T2djjaiRHY+9CCuLUGS",
      "include_colab_link": true
    },
    "kernelspec": {
      "name": "python3",
      "display_name": "Python 3"
    }
  },
  "cells": [
    {
      "cell_type": "markdown",
      "metadata": {
        "id": "view-in-github",
        "colab_type": "text"
      },
      "source": [
        "<a href=\"https://colab.research.google.com/github/lrsilsbee/Machine-Learning/blob/main/Lauren_Silsbee_boosting_models_guided_example_Module_15_3.ipynb\" target=\"_parent\"><img src=\"https://colab.research.google.com/assets/colab-badge.svg\" alt=\"Open In Colab\"/></a>"
      ]
    },
    {
      "cell_type": "code",
      "metadata": {
        "id": "T5RR_bR1weMv"
      },
      "source": [
        "import itertools\n",
        "import pandas as pd\n",
        "import numpy as np\n",
        "import matplotlib.pyplot as plt\n",
        "%matplotlib inline\n",
        "\n",
        "from sklearn.metrics import confusion_matrix, precision_score, recall_score\n",
        "from sklearn import ensemble"
      ],
      "execution_count": null,
      "outputs": []
    },
    {
      "cell_type": "code",
      "metadata": {
        "id": "MEIyHgZVwyDi"
      },
      "source": [
        "df = pd.read_csv((\n",
        "    \"https://raw.githubusercontent.com/Thinkful-Ed/data-201-resources/\"\n",
        "    \"master/ESS_practice_data/ESSdata_Thinkful.csv\")).dropna()\n",
        "\n",
        "# Define outcome and predictors.\n",
        "# Set the outcomes to `0` and `1`.\n",
        "y = df['partner'] - 1\n",
        "X = df.loc[:, ~df.columns.isin(['partner', 'cntry', 'idno'])]\n",
        "\n",
        "# Make the categorical variable `country` into dummies.\n",
        "X = pd.concat([X, pd.get_dummies(df['cntry'])], axis=1)\n",
        "\n",
        "# Create training and test sets.\n",
        "offset = int(X.shape[0] * 0.8)\n",
        "\n",
        "# Put 80% of the data in the training set.\n",
        "X_train, y_train = X[:offset], y[:offset]\n",
        "\n",
        "# And put 20% in the test set.\n",
        "X_test, y_test = X[offset:], y[offset:]"
      ],
      "execution_count": null,
      "outputs": []
    },
    {
      "cell_type": "code",
      "metadata": {
        "id": "gBwZ_55fw18S"
      },
      "source": [
        "# You'll make 500 iterations, use 2-deep trees, and set your loss function.\n",
        "\n",
        "# It's best to update this table for the drill \n",
        "# at the end of the checkpoint.\n",
        "\n",
        "params = {'n_estimators': 500,\n",
        "          'max_depth': 2,\n",
        "          'loss': 'deviance'}\n",
        "\n",
        "# Initialize and fit the model.\n",
        "clf = ensemble.GradientBoostingClassifier(**params)\n",
        "clf.fit(X_train, y_train)\n",
        "\n",
        "predict_train = clf.predict(X_train)\n",
        "predict_test = clf.predict(X_test)"
      ],
      "execution_count": null,
      "outputs": []
    },
    {
      "cell_type": "code",
      "metadata": {
        "id": "e4UtNnuHw6LY"
      },
      "source": [
        "def plot_confusion_matrix(cm, classes,normalize,\n",
        "                          title='Confusion matrix',\n",
        "                          cmap=plt.cm.Blues):\n",
        "    \"\"\"\n",
        "    This function prints and plots the confusion matrix.\n",
        "    Normalization can be applied by setting `normalize=True`.\n",
        "    \"\"\"\n",
        "    if normalize:\n",
        "        cm = cm.astype('float') / cm.sum(axis=1)[:, np.newaxis]\n",
        "        print(\"Normalized confusion matrix\")\n",
        "    else:\n",
        "        print('Confusion matrix, without normalization')\n",
        "\n",
        "    plt.imshow(cm, interpolation='nearest', cmap=cmap)\n",
        "    plt.title(title)\n",
        "    plt.colorbar()\n",
        "    tick_marks = np.arange(len(classes))\n",
        "    plt.xticks(tick_marks, classes)\n",
        "    plt.yticks(tick_marks, classes)\n",
        "    fmt = '.2f' if normalize else 'd'\n",
        "    thresh = cm.max() / 2.\n",
        "    for i, j in itertools.product(range(cm.shape[0]), range(cm.shape[1])):\n",
        "        plt.text(j, i, format(cm[i, j], fmt),\n",
        "                 horizontalalignment=\"center\", verticalalignment=\"center\",\n",
        "                 color=\"white\" if cm[i, j] > thresh else \"black\")\n",
        "    plt.ylabel('True label')\n",
        "    plt.xlabel('Predicted label')"
      ],
      "execution_count": null,
      "outputs": []
    },
    {
      "cell_type": "code",
      "metadata": {
        "colab": {
          "base_uri": "https://localhost:8080/",
          "height": 312
        },
        "id": "QvF50sUbw-gV",
        "outputId": "2d9c295e-bfcd-4767-8759-6f6194d8f839"
      },
      "source": [
        "cm = confusion_matrix(y_test, predict_test)\n",
        "plot_confusion_matrix(cm,[0,1],False)"
      ],
      "execution_count": null,
      "outputs": [
        {
          "output_type": "stream",
          "text": [
            "Confusion matrix, without normalization\n"
          ],
          "name": "stdout"
        },
        {
          "output_type": "display_data",
          "data": {
            "image/png": "[encoded data removed]",
            "text/plain": [
              "<Figure size 432x288 with 2 Axes>"
            ]
          },
          "metadata": {
            "tags": [],
            "needs_background": "light"
          }
        }
      ]
    },
    {
      "cell_type": "code",
      "metadata": {
        "colab": {
          "base_uri": "https://localhost:8080/",
          "height": 312
        },
        "id": "eH_1cxqSxBHU",
        "outputId": "45324bb8-18ca-43d1-e746-3c667123c0a5"
      },
      "source": [
        "cm = confusion_matrix(y_test, predict_test)\n",
        "plot_confusion_matrix(cm,[0,1],True)"
      ],
      "execution_count": null,
      "outputs": [
        {
          "output_type": "stream",
          "text": [
            "Normalized confusion matrix\n"
          ],
          "name": "stdout"
        },
        {
          "output_type": "display_data",
          "data": {
            "image/png": "[encoded data removed]",
            "text/plain": [
              "<Figure size 432x288 with 2 Axes>"
            ]
          },
          "metadata": {
            "tags": [],
            "needs_background": "light"
          }
        }
      ]
    },
    {
      "cell_type": "code",
      "metadata": {
        "colab": {
          "base_uri": "https://localhost:8080/"
        },
        "id": "R575KcAOxFNE",
        "outputId": "d3d3d75e-e7fd-471f-9777-878750dc34fa"
      },
      "source": [
        "clf.score(X_test, y_test)"
      ],
      "execution_count": null,
      "outputs": [
        {
          "output_type": "execute_result",
          "data": {
            "text/plain": [
              "0.747239263803681"
            ]
          },
          "metadata": {
            "tags": []
          },
          "execution_count": 7
        }
      ]
    },
    {
      "cell_type": "code",
      "metadata": {
        "colab": {
          "base_uri": "https://localhost:8080/"
        },
        "id": "tteXwB0pxIr6",
        "outputId": "8686103d-3ea1-4916-a3ce-b2fa4b981932"
      },
      "source": [
        "y_pred = clf.predict(X_test)\n",
        "precision_score(y_test,y_pred)"
      ],
      "execution_count": null,
      "outputs": [
        {
          "output_type": "execute_result",
          "data": {
            "text/plain": [
              "0.7035647279549718"
            ]
          },
          "metadata": {
            "tags": []
          },
          "execution_count": 8
        }
      ]
    },
    {
      "cell_type": "code",
      "metadata": {
        "colab": {
          "base_uri": "https://localhost:8080/"
        },
        "id": "7-yR3R-OxKQN",
        "outputId": "ebd27dd6-8b19-47fe-dce4-a7462264766f"
      },
      "source": [
        "recall_score(y_test,y_pred)"
      ],
      "execution_count": null,
      "outputs": [
        {
          "output_type": "execute_result",
          "data": {
            "text/plain": [
              "0.5961844197138315"
            ]
          },
          "metadata": {
            "tags": []
          },
          "execution_count": 9
        }
      ]
    },
    {
      "cell_type": "code",
      "metadata": {
        "colab": {
          "base_uri": "https://localhost:8080/",
          "height": 295
        },
        "id": "7FC6gFofxMjt",
        "outputId": "54308cbc-384a-4c69-98df-8417e87931e7"
      },
      "source": [
        "feature_importance = clf.feature_importances_\n",
        "\n",
        "# Make importances relative to max importance.\n",
        "feature_importance = 100.0 * (feature_importance / feature_importance.max())\n",
        "sorted_idx = np.argsort(feature_importance)\n",
        "pos = np.arange(sorted_idx.shape[0]) + .5\n",
        "plt.subplot(1, 2, 2)\n",
        "plt.barh(pos, feature_importance[sorted_idx], align='center')\n",
        "plt.yticks(pos, X.columns[sorted_idx])\n",
        "plt.xlabel('Relative Importance')\n",
        "plt.title('Variable Importance')\n",
        "plt.show()"
      ],
      "execution_count": null,
      "outputs": [
        {
          "output_type": "display_data",
          "data": {
            "image/png": "[encoded data removed]",
            "text/plain": [
              "<Figure size 432x288 with 1 Axes>"
            ]
          },
          "metadata": {
            "tags": [],
            "needs_background": "light"
          }
        }
      ]
    },
    {
      "cell_type": "markdown",
      "metadata": {
        "id": "j8AzGfPwx8wU"
      },
      "source": [
        "Try to improve the model, using the same metrics to evaluate results (precision, accuracy, recall).\n",
        "\n",
        "A few possible parameters to tune:\n",
        "\n",
        "learning_rate max_depth n_estimators loss subsample min_samples_split"
      ]
    },
    {
      "cell_type": "code",
      "metadata": {
        "id": "c4ZeyzAbxU3x"
      },
      "source": [
        "#try increasing depth\n",
        "params = {'n_estimators': 500,\n",
        "          'max_depth': 4,\n",
        "          'loss': 'deviance'}\n",
        "\n",
        "# Initialize and fit the model.\n",
        "clf = ensemble.GradientBoostingClassifier(**params)\n",
        "clf.fit(X_train, y_train)\n",
        "\n",
        "predict_train = clf.predict(X_train)\n",
        "predict_test = clf.predict(X_test)"
      ],
      "execution_count": null,
      "outputs": []
    },
    {
      "cell_type": "code",
      "metadata": {
        "colab": {
          "base_uri": "https://localhost:8080/"
        },
        "id": "N8MHM3IlyAtA",
        "outputId": "67307d67-c5a2-41a1-ee68-1f2a275bd9fa"
      },
      "source": [
        "#accuracy\n",
        "clf.score(X_test, y_test)"
      ],
      "execution_count": null,
      "outputs": [
        {
          "output_type": "execute_result",
          "data": {
            "text/plain": [
              "0.7460122699386503"
            ]
          },
          "metadata": {
            "tags": []
          },
          "execution_count": 12
        }
      ]
    },
    {
      "cell_type": "code",
      "metadata": {
        "colab": {
          "base_uri": "https://localhost:8080/"
        },
        "id": "7d-ajX6CyGUM",
        "outputId": "f036677d-94fb-470b-c95d-e576c4adf898"
      },
      "source": [
        "#precision\n",
        "y_pred = clf.predict(X_test)\n",
        "precision_score(y_test,y_pred)"
      ],
      "execution_count": null,
      "outputs": [
        {
          "output_type": "execute_result",
          "data": {
            "text/plain": [
              "0.6972477064220184"
            ]
          },
          "metadata": {
            "tags": []
          },
          "execution_count": 13
        }
      ]
    },
    {
      "cell_type": "code",
      "metadata": {
        "colab": {
          "base_uri": "https://localhost:8080/"
        },
        "id": "wxLdXK0SyJqn",
        "outputId": "1e1dba2f-7f2e-49b9-aadd-a6d42f7422b9"
      },
      "source": [
        "#recall\n",
        "recall_score(y_test,y_pred)"
      ],
      "execution_count": null,
      "outputs": [
        {
          "output_type": "execute_result",
          "data": {
            "text/plain": [
              "0.604133545310016"
            ]
          },
          "metadata": {
            "tags": []
          },
          "execution_count": 14
        }
      ]
    },
    {
      "cell_type": "markdown",
      "metadata": {
        "id": "buQrhbz_ygOW"
      },
      "source": [
        "Well that didn't improve things. Maybe try a different loss"
      ]
    },
    {
      "cell_type": "code",
      "metadata": {
        "id": "L9of4vFgyOnD"
      },
      "source": [
        "params = {'n_estimators': 500,\n",
        "          'max_depth': 2,\n",
        "          'loss': 'exponential'}\n",
        "\n",
        "# Initialize and fit the model.\n",
        "clf = ensemble.GradientBoostingClassifier(**params)\n",
        "clf.fit(X_train, y_train)\n",
        "\n",
        "predict_train = clf.predict(X_train)\n",
        "predict_test = clf.predict(X_test)"
      ],
      "execution_count": null,
      "outputs": []
    },
    {
      "cell_type": "code",
      "metadata": {
        "colab": {
          "base_uri": "https://localhost:8080/"
        },
        "id": "63jHD5P3yjOw",
        "outputId": "338a05dd-9db6-4ba1-8540-3d9897b36516"
      },
      "source": [
        "#accuracy\n",
        "clf.score(X_test, y_test)"
      ],
      "execution_count": null,
      "outputs": [
        {
          "output_type": "execute_result",
          "data": {
            "text/plain": [
              "0.7404907975460123"
            ]
          },
          "metadata": {
            "tags": []
          },
          "execution_count": 16
        }
      ]
    },
    {
      "cell_type": "code",
      "metadata": {
        "colab": {
          "base_uri": "https://localhost:8080/"
        },
        "id": "Db5miusaynbG",
        "outputId": "5f070338-5600-4bb1-8cc8-6e5cca104720"
      },
      "source": [
        "#precision\n",
        "y_pred = clf.predict(X_test)\n",
        "precision_score(y_test,y_pred)"
      ],
      "execution_count": null,
      "outputs": [
        {
          "output_type": "execute_result",
          "data": {
            "text/plain": [
              "0.6886446886446886"
            ]
          },
          "metadata": {
            "tags": []
          },
          "execution_count": 17
        }
      ]
    },
    {
      "cell_type": "code",
      "metadata": {
        "colab": {
          "base_uri": "https://localhost:8080/"
        },
        "id": "KiRmF_SRyp9T",
        "outputId": "a0f4bf17-6aa7-4e31-be51-24aa1e3fb1d8"
      },
      "source": [
        "#recall\n",
        "recall_score(y_test,y_pred)"
      ],
      "execution_count": null,
      "outputs": [
        {
          "output_type": "execute_result",
          "data": {
            "text/plain": [
              "0.5977742448330684"
            ]
          },
          "metadata": {
            "tags": []
          },
          "execution_count": 18
        }
      ]
    },
    {
      "cell_type": "markdown",
      "metadata": {
        "id": "J9T5l6HYyv_W"
      },
      "source": [
        "That actually lowered the precision late. Trying adjusting learning rate"
      ]
    },
    {
      "cell_type": "code",
      "metadata": {
        "id": "TdUXqZoeytGN"
      },
      "source": [
        "params = {'n_estimators': 500,\n",
        "          'max_depth': 2,\n",
        "          'learning_rate': 0.01,\n",
        "          'loss': 'deviance'}\n",
        "\n",
        "# Initialize and fit the model.\n",
        "clf = ensemble.GradientBoostingClassifier(**params)\n",
        "clf.fit(X_train, y_train)\n",
        "\n",
        "predict_train = clf.predict(X_train)\n",
        "predict_test = clf.predict(X_test)"
      ],
      "execution_count": null,
      "outputs": []
    },
    {
      "cell_type": "code",
      "metadata": {
        "colab": {
          "base_uri": "https://localhost:8080/"
        },
        "id": "EJrVrBhJyzWC",
        "outputId": "bedbc189-6450-4c98-96e7-8424ba0626b1"
      },
      "source": [
        "#accuracy\n",
        "clf.score(X_test, y_test)"
      ],
      "execution_count": null,
      "outputs": [
        {
          "output_type": "execute_result",
          "data": {
            "text/plain": [
              "0.7404907975460123"
            ]
          },
          "metadata": {
            "tags": []
          },
          "execution_count": 20
        }
      ]
    },
    {
      "cell_type": "code",
      "metadata": {
        "colab": {
          "base_uri": "https://localhost:8080/"
        },
        "id": "qILa-iQJy147",
        "outputId": "50ca30cf-159d-4b8e-c1c3-1058ef0db410"
      },
      "source": [
        "#precision\n",
        "y_pred = clf.predict(X_test)\n",
        "precision_score(y_test,y_pred)"
      ],
      "execution_count": null,
      "outputs": [
        {
          "output_type": "execute_result",
          "data": {
            "text/plain": [
              "0.7783783783783784"
            ]
          },
          "metadata": {
            "tags": []
          },
          "execution_count": 21
        }
      ]
    },
    {
      "cell_type": "code",
      "metadata": {
        "colab": {
          "base_uri": "https://localhost:8080/"
        },
        "id": "ftVnFV23y5lT",
        "outputId": "eb8315cc-ad2b-4782-cc5b-41155c66fa09"
      },
      "source": [
        "#recall\n",
        "recall_score(y_test,y_pred)"
      ],
      "execution_count": null,
      "outputs": [
        {
          "output_type": "execute_result",
          "data": {
            "text/plain": [
              "0.4578696343402226"
            ]
          },
          "metadata": {
            "tags": []
          },
          "execution_count": 22
        }
      ]
    },
    {
      "cell_type": "markdown",
      "metadata": {
        "id": "hhtyZ3CYy-uq"
      },
      "source": [
        "That improved the precision but lowered the recall (makes sense since there is a tradeoff). Try a different learning rate"
      ]
    },
    {
      "cell_type": "code",
      "metadata": {
        "id": "nLi1r3ely8Jo"
      },
      "source": [
        "params = {'n_estimators': 500,\n",
        "          'max_depth': 2,\n",
        "          'learning_rate': 0.05,\n",
        "          'loss': 'deviance'}\n",
        "\n",
        "# Initialize and fit the model.\n",
        "clf = ensemble.GradientBoostingClassifier(**params)\n",
        "clf.fit(X_train, y_train)\n",
        "\n",
        "predict_train = clf.predict(X_train)\n",
        "predict_test = clf.predict(X_test)"
      ],
      "execution_count": null,
      "outputs": []
    },
    {
      "cell_type": "code",
      "metadata": {
        "colab": {
          "base_uri": "https://localhost:8080/"
        },
        "id": "YTTRpWk3zBun",
        "outputId": "4b6afff9-1b3f-4735-9fcd-919953d49668"
      },
      "source": [
        "#accuracy\n",
        "clf.score(X_test, y_test)"
      ],
      "execution_count": null,
      "outputs": [
        {
          "output_type": "execute_result",
          "data": {
            "text/plain": [
              "0.747239263803681"
            ]
          },
          "metadata": {
            "tags": []
          },
          "execution_count": 24
        }
      ]
    },
    {
      "cell_type": "code",
      "metadata": {
        "colab": {
          "base_uri": "https://localhost:8080/"
        },
        "id": "QHqWrTvZzEJA",
        "outputId": "087dbe7e-3e02-4f69-f9b8-fb14a1f987a2"
      },
      "source": [
        "#precision\n",
        "y_pred = clf.predict(X_test)\n",
        "precision_score(y_test,y_pred)"
      ],
      "execution_count": null,
      "outputs": [
        {
          "output_type": "execute_result",
          "data": {
            "text/plain": [
              "0.7246376811594203"
            ]
          },
          "metadata": {
            "tags": []
          },
          "execution_count": 25
        }
      ]
    },
    {
      "cell_type": "code",
      "metadata": {
        "colab": {
          "base_uri": "https://localhost:8080/"
        },
        "id": "YqVc7vjPzHyz",
        "outputId": "7c1248fa-7216-4860-93a0-2dc8c8110d9e"
      },
      "source": [
        "#recall\n",
        "recall_score(y_test,y_pred)"
      ],
      "execution_count": null,
      "outputs": [
        {
          "output_type": "execute_result",
          "data": {
            "text/plain": [
              "0.5564387917329093"
            ]
          },
          "metadata": {
            "tags": []
          },
          "execution_count": 26
        }
      ]
    },
    {
      "cell_type": "markdown",
      "metadata": {
        "id": "BPRIk9AgzNrp"
      },
      "source": [
        "That learning rate didn't do as well. Stick with .01 and maybe increase the iterations."
      ]
    },
    {
      "cell_type": "code",
      "metadata": {
        "id": "spYf5_0LzLfH"
      },
      "source": [
        "params = {'n_estimators': 1000,\n",
        "          'max_depth': 2,\n",
        "          'learning_rate': 0.01,\n",
        "          'loss': 'deviance'}\n",
        "\n",
        "# Initialize and fit the model.\n",
        "clf = ensemble.GradientBoostingClassifier(**params)\n",
        "clf.fit(X_train, y_train)\n",
        "\n",
        "predict_train = clf.predict(X_train)\n",
        "predict_test = clf.predict(X_test)"
      ],
      "execution_count": null,
      "outputs": []
    },
    {
      "cell_type": "code",
      "metadata": {
        "colab": {
          "base_uri": "https://localhost:8080/"
        },
        "id": "9oHt1shWzQKU",
        "outputId": "c5706194-1961-4d85-dd1f-e56265284f5c"
      },
      "source": [
        "#accuracy\n",
        "clf.score(X_test, y_test)"
      ],
      "execution_count": null,
      "outputs": [
        {
          "output_type": "execute_result",
          "data": {
            "text/plain": [
              "0.7404907975460123"
            ]
          },
          "metadata": {
            "tags": []
          },
          "execution_count": 28
        }
      ]
    },
    {
      "cell_type": "code",
      "metadata": {
        "colab": {
          "base_uri": "https://localhost:8080/"
        },
        "id": "ziIa7KXKzTMi",
        "outputId": "0c4ed822-8bb0-4b88-b294-f847e0409289"
      },
      "source": [
        "#precision\n",
        "y_pred = clf.predict(X_test)\n",
        "precision_score(y_test,y_pred)"
      ],
      "execution_count": null,
      "outputs": [
        {
          "output_type": "execute_result",
          "data": {
            "text/plain": [
              "0.76010101010101"
            ]
          },
          "metadata": {
            "tags": []
          },
          "execution_count": 29
        }
      ]
    },
    {
      "cell_type": "code",
      "metadata": {
        "colab": {
          "base_uri": "https://localhost:8080/"
        },
        "id": "yeZcUq1IzWZy",
        "outputId": "126a642a-bedd-4293-ea2d-36c6220a8de1"
      },
      "source": [
        "#recall\n",
        "recall_score(y_test,y_pred)"
      ],
      "execution_count": null,
      "outputs": [
        {
          "output_type": "execute_result",
          "data": {
            "text/plain": [
              "0.4785373608903021"
            ]
          },
          "metadata": {
            "tags": []
          },
          "execution_count": 31
        }
      ]
    },
    {
      "cell_type": "markdown",
      "metadata": {
        "id": "FpBxunyDzcuZ"
      },
      "source": [
        "Adjusting the learning rate seemed to improve the precision the most, but at a cost to the recall rate. Changing the loss to expontential worsened the model. Increasing the iterations also did not help, neither did changing the max depth. I'm sure something else could help. Perhaps including additional explanatory variables or using different overfitting techniques like subsampling."
      ]
    },
    {
      "cell_type": "code",
      "metadata": {
        "id": "1yWxpz6OzYdf"
      },
      "source": [
        ""
      ],
      "execution_count": null,
      "outputs": []
    }
  ]
}